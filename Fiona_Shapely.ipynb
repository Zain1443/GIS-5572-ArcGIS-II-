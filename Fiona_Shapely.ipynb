{
 "cells": [
  {
   "cell_type": "markdown",
   "id": "2d3124f7-9f88-4c8a-b16c-dda1d7f7f3ac",
   "metadata": {},
   "source": [
    "# ArcGIS II Notebook"
   ]
  },
  {
   "cell_type": "markdown",
   "id": "933b329a-a319-4a06-957a-6969c323cc7e",
   "metadata": {},
   "source": [
    "### Import Modules"
   ]
  },
  {
   "cell_type": "code",
   "execution_count": 18,
   "id": "80c24d0a-100c-488a-a16d-1d4ac6ec7fc4",
   "metadata": {},
   "outputs": [],
   "source": [
    "# for reading and writing geospatial data files\n",
    "import fiona \n",
    "\n",
    "# for creating and manipulating geometries (Point, LineString, Polygon)\n",
    "from shapely.geometry import Point, LineString, Polygon\n",
    "\n",
    "# for working with geospatial data in a tabular form (GeoDataFrame)\n",
    "import geopandas as gpd\n",
    "\n",
    "# for creating static, interactive, and animated visualizations (Not mandatory)\n",
    "import matplotlib.pyplot as plt\n",
    "\n",
    "#  for adding basemaps to GeoDataFrames for better visualization (Not mandatory)\n",
    "import contextily as ctx"
   ]
  },
  {
   "cell_type": "markdown",
   "id": "88574ef3-c5d7-4d37-9f51-4d6c66345f17",
   "metadata": {},
   "source": [
    "### Install Modules"
   ]
  },
  {
   "cell_type": "code",
   "execution_count": 23,
   "id": "8ca2bf59-62b0-4b9d-ace0-5a3aea26de10",
   "metadata": {},
   "outputs": [
    {
     "name": "stdout",
     "output_type": "stream",
     "text": [
      "Collecting contextily\n",
      "  Downloading contextily-1.5.0-py3-none-any.whl (17 kB)\n",
      "Requirement already satisfied: geopy in /opt/conda/lib/python3.9/site-packages (from contextily) (2.2.0)\n",
      "Requirement already satisfied: pillow in /opt/conda/lib/python3.9/site-packages (from contextily) (8.4.0)\n",
      "Requirement already satisfied: matplotlib in /opt/conda/lib/python3.9/site-packages (from contextily) (3.5.1)\n",
      "Requirement already satisfied: rasterio in /opt/conda/lib/python3.9/site-packages (from contextily) (1.2.10)\n",
      "Requirement already satisfied: requests in /opt/conda/lib/python3.9/site-packages (from contextily) (2.26.0)\n",
      "Requirement already satisfied: joblib in /opt/conda/lib/python3.9/site-packages (from contextily) (1.1.0)\n",
      "Collecting mercantile\n",
      "  Downloading mercantile-1.2.1-py3-none-any.whl (14 kB)\n",
      "Requirement already satisfied: xyzservices in /opt/conda/lib/python3.9/site-packages (from contextily) (2021.11.0)\n",
      "Requirement already satisfied: geographiclib<2,>=1.49 in /opt/conda/lib/python3.9/site-packages (from geopy->contextily) (1.52)\n",
      "Requirement already satisfied: fonttools>=4.22.0 in /opt/conda/lib/python3.9/site-packages (from matplotlib->contextily) (4.28.5)\n",
      "Requirement already satisfied: cycler>=0.10 in /opt/conda/lib/python3.9/site-packages (from matplotlib->contextily) (0.11.0)\n",
      "Requirement already satisfied: pyparsing>=2.2.1 in /opt/conda/lib/python3.9/site-packages (from matplotlib->contextily) (3.0.6)\n",
      "Requirement already satisfied: kiwisolver>=1.0.1 in /opt/conda/lib/python3.9/site-packages (from matplotlib->contextily) (1.3.2)\n",
      "Requirement already satisfied: packaging>=20.0 in /opt/conda/lib/python3.9/site-packages (from matplotlib->contextily) (21.3)\n",
      "Requirement already satisfied: python-dateutil>=2.7 in /opt/conda/lib/python3.9/site-packages (from matplotlib->contextily) (2.8.0)\n",
      "Requirement already satisfied: numpy>=1.17 in /opt/conda/lib/python3.9/site-packages (from matplotlib->contextily) (1.20.3)\n",
      "Requirement already satisfied: click>=3.0 in /opt/conda/lib/python3.9/site-packages (from mercantile->contextily) (8.0.3)\n",
      "Requirement already satisfied: cligj>=0.5 in /opt/conda/lib/python3.9/site-packages (from rasterio->contextily) (0.7.2)\n",
      "Requirement already satisfied: snuggs>=1.4.1 in /opt/conda/lib/python3.9/site-packages (from rasterio->contextily) (1.4.7)\n",
      "Requirement already satisfied: click-plugins in /opt/conda/lib/python3.9/site-packages (from rasterio->contextily) (1.1.1)\n",
      "Requirement already satisfied: affine in /opt/conda/lib/python3.9/site-packages (from rasterio->contextily) (2.3.0)\n",
      "Requirement already satisfied: attrs in /opt/conda/lib/python3.9/site-packages (from rasterio->contextily) (21.2.0)\n",
      "Requirement already satisfied: setuptools in /opt/conda/lib/python3.9/site-packages (from rasterio->contextily) (60.1.0)\n",
      "Requirement already satisfied: certifi in /opt/conda/lib/python3.9/site-packages (from rasterio->contextily) (2021.10.8)\n",
      "Requirement already satisfied: idna<4,>=2.5 in /opt/conda/lib/python3.9/site-packages (from requests->contextily) (3.1)\n",
      "Requirement already satisfied: urllib3<1.27,>=1.21.1 in /opt/conda/lib/python3.9/site-packages (from requests->contextily) (1.25.11)\n",
      "Requirement already satisfied: charset-normalizer~=2.0.0 in /opt/conda/lib/python3.9/site-packages (from requests->contextily) (2.0.9)\n",
      "Requirement already satisfied: six>=1.5 in /opt/conda/lib/python3.9/site-packages (from python-dateutil>=2.7->matplotlib->contextily) (1.16.0)\n",
      "Installing collected packages: mercantile, contextily\n",
      "Successfully installed contextily-1.5.0 mercantile-1.2.1\n",
      "Note: you may need to restart the kernel to use updated packages.\n"
     ]
    }
   ],
   "source": [
    "pip install contextily"
   ]
  },
  {
   "cell_type": "markdown",
   "id": "374e8ec6-073f-43c6-8b26-dcfd29052a95",
   "metadata": {},
   "source": [
    "### Creating feature classes:"
   ]
  },
  {
   "cell_type": "code",
   "execution_count": 11,
   "id": "47c0d216-3b40-444e-b973-09275a47440b",
   "metadata": {},
   "outputs": [],
   "source": [
    "# Define the complete paths to the output shapefiles\n",
    "#Point\n",
    "output_point_shapefile = r\"Feature Class/FeatureClass_Point.shp\"\n",
    "\n",
    "#Polyline\n",
    "output_line_shapefile = r\"Feature Class\\FeatureClass_Line.shp\"\n",
    "\n",
    "#Polygon\n",
    "output_polygon_shapefile = r\"Feature Class\\FeatureClass_Polygon.shp\"\n",
    "\n",
    "# Define the geometry types \n",
    "geometry_type_point = 'Point'\n",
    "geometry_type_line = 'LineString'\n",
    "geometry_type_polygon = 'Polygon'\n",
    "\n",
    "\n",
    "# Create feature classes \n",
    "with fiona.open(output_point_shapefile, 'w', 'ESRI Shapefile', schema={'geometry': geometry_type_point}) as output_point:\n",
    "    pass  \n",
    "\n",
    "with fiona.open(output_line_shapefile, 'w', 'ESRI Shapefile', schema={'geometry': geometry_type_line}) as output_line:\n",
    "    pass  \n",
    "\n",
    "with fiona.open(output_polygon_shapefile, 'w', 'ESRI Shapefile', schema={'geometry': geometry_type_polygon}) as output_polygon:\n",
    "    pass "
   ]
  },
  {
   "cell_type": "markdown",
   "id": "37a42ffe-6226-4f93-94bb-46c99e0f23f4",
   "metadata": {},
   "source": [
    "### Add Points to a Feature Class"
   ]
  },
  {
   "cell_type": "code",
   "execution_count": 19,
   "id": "fe1f1272-1387-47d4-91e4-c463b7d668ae",
   "metadata": {},
   "outputs": [],
   "source": [
    "#Path to Shapefile\n",
    "output_point_shapefile = r\"Feature Class/FeatureClass_Point.shp\"\n",
    "\n",
    "# Points\n",
    "point1 = Point(-93.22456694058349, 44.97656707355932) #\n",
    "point2 = Point(-93.25750208433475, 44.97369530667097) #US BAnk Stadium\n",
    "\n",
    "# Open the existing shapefile\n",
    "with fiona.open(output_point_shapefile, 'a') as output:\n",
    "    output.write({'geometry': mapping(point1), 'properties': {}})\n",
    "    output.write({'geometry': mapping(point2), 'properties': {}})"
   ]
  },
  {
   "cell_type": "markdown",
   "id": "1248101a-00dd-4d80-b589-3f4d2a9dfae0",
   "metadata": {},
   "source": [
    "#### Plot Point Shapefile"
   ]
  },
  {
   "cell_type": "code",
   "execution_count": 6,
   "id": "6883f139-f01e-49e5-9312-1af839dd6b14",
   "metadata": {},
   "outputs": [
    {
     "data": {
      "image/png": "[encoded data removed]",
      "text/plain": [
       "<Figure size 432x288 with 1 Axes>"
      ]
     },
     "metadata": {
      "needs_background": "light"
     },
     "output_type": "display_data"
    }
   ],
   "source": [
    "import geopandas as gpd\n",
    "import matplotlib.pyplot as plt\n",
    "\n",
    "# Path to the shapefile\n",
    "output_point_shapefile = r\"Feature Class/FeatureClass_Point.shp\"\n",
    "\n",
    "# Read the shapefile into a GeoDataFrame\n",
    "gdf = gpd.read_file(output_point_shapefile)\n",
    "\n",
    "# Plot the GeoDataFrame\n",
    "gdf.plot(marker='o', color='red', markersize=50)\n",
    "plt.title('FeatureClass_Point')\n",
    "plt.xlabel('Longitude')\n",
    "plt.ylabel('Latitude')\n",
    "plt.show()"
   ]
  },
  {
   "cell_type": "code",
   "execution_count": null,
   "id": "6a5b7f81-a7bf-41fa-a895-edca69bd0088",
   "metadata": {},
   "outputs": [],
   "source": []
  },
  {
   "cell_type": "markdown",
   "id": "3a658d61-c61b-45c5-9cd8-280936cb76c7",
   "metadata": {},
   "source": [
    "### Add Lines to a Feature Class"
   ]
  },
  {
   "cell_type": "code",
   "execution_count": 7,
   "id": "db3aa3a5-4e1a-4287-af11-3ba980555593",
   "metadata": {},
   "outputs": [],
   "source": [
    "#Path to Shapefile\n",
    "output_line_shapefile = r\"Feature Class/FeatureClass_Line.shp\"\n",
    "\n",
    "# Line\n",
    "line = LineString([(-93.22456694058349, 44.97656707355932),\n",
    "                   (-93.25750208433475, 44.97369530667097)])\n",
    "\n",
    "# Open the existing shapefile with Fiona\n",
    "with fiona.open(output_line_shapefile, 'a') as output:\n",
    "    output.write({'geometry': mapping(line), 'properties': {}})"
   ]
  },
  {
   "cell_type": "markdown",
   "id": "634f68b3-a969-4be5-9953-1b8cdd6d9ed2",
   "metadata": {
    "tags": []
   },
   "source": [
    "#### Plot Line Shapefile"
   ]
  },
  {
   "cell_type": "code",
   "execution_count": 9,
   "id": "8892d873-9011-416b-9203-3b05e383ebe7",
   "metadata": {},
   "outputs": [
    {
     "data": {
      "image/png": "[encoded data removed]",
      "text/plain": [
       "<Figure size 720x720 with 1 Axes>"
      ]
     },
     "metadata": {
      "needs_background": "light"
     },
     "output_type": "display_data"
    }
   ],
   "source": [
    "# Path to the shapefile\n",
    "output_line_shapefile = \"Feature Class/FeatureClass_Line.shp\"\n",
    "\n",
    "# Read the shapefile into a GeoDataFrame\n",
    "gdf = gpd.read_file(output_line_shapefile)\n",
    "\n",
    "# Plot the GeoDataFrame\n",
    "ax = gdf.plot(figsize=(10, 10), color='green', linewidth=2)\n",
    "\n",
    "# Set plot labels\n",
    "plt.title('FeatureClass_Line')\n",
    "plt.xlabel('Longitude')\n",
    "plt.ylabel('Latitude')\n",
    "\n",
    "# Show the plot\n",
    "plt.show()"
   ]
  },
  {
   "cell_type": "code",
   "execution_count": null,
   "id": "8ac6fa5b-54ac-4bc6-a2e3-6759ba02f8f9",
   "metadata": {},
   "outputs": [],
   "source": []
  },
  {
   "cell_type": "markdown",
   "id": "9142fd9a-891e-46f2-974d-f8be34907c3e",
   "metadata": {},
   "source": [
    "### Add Polygons to a Feature Class"
   ]
  },
  {
   "cell_type": "code",
   "execution_count": 8,
   "id": "0ae1f9b0-be17-479c-a4da-c82fdc69fc32",
   "metadata": {},
   "outputs": [],
   "source": [
    "#Path to Shapefile\n",
    "output_polygon_shapefile = r\"Feature Class/FeatureClass_Polygon.shp\"\n",
    "\n",
    "# Polygon\n",
    "polygon = Polygon([( -93.22456694058349, 44.97656707355932),\n",
    "                   (-93.25750208433475, 44.97369530667097),\n",
    "                   (-93.21775917100368, 44.884844671870496),\n",
    "                   (-93.09021376922068, 44.95341865709891)])\n",
    "\n",
    "# Open the existing shapefile with Fiona\n",
    "with fiona.open(output_polygon_shapefile, 'a') as output:\n",
    "    output.write({'geometry': mapping(polygon), 'properties': {}})"
   ]
  },
  {
   "cell_type": "markdown",
   "id": "2f08832c-1d4c-4f25-a1da-c1a0483d23cb",
   "metadata": {},
   "source": [
    "#### Plot Polygon Shapefile"
   ]
  },
  {
   "cell_type": "code",
   "execution_count": 10,
   "id": "3ae9413d-3da7-43b0-a81a-435fd2c69d66",
   "metadata": {},
   "outputs": [
    {
     "data": {
      "image/png": "[encoded data removed]",
      "text/plain": [
       "<Figure size 720x720 with 1 Axes>"
      ]
     },
     "metadata": {
      "needs_background": "light"
     },
     "output_type": "display_data"
    }
   ],
   "source": [
    "# Path to the shapefile\n",
    "output_polygon_shapefile = \"Feature Class/FeatureClass_Polygon.shp\"\n",
    "\n",
    "# Read the shapefile into a GeoDataFrame\n",
    "gdf = gpd.read_file(output_polygon_shapefile)\n",
    "\n",
    "# Plot the GeoDataFrame\n",
    "ax = gdf.plot(figsize=(10, 10), color='blue', alpha=0.5)\n",
    "\n",
    "# Set plot labels\n",
    "plt.title('FeatureClass_Polygon')\n",
    "plt.xlabel('Longitude')\n",
    "plt.ylabel('Latitude')\n",
    "\n",
    "# Show the plot\n",
    "plt.show()"
   ]
  },
  {
   "cell_type": "markdown",
   "id": "91a6242e-8ce2-40a6-a665-2cd500a4f1fb",
   "metadata": {},
   "source": [
    "### View each row in an attribute table"
   ]
  },
  {
   "cell_type": "code",
   "execution_count": 15,
   "id": "6b3261a7-7a95-4433-8948-9fbda34241c4",
   "metadata": {},
   "outputs": [
    {
     "name": "stdout",
     "output_type": "stream",
     "text": [
      "\n",
      "Attribute Table for Feature Class/FeatureClass_Point.shp:\n",
      "OrderedDict([('FID', 0)])\n",
      "OrderedDict([('FID', 1)])\n",
      "\n",
      "Attribute Table for Feature Class/FeatureClass_Line.shp:\n",
      "OrderedDict([('FID', 0)])\n",
      "\n",
      "Attribute Table for Feature Class/FeatureClass_Polygon.shp:\n",
      "OrderedDict([('FID', 0)])\n"
     ]
    }
   ],
   "source": [
    "# Path to all the shapefiles\n",
    "output_point_shapefile = r\"Feature Class/FeatureClass_Point.shp\"\n",
    "output_line_shapefile = r\"Feature Class/FeatureClass_Line.shp\"\n",
    "output_polygon_shapefile = r\"Feature Class/FeatureClass_Polygon.shp\"\n",
    "\n",
    "# List of shapefiles\n",
    "shapefiles = [output_point_shapefile, output_line_shapefile, output_polygon_shapefile]\n",
    "\n",
    "# Iterate through each shapefile\n",
    "for output_shapefile in shapefiles:\n",
    "    print(f\"\\nAttribute Table for {output_shapefile}:\")\n",
    "    with fiona.open(output_shapefile, 'r') as source:\n",
    "        # Iterate through each feature (row) in the shapefile\n",
    "        for feature in source:\n",
    "            # Access the properties (attributes) of the feature\n",
    "            attributes = feature['properties']\n",
    "            print(attributes)"
   ]
  },
  {
   "cell_type": "markdown",
   "id": "206ab28b-0e1f-4c18-9bea-d0b71f0f72cd",
   "metadata": {},
   "source": [
    "### View each geometry object"
   ]
  },
  {
   "cell_type": "code",
   "execution_count": 16,
   "id": "dfe1127d-8b6d-4ddc-b352-2420adf6afe7",
   "metadata": {},
   "outputs": [
    {
     "name": "stdout",
     "output_type": "stream",
     "text": [
      "\n",
      "Geometry Objects for Feature Class/FeatureClass_Point.shp:\n",
      "POINT (-93.22456694058349 44.97656707355932)\n",
      "POINT (-93.25750208433475 44.97369530667097)\n",
      "\n",
      "Geometry Objects for Feature Class/FeatureClass_Line.shp:\n",
      "LINESTRING (-93.22456694058349 44.97656707355932, -93.25750208433475 44.97369530667097)\n",
      "\n",
      "Geometry Objects for Feature Class/FeatureClass_Polygon.shp:\n",
      "POLYGON ((-93.22456694058349 44.97656707355932, -93.09021376922068 44.95341865709891, -93.21775917100368 44.884844671870496, -93.25750208433475 44.97369530667097, -93.22456694058349 44.97656707355932))\n"
     ]
    }
   ],
   "source": [
    "# Path to all the shapefiles\n",
    "output_point_shapefile = r\"Feature Class/FeatureClass_Point.shp\"\n",
    "output_line_shapefile = r\"Feature Class/FeatureClass_Line.shp\"\n",
    "output_polygon_shapefile = r\"Feature Class/FeatureClass_Polygon.shp\"\n",
    "\n",
    "# List of shapefiles\n",
    "shapefiles = [output_point_shapefile, output_line_shapefile, output_polygon_shapefile]\n",
    "\n",
    "# Iterate through each shapefile\n",
    "for output_shapefile in shapefiles:\n",
    "    print(f\"\\nGeometry Objects for {output_shapefile}:\")\n",
    "    with fiona.open(output_shapefile, 'r') as source:\n",
    "        # Iterate through each feature (row) in the shapefile\n",
    "        for feature in source:\n",
    "            # Access the geometry of the feature\n",
    "            geometry = shape(feature['geometry'])\n",
    "            print(geometry)"
   ]
  },
  {
   "cell_type": "code",
   "execution_count": 17,
   "id": "15eb66aa-f8ef-47e1-ae6b-79f68512df35",
   "metadata": {},
   "outputs": [
    {
     "name": "stdout",
     "output_type": "stream",
     "text": [
      "\n",
      "Summary of Geometry Types:\n",
      "Point Count: 2\n",
      "Linestring Count: 1\n",
      "Polygon Count: 1\n"
     ]
    }
   ],
   "source": [
    "from collections import defaultdict\n",
    "\n",
    "# Path to all the shapefiles\n",
    "output_point_shapefile = r\"Feature Class/FeatureClass_Point.shp\"\n",
    "output_line_shapefile = r\"Feature Class/FeatureClass_Line.shp\"\n",
    "output_polygon_shapefile = r\"Feature Class/FeatureClass_Polygon.shp\"\n",
    "\n",
    "# List of shapefiles\n",
    "shapefiles = [output_point_shapefile, output_line_shapefile, output_polygon_shapefile]\n",
    "\n",
    "# Dictionary to store geometry type counts\n",
    "geometry_counts = defaultdict(int)\n",
    "\n",
    "# Iterate through each shapefile\n",
    "for output_shapefile in shapefiles:\n",
    "    with fiona.open(output_shapefile, 'r') as source:\n",
    "        # Iterate through each feature (row) in the shapefile\n",
    "        for feature in source:\n",
    "            # Access the geometry type of the feature\n",
    "            geometry_type = shape(feature['geometry']).type\n",
    "            # Increment the count for the geometry type\n",
    "            geometry_counts[geometry_type] += 1\n",
    "\n",
    "# Print the summary information\n",
    "print(\"\\nSummary of Geometry Types:\")\n",
    "for geometry_type, count in geometry_counts.items():\n",
    "    print(f\"{geometry_type.capitalize()} Count: {count}\")"
   ]
  },
  {
   "cell_type": "code",
   "execution_count": null,
   "id": "4bc84cfa-ecc7-4ef7-9816-e98ce13d70da",
   "metadata": {},
   "outputs": [],
   "source": []
  }
 ],
 "metadata": {
  "kernelspec": {
   "display_name": "Python 3 (ipykernel)",
   "language": "python",
   "name": "python3"
  },
  "language_info": {
   "codemirror_mode": {
    "name": "ipython",
    "version": 3
   },
   "file_extension": ".py",
   "mimetype": "text/x-python",
   "name": "python",
   "nbconvert_exporter": "python",
   "pygments_lexer": "ipython3",
   "version": "3.9.7"
  }
 },
 "nbformat": 4,
 "nbformat_minor": 5
}
