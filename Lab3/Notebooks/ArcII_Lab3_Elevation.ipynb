{
 "cells": [
  {
   "cell_type": "markdown",
   "metadata": {},
   "source": [
    "# Elevation Data Accuracy Assessment\n",
    "This notebook creates a pipeline which determines both the most accurate interpolation method for a series of weather station locations within Minnesota and the accuracy of the point data through comparison of known elevation data. The data is then stored in a file geodatabase and moved to an .sde database for creating real-time web maps in ArcGIS Online."
   ]
  },
  {
   "cell_type": "markdown",
   "metadata": {},
   "source": [
    "### Import All Required Libraries"
   ]
  },
  {
   "cell_type": "code",
   "execution_count": 1,
   "metadata": {},
   "outputs": [],
   "source": [
    "# Library for data manipulation and analysis\n",
    "import pandas as pd\n",
    "\n",
    "# Library for working with ArcGIS tools and functionalities\n",
    "import arcpy\n",
    "import arcgis\n",
    "\n",
    "# Libraries for working with PostgreSQL\n",
    "import psycopg2\n",
    "from psycopg2 import sql\n",
    "\n",
    "# Library for handling JSON data\n",
    "import json\n",
    "\n",
    "# Library for making HTTP requests and interacting with web services\n",
    "import requests\n",
    "\n",
    "# Library for interacting with the operating system, managing file paths, and executing system commands\n",
    "import os\n",
    "\n",
    "# Library for handling warnings generated during code execution\n",
    "import warnings\n",
    "\n",
    "# Library for displaying images in Jupyter Notebooks\n",
    "from IPython.display import Image\n",
    "\n",
    "# Library for generating random numbers\n",
    "import random\n",
    "\n",
    "# Library for handling zip files and working with IO streams\n",
    "import zipfile\n",
    "import io\n",
    "\n",
    "# Library for working with dates\n",
    "from datetime import date"
   ]
  },
  {
   "cell_type": "code",
   "execution_count": 2,
   "metadata": {},
   "outputs": [],
   "source": [
    "file_path = os.path.dirname(arcpy.mp.ArcGISProject('CURRENT').filePath)\n",
    "\n",
    "# Change the current working directory to the extracted directory path\n",
    "os.chdir(file_path)\n",
    "\n",
    "# Set the workspace environment to the extracted directory path\n",
    "arcpy.env.workspace = file_path\n",
    "\n",
    "# Define a spatial reference with ID 26915 (likely UTM zone 15N)\n",
    "spatial_ref = arcpy.SpatialReference(26915)\n",
    "\n",
    "# Establish variables for project and map\n",
    "project = arcpy.mp.ArcGISProject(\"CURRENT\")\n",
    "m = project.listMaps(\"Map\")[0]"
   ]
  },
  {
   "cell_type": "markdown",
   "metadata": {},
   "source": [
    "### Path to FGDB And SDE"
   ]
  },
  {
   "cell_type": "code",
   "execution_count": 3,
   "metadata": {},
   "outputs": [],
   "source": [
    "# Establish SDE Connection via PGAdmin & Catalog Pane in ArcGIS Pro\n",
    "sde = r\"F:\\1. UMN MGIS\\1. Semesters\\4th Semester\\1. ArcGIS II\\2. Labs\\Lab 03\\ArcII_Lab3\\PostgreSQL-35-gis5572(postgres).sde\"\n",
    "\n",
    "#path to local database\n",
    "local_gdb = r\"F:\\1. UMN MGIS\\1. Semesters\\4th Semester\\1. ArcGIS II\\2. Labs\\Lab 03\\ArcII_Lab3\\ArcII_Lab3.gdb\""
   ]
  },
  {
   "cell_type": "code",
   "execution_count": 14,
   "metadata": {},
   "outputs": [
    {
     "data": {
      "text/html": [
       "<div class='gpresult'><h2>Messages</h2><div id='messages' data-messages='[\"Start Time: Friday, 12 April 2024 1:00:37 am\",\"WARNING 000258: Output F:\\\\1. UMN MGIS\\\\1. Semesters\\\\4th Semester\\\\1. ArcGIS II\\\\2. Labs\\\\Lab 03\\\\ArcII_Lab3\\\\PostgreSQL-35-gis5572(postgres).sde already exists\",\"Succeeded at Friday, 12 April 2024 1:00:48 am (Elapsed Time: 10.61 seconds)\"]' data-show='true'><div id = 'default' /></div></div>"
      ],
      "text/plain": [
       "<Result 'F:\\\\1. UMN MGIS\\\\1. Semesters\\\\4th Semester\\\\1. ArcGIS II\\\\2. Labs\\\\Lab 03\\\\ArcII_Lab3\\\\PostgreSQL-35-gis5572(postgres).sde'>"
      ]
     },
     "execution_count": 14,
     "metadata": {},
     "output_type": "execute_result"
    }
   ],
   "source": [
    "# Create database connection\n",
    "dbname = 'PostgreSQL-35-gis5572(postgres).sde'\n",
    "platform = 'POSTGRESQL'\n",
    "user = 'postgres'\n",
    "password = '*****'\n",
    "instance = '35.238.64.215'\n",
    "port = '5432'\n",
    "auth = 'DATABASE_AUTH'\n",
    "save = 'SAVE_USERNAME'\n",
    "db = 'gis5572'\n",
    "\n",
    "arcpy.management.CreateDatabaseConnection(\n",
    "    out_folder_path = file_path,\n",
    "    out_name = dbname,\n",
    "    database_platform = platform,\n",
    "    instance = instance,\n",
    "    account_authentication = auth,\n",
    "    username = user,\n",
    "    password = password,\n",
    "    save_user_pass = save,\n",
    "    database = db\n",
    ")"
   ]
  },
  {
   "cell_type": "markdown",
   "metadata": {},
   "source": [
    "### Grount Truth DEM"
   ]
  },
  {
   "cell_type": "code",
   "execution_count": 7,
   "metadata": {},
   "outputs": [],
   "source": [
    "# Define a function to pull data from the Minnesota Geospatial Commons\n",
    "def mn_geo_pull_and_unzip(url, directory, GDB_or_SHP):\n",
    "\n",
    "    # Get GeoJSON from MN Geospatial Commons\n",
    "    api = requests.get(url)\n",
    "    json = api.json()\n",
    "    \n",
    "    # Use second list in the 'resources' key if data is in file geodatabase format\n",
    "    if GDB_or_SHP == 'GDB':\n",
    "        zip_link = requests.get(json['result']['resources'][1]['url'])\n",
    "    \n",
    "    # Use first list in the 'resources' key if data is in shapefile format\n",
    "    if GDB_or_SHP == 'SHP':\n",
    "        zip_link = requests.get(json['result']['resources'][2]['url'])\n",
    "    \n",
    "    # Get zipfile and extract\n",
    "    z_file = zipfile.ZipFile(io.BytesIO(zip_link.content))\n",
    "    z_file.extractall(directory)"
   ]
  },
  {
   "cell_type": "code",
   "execution_count": 27,
   "metadata": {},
   "outputs": [],
   "source": [
    "mn_geo_pull_and_unzip('https://gisdata.mn.gov/api/3/action/package_show?id=elev-30m-digital-elevation-model',\n",
    "                      r'F:\\1. UMN MGIS\\1. Semesters\\4th Semester\\1. ArcGIS II\\2. Labs\\Lab 03\\ArcII_Lab3','GDB')"
   ]
  },
  {
   "cell_type": "code",
   "execution_count": 31,
   "metadata": {},
   "outputs": [
    {
     "data": {
      "text/plain": [
       "<arcpy._mp.Layer object at 0x000001DE9A901100>"
      ]
     },
     "execution_count": 31,
     "metadata": {},
     "output_type": "execute_result"
    }
   ],
   "source": [
    "m.addDataFromPath(r'F:\\1. UMN MGIS\\1. Semesters\\4th Semester\\1. ArcGIS II\\2. Labs\\Lab 03\\ArcII_Lab3\\elev_30m_digital_elevation_model.gdb\\digital_elevation_model_30m')"
   ]
  },
  {
   "cell_type": "code",
   "execution_count": 34,
   "metadata": {},
   "outputs": [],
   "source": [
    "# Reproject to perform resampling and converting to points\n",
    "\n",
    "DEM_BD = r'F:\\1. UMN MGIS\\1. Semesters\\4th Semester\\1. ArcGIS II\\2. Labs\\Lab 03\\ArcII_Lab3\\elev_30m_digital_elevation_model.gdb'\n",
    "\n",
    "# Resample to limit the number of output points\n",
    "arcpy.management.Resample(\n",
    "    in_raster = os.path.join(DEM_BD,'digital_elevation_model_30m'),\n",
    "    out_raster = os.path.join(DEM_BD,'digital_elevation_model_3km'),\n",
    "    cell_size = 3000 # About 3 km in vertical degrees\n",
    ")\n",
    "\n",
    "# Establish extent as the size of the ground truth DEM\n",
    "arcpy.env.extent = os.path.join(DEM_BD,'digital_elevation_model_3km')"
   ]
  },
  {
   "cell_type": "markdown",
   "metadata": {},
   "source": [
    "### Pulling Data from SDE to FGDB Data "
   ]
  },
  {
   "cell_type": "code",
   "execution_count": 6,
   "metadata": {},
   "outputs": [
    {
     "data": {
      "text/html": [
       "<div class='gpresult'><h2>Messages</h2><div id='messages' data-messages='[\"Start Time: Wednesday, 3 April 2024 11:30:06 am\",\"Succeeded at Wednesday, 3 April 2024 11:30:11 am (Elapsed Time: 4.32 seconds)\"]' data-show='true'><div id = 'default' /></div></div>"
      ],
      "text/plain": [
       "<Result 'F:\\\\1. UMN MGIS\\\\1. Semesters\\\\4th Semester\\\\1. ArcGIS II\\\\2. Labs\\\\Lab 03\\\\ArcII_Lab3\\\\ArcII_Lab3.gdb\\\\mndem_points'>"
      ]
     },
     "execution_count": 6,
     "metadata": {},
     "output_type": "execute_result"
    }
   ],
   "source": [
    "# Define the SDE feature class path\n",
    "sde_feature_class = \"gis5572.postgres.mndem_points\"\n",
    "\n",
    "# Define the local feature class path\n",
    "local_feature_class = os.path.join(local_gdb, \"mndem_points\")\n",
    "\n",
    "# Process: Copy Features\n",
    "arcpy.CopyFeatures_management(r\"F:\\1. UMN MGIS\\1. Semesters\\4th Semester\\1. ArcGIS II\\2. Labs\\Lab 03\\ArcII_Lab3\\PostgreSQL-35-gis5572(postgres).sde\\gis5572.postgres.mndem_points\", local_feature_class)"
   ]
  },
  {
   "cell_type": "markdown",
   "metadata": {},
   "source": [
    "### Create Random Sample from QAQC'd Data\n",
    "Sampling 50% of the data randomly is beneficial because it reduces computational burden, maintains key dataset characteristics, and saves costs od saving and processing data. It ensures representative insights while mitigating bias, making analysis more efficient and reliable. "
   ]
  },
  {
   "cell_type": "code",
   "execution_count": 39,
   "metadata": {},
   "outputs": [
    {
     "data": {
      "text/html": [
       "<div class='gpresult'><h2>Messages</h2><div id='messages' data-messages='[\"Start Time: Friday, 12 April 2024 11:44:28 pm\",\"Succeeded at Friday, 12 April 2024 11:52:56 pm (Elapsed Time: 8 minutes 28 seconds)\"]' data-show='true'><div id = 'default' /></div></div>"
      ],
      "text/plain": [
       "<Result 'F:\\\\1. UMN MGIS\\\\1. Semesters\\\\4th Semester\\\\1. ArcGIS II\\\\2. Labs\\\\Lab 03\\\\ArcII_Lab3\\\\ArcII_Lab3.gdb\\\\Random_Sample_50_dem'>"
      ]
     },
     "execution_count": 39,
     "metadata": {},
     "output_type": "execute_result"
    }
   ],
   "source": [
    "# Set up your variables\n",
    "file_gdb = r'F:\\1. UMN MGIS\\1. Semesters\\4th Semester\\1. ArcGIS II\\2. Labs\\Lab 03\\ArcII_Lab3\\ArcII_Lab3.gdb'\n",
    "# Define the well-known ID (WKID) of the spatial reference (e.g., EPSG code)\n",
    "spatial_ref = arcpy.SpatialReference(4326) \n",
    "# Sample percent for random sampling\n",
    "sample_percent = 50  \n",
    "\n",
    "# Step 1: Create the Random_Sample_50_dem feature class\n",
    "arcpy.management.CreateFeatureclass(\n",
    "    out_path=file_gdb,\n",
    "    out_name='Random_Sample_50_dem',\n",
    "    geometry_type='POINT',\n",
    "    spatial_reference=spatial_ref\n",
    ")"
   ]
  },
  {
   "cell_type": "code",
   "execution_count": 40,
   "metadata": {},
   "outputs": [],
   "source": [
    "# Step 2: Add fields for geometry, elevation, easting, and northing\n",
    "arcpy.management.AddField(\n",
    "    in_table='Random_Sample_50_dem',\n",
    "    field_name='geometry',\n",
    "    field_type='TEXT'\n",
    ")\n",
    "\n",
    "arcpy.management.AddField(\n",
    "    in_table='Random_Sample_50_dem',\n",
    "    field_name='elevation',\n",
    "    field_type='DOUBLE'\n",
    ")\n",
    "\n",
    "arcpy.management.AddField(\n",
    "    in_table='Random_Sample_50_dem',\n",
    "    field_name='X',\n",
    "    field_type='DOUBLE'\n",
    ")\n",
    "\n",
    "arcpy.management.AddField(\n",
    "    in_table='Random_Sample_50_dem',\n",
    "    field_name='Y',\n",
    "    field_type='DOUBLE'\n",
    ")\n",
    "\n",
    "# Step 3: Get total count of features in mndem_points\n",
    "total_count = arcpy.management.GetCount(r'F:\\1. UMN MGIS\\1. Semesters\\4th Semester\\1. ArcGIS II\\2. Labs\\Lab 03\\ArcII_Lab3\\ArcII_Lab3.gdb\\mndem_points')[0]\n",
    "\n",
    "# Calculate the number of features to select\n",
    "sample_count = int((sample_percent / 100) * int(total_count))\n",
    "\n",
    "# Step 4: Generate a list of random OBJECTIDs\n",
    "random_objectids = list(range(1, int(total_count) + 1))\n",
    "random.shuffle(random_objectids)\n",
    "random_objectids = random_objectids[:sample_count]"
   ]
  },
  {
   "cell_type": "code",
   "execution_count": 41,
   "metadata": {},
   "outputs": [
    {
     "name": "stdout",
     "output_type": "stream",
     "text": [
      "Random sample created successfully.\n"
     ]
    }
   ],
   "source": [
    "# Step 5: Use the random OBJECTIDs to select features from mndem_points\n",
    "where_clause = \"OBJECTID IN ({})\".format(','.join(map(str, random_objectids)))\n",
    "\n",
    "arcpy.analysis.Select(\n",
    "    in_features=r'F:\\1. UMN MGIS\\1. Semesters\\4th Semester\\1. ArcGIS II\\2. Labs\\Lab 03\\ArcII_Lab3\\ArcII_Lab3.gdb\\mndem_points',\n",
    "    out_feature_class=r'F:\\1. UMN MGIS\\1. Semesters\\4th Semester\\1. ArcGIS II\\2. Labs\\Lab 03\\ArcII_Lab3\\ArcII_Lab3.gdb\\Random_Sample_50_dem',\n",
    "    where_clause=where_clause\n",
    ")\n",
    "\n",
    "# Step 6: Calculate the geometry attributes for easting and northing\n",
    "arcpy.management.CalculateGeometryAttributes(\n",
    "    in_features='Random_Sample_50_dem',\n",
    "    geometry_property=[['easting', 'POINT_X'], ['northing', 'POINT_Y']],\n",
    "    coordinate_system=spatial_ref\n",
    ")\n",
    "\n",
    "print(\"Random sample created successfully.\")"
   ]
  },
  {
   "cell_type": "markdown",
   "metadata": {
    "heading_collapsed": true
   },
   "source": [
    "### Quality Assesment of Each Model"
   ]
  },
  {
   "cell_type": "code",
   "execution_count": 10,
   "metadata": {
    "hidden": true
   },
   "outputs": [
    {
     "data": {
      "text/html": [
       "<div class='gpresult'><h2>Messages</h2><div id='messages' data-messages='[\"Start Time: Thursday, 4 April 2024 10:09:20 am\",\"Calculating Ordinary Kriging – Default\",\"Calculating Ordinary Kriging – Optimized\",\"Calculating Universal Kriging – Default\",\"Calculating Universal Kriging – Optimized\",\"Calculating Empirical Bayesian Kriging - Default\",\"Calculating Empirical Bayesian Kriging - Advanced\",\" \\n\",\"--------------------------------------------\",\"RANK | NAME\",\"--------------------------------------------\",\"\\n\",\"1    | Ordinary Kriging – Optimized\",\"\\n\",\"2    | Universal Kriging – Optimized\",\"\\n\",\"3    | Empirical Bayesian Kriging - Default\",\"\\n\",\"4    | Universal Kriging – Default\",\"\\n\",\"5    | Ordinary Kriging – Default\",\"\\n\",\"6    | Empirical Bayesian Kriging - Advanced\",\"--------------------------------------------\",\"Succeeded at Thursday, 4 April 2024 10:10:14 am (Elapsed Time: 54.32 seconds)\"]' data-show='true'><div id = 'default' /></div></div>"
      ],
      "text/plain": [
       "<Result 'F:\\\\1. UMN MGIS\\\\1. Semesters\\\\4th Semester\\\\1. ArcGIS II\\\\2. Labs\\\\Lab 03\\\\ArcII_Lab3\\\\ArcII_Lab3.gdb\\\\stats_table_dem'>"
      ]
     },
     "execution_count": 10,
     "metadata": {},
     "output_type": "execute_result"
    }
   ],
   "source": [
    "# Perform exploratory interpolation\n",
    "arcpy.ga.ExploratoryInterpolation(\n",
    "    in_features=r\"DEM\\Random_Sample_50_dem\",\n",
    "    value_field=\"grid_code\",\n",
    "    out_cv_table=r\"F:\\1. UMN MGIS\\1. Semesters\\4th Semester\\1. ArcGIS II\\2. Labs\\Lab 03\\ArcII_Lab3\\ArcII_Lab3.gdb\\stats_table_dem\",\n",
    "    out_geostat_layer=None,\n",
    "    interp_methods=\"ORDINARY_KRIGING;UNIVERSAL_KRIGING;EBK\",\n",
    "    comparison_method=\"SINGLE\",\n",
    "    criterion=\"ACCURACY\",\n",
    "    criteria_hierarchy=\"ACCURACY PERCENT #\",\n",
    "    weighted_criteria=\"ACCURACY 1\",\n",
    "    exclusion_criteria=None\n",
    ")"
   ]
  },
  {
   "cell_type": "markdown",
   "metadata": {},
   "source": [
    "### Interpolating the Weather Data using 3 Techniques"
   ]
  },
  {
   "cell_type": "code",
   "execution_count": 6,
   "metadata": {},
   "outputs": [],
   "source": [
    "# KRINGING - ORDINARY\n",
    "\n",
    "with arcpy.EnvManager(scratchWorkspace=r\"F:\\1. UMN MGIS\\1. Semesters\\4th Semester\\1. ArcGIS II\\2. Labs\\Lab 03\\ArcII_Lab3\\ArcII_Lab3.gdb\"):\n",
    "    mndem_KrigOrd = arcpy.sa.Kriging(\n",
    "        in_point_features=r\"DEM\\Random_Sample_50_dem\",\n",
    "        z_field=\"grid_code\",\n",
    "        kriging_model=\"LinearDrift 3000 # # #\",\n",
    "        cell_size=3000,\n",
    "        search_radius=\"VARIABLE 12\",\n",
    "        out_variance_prediction_raster=None\n",
    "    )\n",
    "    mndem_KrigOrd.save(r\"F:\\1. UMN MGIS\\1. Semesters\\4th Semester\\1. ArcGIS II\\2. Labs\\Lab 03\\ArcII_Lab3\\ArcII_Lab3.gdb\\mndem_KrigUni\")"
   ]
  },
  {
   "cell_type": "code",
   "execution_count": 8,
   "metadata": {},
   "outputs": [],
   "source": [
    "# KRINGING - UNIVERSAL\n",
    "\n",
    "with arcpy.EnvManager(scratchWorkspace=r\"F:\\1. UMN MGIS\\1. Semesters\\4th Semester\\1. ArcGIS II\\2. Labs\\Lab 03\\ArcII_Lab3\\ArcII_Lab3.gdb\"):\n",
    "    mndem_KrigUni = arcpy.sa.Kriging(\n",
    "        in_point_features=r\"DEM\\Random_Sample_50_dem\",\n",
    "        z_field=\"grid_code\",\n",
    "        kriging_model=\"LinearDrift 3000 # # #\",\n",
    "        cell_size=3000,\n",
    "        search_radius=\"VARIABLE 12\",\n",
    "        out_variance_prediction_raster=None\n",
    "    )\n",
    "    mndem_KrigUni.save(r\"F:\\1. UMN MGIS\\1. Semesters\\4th Semester\\1. ArcGIS II\\2. Labs\\Lab 03\\ArcII_Lab3\\ArcII_Lab3.gdb\\mndem_KrigUni\")"
   ]
  },
  {
   "cell_type": "code",
   "execution_count": null,
   "metadata": {},
   "outputs": [],
   "source": [
    "# EMPIRICAL BAYESIAN KRIGING\n",
    "\n",
    "arcpy.ga.EmpiricalBayesianKriging(\n",
    "    in_features=r\"DEM\\Random_Sample_50_dem\",\n",
    "    z_field=\"grid_code\",\n",
    "    out_ga_layer=None,\n",
    "    out_raster=r\"F:\\1. UMN MGIS\\1. Semesters\\4th Semester\\1. ArcGIS II\\2. Labs\\Lab 03\\ArcII_Lab3\\ArcII_Lab3.gdb\\mndem_EBK\",\n",
    "    cell_size=3000,\n",
    "    transformation_type=\"NONE\",\n",
    "    max_local_points=100,\n",
    "    overlap_factor=1,\n",
    "    number_semivariograms=100,\n",
    "    search_neighborhood=\"NBRTYPE=StandardCircular RADIUS=212727.819055243 ANGLE=0 NBR_MAX=15 NBR_MIN=10 SECTOR_TYPE=ONE_SECTOR\",\n",
    "    output_type=\"PREDICTION\",\n",
    "    quantile_value=0.5,\n",
    "    threshold_type=\"EXCEED\",\n",
    "    probability_threshold=None,\n",
    "    semivariogram_model_type=\"POWER\"\n",
    ")"
   ]
  },
  {
   "cell_type": "markdown",
   "metadata": {
    "heading_collapsed": true
   },
   "source": [
    "### Converting Interpolated Raster into Points And Exporting to SDE"
   ]
  },
  {
   "cell_type": "code",
   "execution_count": 4,
   "metadata": {
    "hidden": true
   },
   "outputs": [],
   "source": [
    "# Step 1: Downsample Raster\n",
    "def downsample_raster(input_raster, output_raster, cell_size):\n",
    "    arcpy.Resample_management(input_raster, output_raster, cell_size)\n",
    "\n",
    "# Step 2: Convert Raster to Points\n",
    "def raster_to_points(input_raster, output_points):\n",
    "    arcpy.RasterToPoint_conversion(input_raster, output_points, \"VALUE\")\n",
    "\n",
    "# Step 3: Upload Points to SDE\n",
    "def upload_points_to_sde(input_points, output_sde_connection, output_sde_feature_class):\n",
    "    arcpy.FeatureClassToFeatureClass_conversion(input_points, output_sde_connection, output_sde_feature_class)"
   ]
  },
  {
   "cell_type": "code",
   "execution_count": 5,
   "metadata": {
    "hidden": true
   },
   "outputs": [],
   "source": [
    "# Paths and parameters for each raster\n",
    "raster_paths = [\n",
    "    r'F:\\1. UMN MGIS\\1. Semesters\\4th Semester\\1. ArcGIS II\\2. Labs\\Lab 03\\ArcII_Lab3\\ArcII_Lab3.gdb\\mndem_EBK',\n",
    "    r'F:\\1. UMN MGIS\\1. Semesters\\4th Semester\\1. ArcGIS II\\2. Labs\\Lab 03\\ArcII_Lab3\\ArcII_Lab3.gdb\\mndem_KrigOrd',\n",
    "    r'F:\\1. UMN MGIS\\1. Semesters\\4th Semester\\1. ArcGIS II\\2. Labs\\Lab 03\\ArcII_Lab3\\ArcII_Lab3.gdb\\mndem_KrigUni'\n",
    "]\n",
    "output_downsampled_rasters = [\n",
    "    r'F:\\1. UMN MGIS\\1. Semesters\\4th Semester\\1. ArcGIS II\\2. Labs\\Lab 03\\ArcII_Lab3\\downsampled_demEBK.tif',\n",
    "    r'F:\\1. UMN MGIS\\1. Semesters\\4th Semester\\1. ArcGIS II\\2. Labs\\Lab 03\\ArcII_Lab3\\downsampled_demKrigOrd.tif',\n",
    "    r'F:\\1. UMN MGIS\\1. Semesters\\4th Semester\\1. ArcGIS II\\2. Labs\\Lab 03\\ArcII_Lab3\\downsampled_demKrigUni.tif'\n",
    "]\n",
    "output_points = [\n",
    "    r'F:\\1. UMN MGIS\\1. Semesters\\4th Semester\\1. ArcGIS II\\2. Labs\\Lab 03\\ArcII_Lab3\\EBK_dempoints.shp',\n",
    "    r'F:\\1. UMN MGIS\\1. Semesters\\4th Semester\\1. ArcGIS II\\2. Labs\\Lab 03\\ArcII_Lab3\\KrigOrd_dempoints.shp',\n",
    "    r'F:\\1. UMN MGIS\\1. Semesters\\4th Semester\\1. ArcGIS II\\2. Labs\\Lab 03\\ArcII_Lab3\\KrigUni_dempoints.shp'\n",
    "]\n",
    "output_sde_connection = r'F:\\1. UMN MGIS\\1. Semesters\\4th Semester\\1. ArcGIS II\\2. Labs\\ArcPro\\Lab2\\ArcII_Lab2\\PostgreSQL-35-gis5572(postgres).sde'\n",
    "\n",
    "output_sde_feature_classes = [\n",
    "    'EBK_dempoints',\n",
    "    'KrigOrd_dempoints',\n",
    "    'KrigUni_dempoints'\n",
    "]"
   ]
  },
  {
   "cell_type": "code",
   "execution_count": 6,
   "metadata": {
    "hidden": true
   },
   "outputs": [
    {
     "name": "stdout",
     "output_type": "stream",
     "text": [
      "The entire 3 step process is completed.\n"
     ]
    }
   ],
   "source": [
    "# Loop through each raster\n",
    "for i in range(len(raster_paths)):\n",
    "    # Step 1: Downsample Raster\n",
    "    downsample_raster(raster_paths[i], output_downsampled_rasters[i], \"15000\")\n",
    "\n",
    "    # Step 2: Convert Raster to Points\n",
    "    raster_to_points(output_downsampled_rasters[i], output_points[i])\n",
    "\n",
    "    # Step 3: Upload Points to SDE\n",
    "    upload_points_to_sde(output_points[i], output_sde_connection, output_sde_feature_classes[i])\n",
    "\n",
    "print(\"The entire 3 step process is completed.\")"
   ]
  },
  {
   "cell_type": "code",
   "execution_count": null,
   "metadata": {
    "hidden": true
   },
   "outputs": [],
   "source": []
  },
  {
   "cell_type": "markdown",
   "metadata": {},
   "source": [
    "### Quality Assessment"
   ]
  },
  {
   "cell_type": "code",
   "execution_count": 21,
   "metadata": {},
   "outputs": [],
   "source": [
    "def accuracy_analysis(sampled_interp_layer, complete_interp_layer, output_fc):\n",
    "    print(f'Performing accuracy analysis for \"{sampled_interp_layer}\" and \"{complete_interp_layer}\"...')\n",
    "    \n",
    "    # Check if input layers exist\n",
    "    if not arcpy.Exists(sampled_interp_layer):\n",
    "        print(f\"Error: {sampled_interp_layer} does not exist.\")\n",
    "        return\n",
    "    if not arcpy.Exists(complete_interp_layer):\n",
    "        print(f\"Error: {complete_interp_layer} does not exist.\")\n",
    "        return\n",
    "    \n",
    "    # Convert raster to points for each interpolation layer\n",
    "    for layer in [sampled_interp_layer, complete_interp_layer]:\n",
    "        try:\n",
    "            # Check if the layer is a raster dataset\n",
    "            desc = arcpy.Describe(layer)\n",
    "            if desc.dataType == \"RasterDataset\":\n",
    "                arcpy.conversion.RasterToPoint(\n",
    "                    in_raster=layer,\n",
    "                    out_point_features=os.path.join(arcpy.env.scratchGDB, os.path.basename(layer) + '_points')\n",
    "                )\n",
    "            elif desc.dataType == \"FeatureClass\":\n",
    "                arcpy.management.CopyFeatures(\n",
    "                    in_features=layer,\n",
    "                    out_feature_class=os.path.join(arcpy.env.scratchGDB, os.path.basename(layer) + '_points')\n",
    "                )\n",
    "            else:\n",
    "                print(f\"Error: {layer} is not a valid data type.\")\n",
    "                return\n",
    "        except arcpy.ExecuteError as e:\n",
    "            print(f\"Failed to convert {layer} to points: {e}\")\n",
    "            return\n",
    "        \n",
    "    # Spatially join the point features\n",
    "    try:\n",
    "        arcpy.analysis.SpatialJoin(\n",
    "            target_features=os.path.join(arcpy.env.scratchGDB, os.path.basename(sampled_interp_layer) + '_points'),\n",
    "            join_features=os.path.join(arcpy.env.scratchGDB, os.path.basename(complete_interp_layer) + '_points'),\n",
    "            out_feature_class=os.path.join(arcpy.env.scratchGDB, output_fc),\n",
    "            match_option='CLOSEST'\n",
    "        )\n",
    "    except arcpy.ExecuteError as e:\n",
    "        print(f\"Failed to perform spatial join: {e}\")\n",
    "        return\n",
    "    \n",
    "    # Add field for elevation difference\n",
    "    try:\n",
    "        arcpy.management.AddField(\n",
    "            in_table=os.path.join(arcpy.env.scratchGDB, output_fc),\n",
    "            field_name='elev_difference',\n",
    "            field_type='FLOAT'\n",
    "        )\n",
    "    except arcpy.ExecuteError as e:\n",
    "        print(f\"Failed to add field 'elev_difference': {e}\")\n",
    "        return\n",
    "    \n",
    "    # Calculate elevation difference\n",
    "    try:\n",
    "        arcpy.management.CalculateField(\n",
    "            in_table=os.path.join(arcpy.env.scratchGDB, output_fc),\n",
    "            field='elev_difference',\n",
    "            expression='abs(!grid_code! - !grid_code_1!)'\n",
    "        )\n",
    "    except arcpy.ExecuteError as e:\n",
    "        print(f\"Failed to calculate elevation difference: {e}\")\n",
    "        return\n",
    "    \n",
    "    # Change field names\n",
    "    try:\n",
    "        arcpy.management.AlterField(\n",
    "            in_table=os.path.join(arcpy.env.scratchGDB, output_fc),\n",
    "            field='grid_code',\n",
    "            new_field_name='sampled_elev',\n",
    "            new_field_alias='sampled_elev'\n",
    "        )\n",
    "        arcpy.management.AlterField(\n",
    "            in_table=os.path.join(arcpy.env.scratchGDB, output_fc),\n",
    "            field='grid_code_1',\n",
    "            new_field_name='actual_elev',\n",
    "            new_field_alias='actual_elev'\n",
    "        )\n",
    "    except arcpy.ExecuteError as e:\n",
    "        print(f\"Failed to alter field names: {e}\")\n",
    "        return\n",
    "    \n",
    "    # Delete unnecessary fields\n",
    "    try:\n",
    "        arcpy.management.DeleteField(\n",
    "            in_table=os.path.join(arcpy.env.scratchGDB, output_fc),\n",
    "            drop_field=['Join_Count', 'TARGET_FID', 'pointid_1']\n",
    "        )\n",
    "    except arcpy.ExecuteError as e:\n",
    "        print(f\"Failed to delete fields: {e}\")\n",
    "        return\n",
    "    \n",
    "    print('Accuracy analysis completed successfully.')"
   ]
  },
  {
   "cell_type": "code",
   "execution_count": 48,
   "metadata": {},
   "outputs": [
    {
     "name": "stdout",
     "output_type": "stream",
     "text": [
      "Performing accuracy analysis for \"F:\\1. UMN MGIS\\1. Semesters\\4th Semester\\1. ArcGIS II\\2. Labs\\Lab 03\\ArcII_Lab3\\ArcII_Lab3.gdb\\mndem_KrigOrd\" and \"F:\\1. UMN MGIS\\1. Semesters\\4th Semester\\1. ArcGIS II\\2. Labs\\Lab 03\\ArcII_Lab3\\ArcII_Lab3.gdb\\mndem_points\"...\n",
      "The average elevation difference is: 703.273936805872\n"
     ]
    },
    {
     "data": {
      "text/plain": [
       "703.273936805872"
      ]
     },
     "execution_count": 48,
     "metadata": {},
     "output_type": "execute_result"
    }
   ],
   "source": [
    "accuracy_analysis(\n",
    "    r'F:\\1. UMN MGIS\\1. Semesters\\4th Semester\\1. ArcGIS II\\2. Labs\\Lab 03\\ArcII_Lab3\\ArcII_Lab3.gdb\\mndem_KrigOrd',\n",
    "    r'F:\\1. UMN MGIS\\1. Semesters\\4th Semester\\1. ArcGIS II\\2. Labs\\Lab 03\\ArcII_Lab3\\ArcII_Lab3.gdb\\mndem_points',\n",
    "    'elev_ord_accuracy'\n",
    ")"
   ]
  },
  {
   "cell_type": "code",
   "execution_count": 34,
   "metadata": {},
   "outputs": [
    {
     "name": "stdout",
     "output_type": "stream",
     "text": [
      "Performing accuracy analysis for \"F:\\1. UMN MGIS\\1. Semesters\\4th Semester\\1. ArcGIS II\\2. Labs\\Lab 03\\ArcII_Lab3\\ArcII_Lab3.gdb\\mndem_KrigUni\" and \"F:\\1. UMN MGIS\\1. Semesters\\4th Semester\\1. ArcGIS II\\2. Labs\\Lab 03\\ArcII_Lab3\\ArcII_Lab3.gdb\\mndem_points\"...\n",
      "The average elevation difference is: 709.0692428169984\n"
     ]
    },
    {
     "data": {
      "text/plain": [
       "709.0692428169984"
      ]
     },
     "execution_count": 34,
     "metadata": {},
     "output_type": "execute_result"
    }
   ],
   "source": [
    "accuracy_analysis(\n",
    "    r'F:\\1. UMN MGIS\\1. Semesters\\4th Semester\\1. ArcGIS II\\2. Labs\\Lab 03\\ArcII_Lab3\\ArcII_Lab3.gdb\\mndem_KrigUni',\n",
    "    r'F:\\1. UMN MGIS\\1. Semesters\\4th Semester\\1. ArcGIS II\\2. Labs\\Lab 03\\ArcII_Lab3\\ArcII_Lab3.gdb\\mndem_points',\n",
    "    'elev_uni_accuracy'\n",
    ")"
   ]
  },
  {
   "cell_type": "code",
   "execution_count": 47,
   "metadata": {},
   "outputs": [
    {
     "name": "stdout",
     "output_type": "stream",
     "text": [
      "Performing accuracy analysis for \"F:\\1. UMN MGIS\\1. Semesters\\4th Semester\\1. ArcGIS II\\2. Labs\\Lab 03\\ArcII_Lab3\\ArcII_Lab3.gdb\\mndem_EBK\" and \"F:\\1. UMN MGIS\\1. Semesters\\4th Semester\\1. ArcGIS II\\2. Labs\\Lab 03\\ArcII_Lab3\\ArcII_Lab3.gdb\\mndem_points\"...\n",
      "The average elevation difference is: 721.3599622664711\n"
     ]
    },
    {
     "data": {
      "text/plain": [
       "721.3599622664711"
      ]
     },
     "execution_count": 47,
     "metadata": {},
     "output_type": "execute_result"
    }
   ],
   "source": [
    "accuracy_analysis(\n",
    "    r'F:\\1. UMN MGIS\\1. Semesters\\4th Semester\\1. ArcGIS II\\2. Labs\\Lab 03\\ArcII_Lab3\\ArcII_Lab3.gdb\\mndem_EBK',\n",
    "    r'F:\\1. UMN MGIS\\1. Semesters\\4th Semester\\1. ArcGIS II\\2. Labs\\Lab 03\\ArcII_Lab3\\ArcII_Lab3.gdb\\mndem_points',\n",
    "    'elev_ebk_accuracy'\n",
    ")"
   ]
  },
  {
   "cell_type": "markdown",
   "metadata": {},
   "source": [
    "### Exporting Ground Truth and Elev Difference to SDE"
   ]
  },
  {
   "cell_type": "code",
   "execution_count": 55,
   "metadata": {},
   "outputs": [
    {
     "name": "stdout",
     "output_type": "stream",
     "text": [
      "elev_ord_accuracy successfully copied to F:\\1. UMN MGIS\\1. Semesters\\4th Semester\\1. ArcGIS II\\2. Labs\\Lab 03\\ArcII_Lab3\\ArcII_Lab3.gdb\n"
     ]
    }
   ],
   "source": [
    "# Destination path in the local geodatabase\n",
    "output_feature = f\"{local_gdb}\\\\elev_ord_accuracy\""
   ]
  },
  {
   "cell_type": "code",
   "execution_count": 5,
   "metadata": {},
   "outputs": [
    {
     "name": "stdout",
     "output_type": "stream",
     "text": [
      "Feature copied successfully!\n"
     ]
    }
   ],
   "source": [
    "source_gdb = r\"F:\\1. UMN MGIS\\1. Semesters\\4th Semester\\1. ArcGIS II\\2. Labs\\Lab 03\\ArcII_Lab3\\scratch.gdb\"\n",
    "\n",
    "# Set the workspace environment\n",
    "arcpy.env.workspace = source_gdb\n",
    "\n",
    "# Copy the feature to the local geodatabase\n",
    "output_feature = arcpy.CopyFeatures_management(\"mndem_points_points\", f\"{local_gdb}\\\\mndem_points_points\")"
   ]
  },
  {
   "cell_type": "code",
   "execution_count": 56,
   "metadata": {},
   "outputs": [],
   "source": [
    "points_list = ['elev_ord_accuracy']\n",
    "\n",
    "for points in points_list:\n",
    "\n",
    "    arcpy.conversion.FeatureClassToGeodatabase(\n",
    "        Input_Features = points,\n",
    "        Output_Geodatabase = sde\n",
    "    )"
   ]
  },
  {
   "cell_type": "code",
   "execution_count": 6,
   "metadata": {},
   "outputs": [],
   "source": [
    "points_list = ['mndem_points_points']\n",
    "\n",
    "for points in points_list:\n",
    "\n",
    "    arcpy.conversion.FeatureClassToGeodatabase(\n",
    "        Input_Features = points,\n",
    "        Output_Geodatabase = sde\n",
    "    )"
   ]
  },
  {
   "cell_type": "code",
   "execution_count": null,
   "metadata": {},
   "outputs": [],
   "source": []
  }
 ],
 "metadata": {
  "kernelspec": {
   "display_name": "ArcGISPro",
   "language": "Python",
   "name": "python3"
  },
  "language_info": {
   "file_extension": ".py",
   "name": "python",
   "version": "3"
  }
 },
 "nbformat": 4,
 "nbformat_minor": 2
}
