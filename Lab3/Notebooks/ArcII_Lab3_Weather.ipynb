{
 "cells": [
  {
   "cell_type": "markdown",
   "metadata": {},
   "source": [
    "# Weather Data Accuracy Assessment\n",
    "This notebook creates a pipeline which determines both the most accurate interpolation method for a series of weather station locations within Minnesota and the accuracy of the point data through comparison of known elevation data. The data is then stored in a file geodatabase and moved to an .sde database for creating real-time web maps in ArcGIS Online."
   ]
  },
  {
   "cell_type": "markdown",
   "metadata": {},
   "source": [
    "#### Import All Required Modules for this Lab"
   ]
  },
  {
   "cell_type": "code",
   "execution_count": 7,
   "metadata": {},
   "outputs": [],
   "source": [
    "# Library for data manipulation and analysis\n",
    "import pandas as pd\n",
    "\n",
    "# Library for working with ArcGIS tools and functionalities\n",
    "import arcpy\n",
    "import arcgis\n",
    "\n",
    "\n",
    "# Libraries for working with PostgreSQL\n",
    "import psycopg2\n",
    "from psycopg2 import sql\n",
    "\n",
    "# Library for handling JSON data\n",
    "import json\n",
    "\n",
    "# Library for making HTTP requests and interacting with web services\n",
    "import requests\n",
    "\n",
    "# Library for interacting with the operating system, managing file paths, and executing system commands\n",
    "import os\n",
    "\n",
    "# Library for handling warnings generated during code execution\n",
    "import warnings\n",
    "\n",
    "# Library for displaying images in Jupyter Notebooks\n",
    "from IPython.display import Image\n",
    "from IPython.display import display\n",
    "\n",
    "# Library for generating random numbers\n",
    "import random\n",
    "\n",
    "# Library for handling zip files and working with IO streams\n",
    "import zipfile\n",
    "import io\n",
    "\n",
    "# Library for working with dates\n",
    "from datetime import date"
   ]
  },
  {
   "cell_type": "code",
   "execution_count": 8,
   "metadata": {},
   "outputs": [],
   "source": [
    "file_path = os.path.dirname(arcpy.mp.ArcGISProject('CURRENT').filePath)\n",
    "\n",
    "# Change the current working directory to the extracted directory path\n",
    "os.chdir(file_path)\n",
    "\n",
    "# Set the workspace environment to the extracted directory path\n",
    "arcpy.env.workspace = file_path\n",
    "\n",
    "# Define a spatial reference with ID 26915 (likely UTM zone 15N)\n",
    "spatial_ref = arcpy.SpatialReference(26915)\n",
    "\n",
    "# Establish variables for project and map\n",
    "project = arcpy.mp.ArcGISProject(\"CURRENT\")\n",
    "m = project.listMaps(\"Map\")[0]"
   ]
  },
  {
   "cell_type": "markdown",
   "metadata": {},
   "source": [
    "### Path to FGDB And SDE"
   ]
  },
  {
   "cell_type": "code",
   "execution_count": 9,
   "metadata": {},
   "outputs": [],
   "source": [
    "# Establish SDE Connection via PGAdmin & Catalog Pane in ArcGIS Pro\n",
    "sde = r\"F:\\1. UMN MGIS\\1. Semesters\\4th Semester\\1. ArcGIS II\\2. Labs\\Lab 03\\ArcII_Lab3\\PostgreSQL-35-gis5572(postgres).sde\"\n",
    "\n",
    "#path to local database\n",
    "local_gdb = r\"F:\\1. UMN MGIS\\1. Semesters\\4th Semester\\1. ArcGIS II\\2. Labs\\Lab 03\\ArcII_Lab3\\ArcII_Lab3.gdb\""
   ]
  },
  {
   "cell_type": "code",
   "execution_count": 5,
   "metadata": {},
   "outputs": [
    {
     "data": {
      "text/html": [
       "<div class='gpresult'><h2>Messages</h2><div id='messages' data-messages='[\"Start Time: Friday, 12 April 2024 12:20:57 am\",\"WARNING 000258: Output F:\\\\1. UMN MGIS\\\\1. Semesters\\\\4th Semester\\\\1. ArcGIS II\\\\2. Labs\\\\Lab 03\\\\ArcII_Lab3\\\\PostgreSQL-35-gis5572(postgres).sde already exists\",\"Succeeded at Friday, 12 April 2024 12:21:01 am (Elapsed Time: 4.01 seconds)\"]' data-show='true'><div id = 'default' /></div></div>"
      ],
      "text/plain": [
       "<Result 'F:\\\\1. UMN MGIS\\\\1. Semesters\\\\4th Semester\\\\1. ArcGIS II\\\\2. Labs\\\\Lab 03\\\\ArcII_Lab3\\\\PostgreSQL-35-gis5572(postgres).sde'>"
      ]
     },
     "execution_count": 5,
     "metadata": {},
     "output_type": "execute_result"
    }
   ],
   "source": [
    "# Create database connection\n",
    "dbname = 'PostgreSQL-35-gis5572(postgres).sde'\n",
    "platform = 'POSTGRESQL'\n",
    "user = 'postgres'\n",
    "password = '*****'\n",
    "instance = '35.238.64.215'\n",
    "port = '5432'\n",
    "auth = 'DATABASE_AUTH'\n",
    "save = 'SAVE_USERNAME'\n",
    "db = 'gis5572'\n",
    "\n",
    "arcpy.management.CreateDatabaseConnection(\n",
    "    out_folder_path = file_path,\n",
    "    out_name = dbname,\n",
    "    database_platform = platform,\n",
    "    instance = instance,\n",
    "    account_authentication = auth,\n",
    "    username = user,\n",
    "    password = password,\n",
    "    save_user_pass = save,\n",
    "    database = db\n",
    ")"
   ]
  },
  {
   "cell_type": "markdown",
   "metadata": {
    "heading_collapsed": true
   },
   "source": [
    "### Minnesota State and Cities Boundary Boundary¶\n",
    "by MN Geospatial Commons\n",
    "\n",
    "State: https://gisdata.mn.gov/dataset/bdry-state-of-minnesota\n",
    "\n",
    "Cities: https://gisdata.mn.gov/dataset/bdry-mn-city-township-unorg"
   ]
  },
  {
   "cell_type": "code",
   "execution_count": 5,
   "metadata": {
    "hidden": true
   },
   "outputs": [
    {
     "name": "stdout",
     "output_type": "stream",
     "text": [
      "Shapefiles copied to the file geodatabase.\n"
     ]
    }
   ],
   "source": [
    "# Paths to the input shapefiles and output geodatabase\n",
    "mn_state_boundary = r\"F:\\1. UMN MGIS\\1. Semesters\\4th Semester\\1. ArcGIS II\\2. Labs\\Lab 02\\Data\\MN County Boundaries\\mn_county_boundaries\"\n",
    "mn_state_cities = r\"F:\\1. UMN MGIS\\1. Semesters\\4th Semester\\1. ArcGIS II\\2. Labs\\Lab 02\\Data\\MN County Boundaries\\shp_bdry_mn_city_township_unorg\\city_township_unorg\"\n",
    "\n",
    "# Copy shapefiles to the geodatabase\n",
    "arcpy.conversion.FeatureClassToGeodatabase(mn_state_boundary, local_gdb)\n",
    "arcpy.conversion.FeatureClassToGeodatabase(mn_state_cities, local_gdb)\n",
    "\n",
    "# Add copied shapefiles to the map\n",
    "m.addDataFromPath(local_gdb + \"\\\\\" + os.path.basename(mn_state_boundary))\n",
    "m.addDataFromPath(local_gdb + \"\\\\\" + os.path.basename(mn_state_cities))\n",
    "\n",
    "print(\"Shapefiles copied to the file geodatabase.\")"
   ]
  },
  {
   "cell_type": "markdown",
   "metadata": {
    "heading_collapsed": true
   },
   "source": [
    "### WEATHER DATA QA/QC (Subject to change)"
   ]
  },
  {
   "cell_type": "markdown",
   "metadata": {
    "hidden": true
   },
   "source": [
    "#### Setting Up Date Variables and Fetching Weather Data"
   ]
  },
  {
   "cell_type": "code",
   "execution_count": 20,
   "metadata": {
    "hidden": true
   },
   "outputs": [],
   "source": [
    "# Establish variables for the dates\n",
    "today = str(date.today())\n",
    "\n",
    "day_num = int(today[8:10])\n",
    "month_num = int(today[5:7])\n",
    "year_num = int(today[0:4])\n",
    "day = str(day_num)\n",
    "month = str(month_num)\n",
    "year = str(year_num)\n",
    "\n",
    "# Acquire MN temperature data from Iowa State API in GeoJSON format\n",
    "minnesota_temp = requests.get(r'https://mesonet.agron.iastate.edu/api/1/daily.geojson?network=MN_RWIS&date=' + today)\n",
    "minn_json = minnesota_temp.json()"
   ]
  },
  {
   "cell_type": "markdown",
   "metadata": {
    "heading_collapsed": true,
    "hidden": true
   },
   "source": [
    "#### GeoJSON Weather Data Error Checking and Validation "
   ]
  },
  {
   "cell_type": "code",
   "execution_count": 16,
   "metadata": {
    "hidden": true
   },
   "outputs": [
    {
     "name": "stdout",
     "output_type": "stream",
     "text": [
      "{'type': 'FeatureCollection', 'crs': {'type': 'name', 'properties': {'name': 'urn:ogc:def:crs:OGC:1.3:CRS84'}}, 'features': [{'type': 'Feature', 'properties': {'station': 'MN001', 'date': '2024-03-28', 'max_tmpf': 36.68, 'min_tmpf': 16.88, 'precip': None, 'max_gust': 10.6892, 'snow': None, 'snowd': None, 'min_rh': 40.0, 'max_rh': 87.0, 'max_dwpf': 17.276003, 'min_dwpf': 11.569978, 'min_feel': 11.282033, 'avg_feel': None, 'max_feel': 36.68, 'max_drct': None, 'precip_est': False, 'tmpf_est': False, 'max_gust_localts': '2024-03-28T12:20:00Z', 'temp_hour': None, 'avg_sknt': None, 'vector_avg_drct': None, 'min_rstage': None, 'max_rstage': None, 'id': 'MN001', 'name': 'Twin Lakes I-35 Mile Post 1', 'error': 'No Errors Found'}, 'geometry': {'type': 'Point', 'coordinates': [-93.354057312, 43.5083312988]}}, {'type': 'Feature', 'properties': {'station': 'MN002', 'date': '2024-03-28', 'max_tmpf': 29.48, 'min_tmpf': 10.58, 'precip': None, 'max_gust': 9.330454, 'snow': None, 'snowd': None, 'min_rh': 47.0, 'max_rh': 87.0, 'max_dwpf': 13.2440195, 'min_dwpf': 7.483998, 'min_feel': 0.3689935, 'avg_feel': None, 'max_feel': 29.48, 'max_drct': None, 'precip_est': False, 'tmpf_est': False, 'max_gust_localts': '2024-03-28T07:40:00Z', 'temp_hour': None, 'avg_sknt': None, 'vector_avg_drct': None, 'min_rstage': None, 'max_rstage': None, 'id': 'MN002', 'name': 'Silver Lake TH 7 Mile Post 1', 'error': 'No Errors Found'}, 'geometry': {'type': 'Point', 'coordinates': [-94.1191, 44.9068]}}, {'type': 'Feature', 'properties': {'station': 'MN003', 'date': '2024-03-28', 'max_tmpf': 35.59999, 'min_tmpf': 14.18, 'precip': None, 'max_gust': 10.109935, 'snow': None, 'snowd': None, 'min_rh': 37.0, 'max_rh': 88.0, 'max_dwpf': 16.519978, 'min_dwpf': 11.03, 'min_feel': 5.83743, 'avg_feel': None, 'max_feel': 31.961077, 'max_drct': None, 'precip_est': False, 'tmpf_est': False, 'max_gust_localts': '2024-03-28T13:20:00Z', 'temp_hour': None, 'avg_sknt': None, 'vector_avg_drct': None, 'min_rstage': None, 'max_rstage': None, 'id': 'MN003', 'name': 'Little Chicago I-35 Mile Post 70', 'error': 'No Errors Found'}, 'geometry': {'type': 'Point', 'coordinates': [-93.292427063, 44.4785003662]}}, {'type': 'Feature', 'properties': {'station': 'MN004', 'date': '2024-03-28', 'max_tmpf': 30.019978, 'min_tmpf': 13.819978, 'precip': None, 'max_gust': 46.259613, 'snow': None, 'snowd': None, 'min_rh': 45.0, 'max_rh': 76.0, 'max_dwpf': 12.272004, 'min_dwpf': 7.6820264, 'min_feel': 5.8730283, 'avg_feel': None, 'max_feel': 28.940022, 'max_drct': None, 'precip_est': False, 'tmpf_est': False, 'max_gust_localts': '2024-03-28T09:20:00Z', 'temp_hour': None, 'avg_sknt': None, 'vector_avg_drct': None, 'min_rstage': None, 'max_rstage': None, 'id': 'MN004', 'name': 'Rush City I-35 Mile Post 157', 'error': 'No Errors Found'}, 'geometry': {'type': 'Point', 'coordinates': [-92.9927520752, 45.6429214478]}}, {'type': 'Feature', 'properties': {'station': 'MN005', 'date': '2024-03-28', 'max_tmpf': 33.799988, 'min_tmpf': 9.860011, 'precip': None, 'max_gust': None, 'snow': None, 'snowd': None, 'min_rh': 39.0, 'max_rh': 90.0, 'max_dwpf': 15.133998, 'min_dwpf': 6.9619823, 'min_feel': None, 'avg_feel': None, 'max_feel': None, 'max_drct': None, 'precip_est': False, 'tmpf_est': False, 'max_gust_localts': None, 'temp_hour': None, 'avg_sknt': None, 'vector_avg_drct': None, 'min_rstage': None, 'max_rstage': None, 'id': 'MN005', 'name': 'Rutledge I-35 Mile Post 198', 'error': 'No Errors Found'}, 'geometry': {'type': 'Point', 'coordinates': [-92.8385620117, 46.2125701904]}}, {'type': 'Feature', 'properties': {'station': 'MN006', 'date': '2024-03-28', 'max_tmpf': 39.19999, 'min_tmpf': 15.98, 'precip': None, 'max_gust': 14.969546, 'snow': None, 'snowd': None, 'min_rh': 49.0, 'max_rh': 90.0, 'max_dwpf': 22.819979, 'min_dwpf': 12.019978, 'min_feel': 8.637577, 'avg_feel': None, 'max_feel': 33.455635, 'max_drct': None, 'precip_est': False, 'tmpf_est': False, 'max_gust_localts': '2024-03-28T13:00:00Z', 'temp_hour': None, 'avg_sknt': None, 'vector_avg_drct': None, 'min_rstage': None, 'max_rstage': None, 'id': 'MN006', 'name': 'Beaver Creek I-90 Mile Post 4', 'error': 'No Errors Found'}, 'geometry': {'type': 'Point', 'coordinates': [-96.3779, 43.6083]}}, {'type': 'Feature', 'properties': {'station': 'MN007', 'date': '2024-03-28', 'max_tmpf': 33.61998, 'min_tmpf': 15.260011, 'precip': None, 'max_gust': 11.270411, 'snow': None, 'snowd': None, 'min_rh': 50.0, 'max_rh': 84.0, 'max_dwpf': 21.326002, 'min_dwpf': 10.777973, 'min_feel': 6.8556705, 'avg_feel': None, 'max_feel': 27.933968, 'max_drct': None, 'precip_est': False, 'tmpf_est': False, 'max_gust_localts': '2024-03-28T12:00:00Z', 'temp_hour': None, 'avg_sknt': None, 'vector_avg_drct': None, 'min_rstage': None, 'max_rstage': None, 'id': 'MN007', 'name': 'I-90 Mile Post 35', 'error': 'No Errors Found'}, 'geometry': {'type': 'Point', 'coordinates': [-95.7699127197, 43.6373405457]}}, {'type': 'Feature', 'properties': {'station': 'MN008', 'date': '2024-03-28', 'max_tmpf': 32.360012, 'min_tmpf': 14.719978, 'precip': None, 'max_gust': 8.360476, 'snow': None, 'snowd': None, 'min_rh': 61.0, 'max_rh': 94.0, 'max_dwpf': 22.118006, 'min_dwpf': 9.968006, 'min_feel': 6.2110558, 'avg_feel': None, 'max_feel': 27.652287, 'max_drct': None, 'precip_est': False, 'tmpf_est': False, 'max_gust_localts': '2024-03-28T12:40:00Z', 'temp_hour': None, 'avg_sknt': None, 'vector_avg_drct': None, 'min_rstage': None, 'max_rstage': None, 'id': 'MN008', 'name': 'I-90 Mile Post 67', 'error': 'No Errors Found'}, 'geometry': {'type': 'Point', 'coordinates': [-95.1185379028, 43.6386909485]}}, {'type': 'Feature', 'properties': {'station': 'MN009', 'date': '2024-03-28', 'max_tmpf': 37.76001, 'min_tmpf': 14.899989, 'precip': None, 'max_gust': 10.109935, 'snow': None, 'snowd': None, 'min_rh': 42.0, 'max_rh': 92.0, 'max_dwpf': 18.64402, 'min_dwpf': 12.506013, 'min_feel': 12.324169, 'avg_feel': None, 'max_feel': 37.040024, 'max_drct': None, 'precip_est': False, 'tmpf_est': False, 'max_gust_localts': '2024-03-28T12:40:00Z', 'temp_hour': None, 'avg_sknt': None, 'vector_avg_drct': None, 'min_rstage': None, 'max_rstage': None, 'id': 'MN009', 'name': 'Blue Earth I-90 Mile Post 119', 'error': 'No Errors Found'}, 'geometry': {'type': 'Point', 'coordinates': [-94.1224365234, 43.6630516052]}}, {'type': 'Feature', 'properties': {'station': 'MN010', 'date': '2024-03-28', 'max_tmpf': 34.340023, 'min_tmpf': 16.519978, 'precip': None, 'max_gust': 11.470626, 'snow': None, 'snowd': None, 'min_rh': 52.0, 'max_rh': 91.0, 'max_dwpf': 21.577974, 'min_dwpf': 14.036024, 'min_feel': 6.6604033, 'avg_feel': None, 'max_feel': 31.819979, 'max_drct': None, 'precip_est': False, 'tmpf_est': False, 'max_gust_localts': '2024-03-28T00:00:00Z', 'temp_hour': None, 'avg_sknt': None, 'vector_avg_drct': None, 'min_rstage': None, 'max_rstage': None, 'id': 'MN010', 'name': 'Dexter I-90 Mile Post 195', 'error': 'No Errors Found'}, 'geometry': {'type': 'Point', 'coordinates': [-92.6813735962, 43.7271614075]}}, {'type': 'Feature', 'properties': {'station': 'MN011', 'date': '2024-03-28', 'max_tmpf': 33.98, 'min_tmpf': 15.260011, 'precip': None, 'max_gust': 15.160043, 'snow': None, 'snowd': None, 'min_rh': 46.0, 'max_rh': 87.0, 'max_dwpf': 17.311983, 'min_dwpf': 12.019978, 'min_feel': 5.1386905, 'avg_feel': None, 'max_feel': 30.19999, 'max_drct': None, 'precip_est': False, 'tmpf_est': False, 'max_gust_localts': '2024-03-28T00:20:00Z', 'temp_hour': None, 'avg_sknt': None, 'vector_avg_drct': None, 'min_rstage': None, 'max_rstage': None, 'id': 'MN011', 'name': 'Jct CR 7 I-90 Mile Post 226', 'error': 'No Errors Found'}, 'geometry': {'type': 'Point', 'coordinates': [-92.2051467896, 43.9556388855]}}, {'type': 'Feature', 'properties': {'station': 'MN012', 'date': '2024-03-28', 'max_tmpf': 33.26001, 'min_tmpf': 16.340021, 'precip': None, 'max_gust': 16.520735, 'snow': None, 'snowd': None, 'min_rh': 42.0, 'max_rh': 86.0, 'max_dwpf': 18.698017, 'min_dwpf': 11.660011, 'min_feel': 6.468894, 'avg_feel': None, 'max_feel': 25.435957, 'max_drct': None, 'precip_est': False, 'tmpf_est': False, 'max_gust_localts': '2024-03-28T00:55:00Z', 'temp_hour': None, 'avg_sknt': None, 'vector_avg_drct': None, 'min_rstage': None, 'max_rstage': None, 'id': 'MN012', 'name': 'Ridgeway I-90 Mile Post 261', 'error': 'No Errors Found'}, 'geometry': {'type': 'Point', 'coordinates': [-91.5435791016, 43.9119186401]}}, {'type': 'Feature', 'properties': {'station': 'MN013', 'date': '2024-03-28', 'max_tmpf': 34.519978, 'min_tmpf': 11.48, 'precip': None, 'max_gust': 15.749028, 'snow': None, 'snowd': None, 'min_rh': 40.0, 'max_rh': 81.0, 'max_dwpf': 14.882027, 'min_dwpf': 5.7560134, 'min_feel': 4.1258574, 'avg_feel': None, 'max_feel': 33.98, 'max_drct': None, 'precip_est': False, 'tmpf_est': False, 'max_gust_localts': '2024-03-28T00:00:00Z', 'temp_hour': None, 'avg_sknt': None, 'vector_avg_drct': None, 'min_rstage': None, 'max_rstage': None, 'id': 'MN013', 'name': 'Dilworth I-94 Mile Post 5', 'error': 'No Errors Found'}, 'geometry': {'type': 'Point', 'coordinates': [-96.6681365967, 46.8467903137]}}, {'type': 'Feature', 'properties': {'station': 'MN014', 'date': '2024-03-28', 'max_tmpf': 31.28, 'min_tmpf': 7.519978, 'precip': None, 'max_gust': 10.109935, 'snow': None, 'snowd': None, 'min_rh': 43.0, 'max_rh': 87.0, 'max_dwpf': 13.010011, 'min_dwpf': 3.7220044, 'min_feel': 2.4397101, 'avg_feel': None, 'max_feel': 23.454199, 'max_drct': None, 'precip_est': False, 'tmpf_est': False, 'max_gust_localts': '2024-03-28T00:00:00Z', 'temp_hour': None, 'avg_sknt': None, 'vector_avg_drct': None, 'min_rstage': None, 'max_rstage': None, 'id': 'MN014', 'name': 'Rothsay I-94 Mile Post 38', 'error': 'No Errors Found'}, 'geometry': {'type': 'Point', 'coordinates': [-96.2912521362, 46.4906616211]}}, {'type': 'Feature', 'properties': {'station': 'MN015', 'date': '2024-03-28', 'max_tmpf': 31.28, 'min_tmpf': 10.760011, 'precip': None, 'max_gust': 12.440605, 'snow': None, 'snowd': None, 'min_rh': 40.0, 'max_rh': 84.0, 'max_dwpf': 11.03, 'min_dwpf': 6.890022, 'min_feel': 0.2721976, 'avg_feel': None, 'max_feel': 31.28, 'max_drct': None, 'precip_est': False, 'tmpf_est': False, 'max_gust_localts': '2024-03-28T02:00:00Z', 'temp_hour': None, 'avg_sknt': None, 'vector_avg_drct': None, 'min_rstage': None, 'max_rstage': None, 'id': 'MN015', 'name': 'Alexandria I-94 Mile Post 104', 'error': 'No Errors Found'}, 'geometry': {'type': 'Point', 'coordinates': [-95.3662185669, 45.8376502991]}}, {'type': 'Feature', 'properties': {'station': 'MN016', 'date': '2024-03-28', 'max_tmpf': 28.58, 'min_tmpf': 8.240022, 'precip': None, 'max_gust': 11.470626, 'snow': None, 'snowd': None, 'min_rh': 49.0, 'max_rh': 88.0, 'max_dwpf': 12.776002, 'min_dwpf': 5.18, 'min_feel': -0.25057453, 'avg_feel': None, 'max_feel': 23.58118, 'max_drct': None, 'precip_est': False, 'tmpf_est': False, 'max_gust_localts': '2024-03-28T03:40:00Z', 'temp_hour': None, 'avg_sknt': None, 'vector_avg_drct': None, 'min_rstage': None, 'max_rstage': None, 'id': 'MN016', 'name': 'Sauk Center I-94 Mile Post 128', 'error': 'No Errors Found'}, 'geometry': {'type': 'Point', 'coordinates': [-94.9314498901, 45.7131004333]}}, {'type': 'Feature', 'properties': {'station': 'MN017', 'date': '2024-03-28', 'max_tmpf': None, 'min_tmpf': None, 'precip': None, 'max_gust': 9.139956, 'snow': None, 'snowd': None, 'min_rh': None, 'max_rh': None, 'max_dwpf': None, 'min_dwpf': None, 'min_feel': None, 'avg_feel': None, 'max_feel': None, 'max_drct': None, 'precip_est': False, 'tmpf_est': False, 'max_gust_localts': '2024-03-28T11:00:00Z', 'temp_hour': None, 'avg_sknt': None, 'vector_avg_drct': None, 'min_rstage': None, 'max_rstage': None, 'id': 'MN017', 'name': 'Clearwater I-94 Mile Post 180', 'error': 'Error: No temperature data available at this location'}, 'geometry': {'type': 'Point', 'coordinates': [-94.0256118774, 45.3946914673]}}, {'type': 'Feature', 'properties': {'station': 'MN018', 'date': '2024-03-28', 'max_tmpf': 27.140022, 'min_tmpf': 10.760011, 'precip': None, 'max_gust': 16.130022, 'snow': None, 'snowd': None, 'min_rh': 48.0, 'max_rh': 79.0, 'max_dwpf': 10.076002, 'min_dwpf': 5.053987, 'min_feel': -1.0055438, 'avg_feel': None, 'max_feel': 16.49066, 'max_drct': None, 'precip_est': False, 'tmpf_est': False, 'max_gust_localts': '2024-03-28T12:40:00Z', 'temp_hour': None, 'avg_sknt': None, 'vector_avg_drct': None, 'min_rstage': None, 'max_rstage': None, 'id': 'MN018', 'name': 'Shooks MN-1 Mile Post 34', 'error': 'No Errors Found'}, 'geometry': {'type': 'Point', 'coordinates': [-94.4324264526, 47.8743095398]}}, {'type': 'Feature', 'properties': {'station': 'MN019', 'date': '2024-03-28', 'max_tmpf': 24.260012, 'min_tmpf': 13.099989, 'precip': None, 'max_gust': 18.470411, 'snow': None, 'snowd': None, 'min_rh': 55.0, 'max_rh': 86.0, 'max_dwpf': 11.840022, 'min_dwpf': 7.5020156, 'min_feel': 1.6876566, 'avg_feel': None, 'max_feel': 16.151346, 'max_drct': None, 'precip_est': False, 'tmpf_est': False, 'max_gust_localts': '2024-03-28T11:15:00Z', 'temp_hour': None, 'avg_sknt': None, 'vector_avg_drct': None, 'min_rstage': None, 'max_rstage': None, 'id': 'MN019', 'name': 'Ely MN-1 Mile Post 275', 'error': 'No Errors Found'}, 'geometry': {'type': 'Point', 'coordinates': [-92.0481109619, 47.8544006348]}}, {'type': 'Feature', 'properties': {'station': 'MN020', 'date': '2024-03-28', 'max_tmpf': 32.360012, 'min_tmpf': 13.999989, 'precip': None, 'max_gust': 18.859179, 'snow': None, 'snowd': None, 'min_rh': 38.0, 'max_rh': 82.0, 'max_dwpf': 10.8320265, 'min_dwpf': 6.7279735, 'min_feel': 4.903859, 'avg_feel': None, 'max_feel': 25.019808, 'max_drct': None, 'precip_est': False, 'tmpf_est': False, 'max_gust_localts': '2024-03-28T11:40:00Z', 'temp_hour': None, 'avg_sknt': None, 'vector_avg_drct': None, 'min_rstage': None, 'max_rstage': None, 'id': 'MN020', 'name': 'Emily MN-6 Mile Post 29', 'error': 'No Errors Found'}, 'geometry': {'type': 'Point', 'coordinates': [-93.9544906616, 46.6882209778]}}, {'type': 'Feature', 'properties': {'station': 'MN021', 'date': '2024-03-28', 'max_tmpf': 26.599989, 'min_tmpf': 5.360011, 'precip': None, 'max_gust': 9.719222, 'snow': None, 'snowd': None, 'min_rh': 58.0, 'max_rh': 91.0, 'max_dwpf': 14.341993, 'min_dwpf': 2.840022, 'min_feel': -5.8456006, 'avg_feel': None, 'max_feel': 26.599989, 'max_drct': None, 'precip_est': False, 'tmpf_est': False, 'max_gust_localts': '2024-03-28T00:00:00Z', 'temp_hour': None, 'avg_sknt': None, 'vector_avg_drct': None, 'min_rstage': None, 'max_rstage': None, 'id': 'MN021', 'name': 'Clara City MN-7 Mile Post 89', 'error': 'No Errors Found'}, 'geometry': {'type': 'Point', 'coordinates': [-95.4095, 44.9493]}}, {'type': 'Feature', 'properties': {'station': 'MN022', 'date': '2024-03-28', 'max_tmpf': 29.840021, 'min_tmpf': 12.919978, 'precip': None, 'max_gust': 9.330454, 'snow': None, 'snowd': None, 'min_rh': 46.0, 'max_rh': 84.0, 'max_dwpf': 14.233997, 'min_dwpf': 8.7440195, 'min_feel': 0.80265254, 'avg_feel': None, 'max_feel': 24.383415, 'max_drct': None, 'precip_est': False, 'tmpf_est': False, 'max_gust_localts': '2024-03-28T07:15:00Z', 'temp_hour': None, 'avg_sknt': None, 'vector_avg_drct': None, 'min_rstage': None, 'max_rstage': None, 'id': 'MN022', 'name': 'Lester Prairie MN-7 Mile Post 161', 'error': 'No Errors Found'}, 'geometry': {'type': 'Point', 'coordinates': [-93.9864, 44.9061]}}, {'type': 'Feature', 'properties': {'station': 'MN023', 'date': '2024-03-28', 'max_tmpf': 29.660011, 'min_tmpf': 12.919978, 'precip': None, 'max_gust': 9.52095, 'snow': None, 'snowd': None, 'min_rh': 44.0, 'max_rh': 83.0, 'max_dwpf': 13.477974, 'min_dwpf': 8.473976, 'min_feel': 3.389445, 'avg_feel': None, 'max_feel': 26.06001, 'max_drct': None, 'precip_est': False, 'tmpf_est': False, 'max_gust_localts': '2024-03-28T02:00:00Z', 'temp_hour': None, 'avg_sknt': None, 'vector_avg_drct': None, 'min_rstage': None, 'max_rstage': None, 'id': 'MN023', 'name': 'Mayer TH 7 Mile Post 167', 'error': 'No Errors Found'}, 'geometry': {'type': 'Point', 'coordinates': [-93.8695, 44.9059]}}, {'type': 'Feature', 'properties': {'station': 'MN024', 'date': '2024-03-28', 'max_tmpf': 33.26001, 'min_tmpf': 10.760011, 'precip': None, 'max_gust': 17.109718, 'snow': None, 'snowd': None, 'min_rh': 36.0, 'max_rh': 79.0, 'max_dwpf': 10.273975, 'min_dwpf': 4.6579847, 'min_feel': -2.4689698, 'avg_feel': None, 'max_feel': 24.368757, 'max_drct': None, 'precip_est': False, 'tmpf_est': False, 'max_gust_localts': '2024-03-28T13:00:00Z', 'temp_hour': None, 'avg_sknt': None, 'vector_avg_drct': None, 'min_rstage': None, 'max_rstage': None, 'id': 'MN024', 'name': 'MN-7 Mile Post 11', 'error': 'No Errors Found'}, 'geometry': {'type': 'Point', 'coordinates': [-96.9148788452, 48.5723609924]}}, {'type': 'Feature', 'properties': {'station': 'MN025', 'date': '2024-03-28', 'max_tmpf': 28.219978, 'min_tmpf': 6.619978, 'precip': None, 'max_gust': 17.300217, 'snow': None, 'snowd': None, 'min_rh': 50.0, 'max_rh': 81.0, 'max_dwpf': 13.31598, 'min_dwpf': 2.0480175, 'min_feel': -8.162933, 'avg_feel': None, 'max_feel': 17.64825, 'max_drct': None, 'precip_est': False, 'tmpf_est': False, 'max_gust_localts': '2024-03-28T12:55:00Z', 'temp_hour': None, 'avg_sknt': None, 'vector_avg_drct': None, 'min_rstage': None, 'max_rstage': None, 'id': 'MN025', 'name': 'MN-11 Mile Post 62', 'error': 'No Errors Found'}, 'geometry': {'type': 'Point', 'coordinates': [-95.9610137939, 48.8195114136]}}, {'type': 'Feature', 'properties': {'station': 'MN026', 'date': '2024-03-28', 'max_tmpf': 23.18, 'min_tmpf': 8.240022, 'precip': None, 'max_gust': 18.859179, 'snow': None, 'snowd': None, 'min_rh': 52.0, 'max_rh': 84.0, 'max_dwpf': 10.777973, 'min_dwpf': 3.1459913, 'min_feel': -4.9054837, 'avg_feel': None, 'max_feel': 11.275343, 'max_drct': None, 'precip_est': False, 'tmpf_est': False, 'max_gust_localts': '2024-03-28T13:20:00Z', 'temp_hour': None, 'avg_sknt': None, 'vector_avg_drct': None, 'min_rstage': None, 'max_rstage': None, 'id': 'MN026', 'name': 'Brichdale MN-11 Mile Post 157', 'error': 'No Errors Found'}, 'geometry': {'type': 'Point', 'coordinates': [-94.0670928955, 48.6276817322]}}, {'type': 'Feature', 'properties': {'station': 'MN027', 'date': '2024-03-28', 'max_tmpf': 27.319979, 'min_tmpf': 12.38, 'precip': None, 'max_gust': None, 'snow': None, 'snowd': None, 'min_rh': 53.0, 'max_rh': 85.0, 'max_dwpf': 12.722004, 'min_dwpf': 6.5659804, 'min_feel': None, 'avg_feel': None, 'max_feel': None, 'max_drct': None, 'precip_est': False, 'tmpf_est': False, 'max_gust_localts': None, 'temp_hour': None, 'avg_sknt': None, 'vector_avg_drct': None, 'min_rstage': None, 'max_rstage': None, 'id': 'MN027', 'name': 'MN-11 Mile Post 199', 'error': 'No Errors Found'}, 'geometry': {'type': 'Point', 'coordinates': [-93.3734436035, 48.6017913818]}}, {'type': 'Feature', 'properties': {'station': 'MN028', 'date': '2024-03-28', 'max_tmpf': 25.340021, 'min_tmpf': 10.040022, 'precip': None, 'max_gust': 11.079913, 'snow': None, 'snowd': None, 'min_rh': 58.0, 'max_rh': 89.0, 'max_dwpf': 13.999989, 'min_dwpf': 6.890022, 'min_feel': -3.0804086, 'avg_feel': None, 'max_feel': 17.665497, 'max_drct': None, 'precip_est': False, 'tmpf_est': False, 'max_gust_localts': '2024-03-28T12:40:00Z', 'temp_hour': None, 'avg_sknt': None, 'vector_avg_drct': None, 'min_rstage': None, 'max_rstage': None, 'id': 'MN028', 'name': 'Lake Benton US-14 Mile Post 7', 'error': 'No Errors Found'}, 'geometry': {'type': 'Point', 'coordinates': [-96.3200378418, 44.2702598572]}}, {'type': 'Feature', 'properties': {'station': 'MN029', 'date': '2024-03-28', 'max_tmpf': 35.24002, 'min_tmpf': 13.640022, 'precip': None, 'max_gust': 13.999568, 'snow': None, 'snowd': None, 'min_rh': 45.0, 'max_rh': 88.0, 'max_dwpf': 18.499989, 'min_dwpf': 10.453987, 'min_feel': 2.3061895, 'avg_feel': None, 'max_feel': 33.98, 'max_drct': None, 'precip_est': False, 'tmpf_est': False, 'max_gust_localts': '2024-03-28T00:00:00Z', 'temp_hour': None, 'avg_sknt': None, 'vector_avg_drct': None, 'min_rstage': None, 'max_rstage': None, 'id': 'MN029', 'name': 'Byron US-14 Mile Post 200', 'error': 'No Errors Found'}, 'geometry': {'type': 'Point', 'coordinates': [-92.70819854736328, 44.02439880371094]}}, {'type': 'Feature', 'properties': {'station': 'MN030', 'date': '2024-03-28', 'max_tmpf': 27.319979, 'min_tmpf': 10.040022, 'precip': None, 'max_gust': 11.859395, 'snow': None, 'snowd': None, 'min_rh': 55.0, 'max_rh': 91.0, 'max_dwpf': 15.11598, 'min_dwpf': 6.440022, 'min_feel': 1.1946551, 'avg_feel': None, 'max_feel': 20.587168, 'max_drct': None, 'precip_est': False, 'tmpf_est': False, 'max_gust_localts': '2024-03-28T00:00:00Z', 'temp_hour': None, 'avg_sknt': None, 'vector_avg_drct': None, 'min_rstage': None, 'max_rstage': None, 'id': 'MN030', 'name': 'Hendricks MN-19 Mile Post 2', 'error': 'No Errors Found'}, 'geometry': {'type': 'Point', 'coordinates': [-96.4352264404, 44.4588890076]}}, {'type': 'Feature', 'properties': {'station': 'MN031', 'date': '2024-03-28', 'max_tmpf': 32.540024, 'min_tmpf': 6.440022, 'precip': None, 'max_gust': 8.360476, 'snow': None, 'snowd': None, 'min_rh': 46.0, 'max_rh': 91.0, 'max_dwpf': 15.98, 'min_dwpf': 3.1640089, 'min_feel': 6.440022, 'avg_feel': None, 'max_feel': 31.999989, 'max_drct': None, 'precip_est': False, 'tmpf_est': False, 'max_gust_localts': '2024-03-28T13:20:00Z', 'temp_hour': None, 'avg_sknt': None, 'vector_avg_drct': None, 'min_rstage': None, 'max_rstage': None, 'id': 'MN031', 'name': 'Morton MN-19 Mile Post 78', 'error': 'No Errors Found'}, 'geometry': {'type': 'Point', 'coordinates': [-94.9954223633, 44.544708252]}}, {'type': 'Feature', 'properties': {'station': 'MN032', 'date': '2024-03-28', 'max_tmpf': 27.319979, 'min_tmpf': 10.040022, 'precip': None, 'max_gust': 7.9697623, 'snow': None, 'snowd': None, 'min_rh': 56.0, 'max_rh': 88.0, 'max_dwpf': 17.78, 'min_dwpf': 6.710011, 'min_feel': 0.36881772, 'avg_feel': None, 'max_feel': 27.319979, 'max_drct': None, 'precip_est': False, 'tmpf_est': False, 'max_gust_localts': '2024-03-28T00:20:00Z', 'temp_hour': None, 'avg_sknt': None, 'vector_avg_drct': None, 'min_rstage': None, 'max_rstage': None, 'id': 'MN032', 'name': 'Winthrop MN-19 Mile Post 108', 'error': 'No Errors Found'}, 'geometry': {'type': 'Point', 'coordinates': [-94.4141235352, 44.5431900024]}}, {'type': 'Feature', 'properties': {'station': 'MN033', 'date': '2024-03-28', 'max_tmpf': 26.78, 'min_tmpf': 7.340022, 'precip': None, 'max_gust': 8.939741, 'snow': None, 'snowd': None, 'min_rh': 56.0, 'max_rh': 90.0, 'max_dwpf': 13.6220045, 'min_dwpf': 3.6320264, 'min_feel': -2.0042691, 'avg_feel': None, 'max_feel': 26.78, 'max_drct': None, 'precip_est': False, 'tmpf_est': False, 'max_gust_localts': '2024-03-28T04:40:00Z', 'temp_hour': None, 'avg_sknt': None, 'vector_avg_drct': None, 'min_rstage': None, 'max_rstage': None, 'id': 'MN033', 'name': 'Hanley Falls MN-23 Mile Post 94', 'error': 'No Errors Found'}, 'geometry': {'type': 'Point', 'coordinates': [-95.6140136719, 44.691619873]}}, {'type': 'Feature', 'properties': {'station': 'MN034', 'date': '2024-03-28', 'max_tmpf': 33.61998, 'min_tmpf': 9.499989, 'precip': None, 'max_gust': 7.9697623, 'snow': None, 'snowd': None, 'min_rh': 38.0, 'max_rh': 86.0, 'max_dwpf': 11.011982, 'min_dwpf': 5.576002, 'min_feel': 9.499989, 'avg_feel': None, 'max_feel': 31.28, 'max_drct': None, 'precip_est': False, 'tmpf_est': False, 'max_gust_localts': '2024-03-28T01:20:00Z', 'temp_hour': None, 'avg_sknt': None, 'vector_avg_drct': None, 'min_rstage': None, 'max_rstage': None, 'id': 'MN034', 'name': 'MN-23 Mile Post 215', 'error': 'No Errors Found'}, 'geometry': {'type': 'Point', 'coordinates': [-94.03077697753906, 45.607810974121094]}}, {'type': 'Feature', 'properties': {'station': 'MN035', 'date': '2024-03-28', 'max_tmpf': 31.999989, 'min_tmpf': 8.960011, 'precip': None, 'max_gust': 14.190064, 'snow': None, 'snowd': None, 'min_rh': 38.0, 'max_rh': 86.0, 'max_dwpf': 11.119978, 'min_dwpf': 4.406013, 'min_feel': -1.8191054, 'avg_feel': None, 'max_feel': 25.136957, 'max_drct': None, 'precip_est': False, 'tmpf_est': False, 'max_gust_localts': '2024-03-28T11:00:00Z', 'temp_hour': None, 'avg_sknt': None, 'vector_avg_drct': None, 'min_rstage': None, 'max_rstage': None, 'id': 'MN035', 'name': 'Lastrup MN-25 Mile Post 140', 'error': 'No Errors Found'}, 'geometry': {'type': 'Point', 'coordinates': [-94.1041030884, 46.1442604065]}}, {'type': 'Feature', 'properties': {'station': 'MN036', 'date': '2024-03-28', 'max_tmpf': 27.140022, 'min_tmpf': 6.619978, 'precip': None, 'max_gust': 10.300432, 'snow': None, 'snowd': None, 'min_rh': 51.0, 'max_rh': 90.0, 'max_dwpf': 12.307984, 'min_dwpf': 3.5959911, 'min_feel': -4.8159227, 'avg_feel': None, 'max_feel': 27.140022, 'max_drct': None, 'precip_est': False, 'tmpf_est': False, 'max_gust_localts': '2024-03-28T00:40:00Z', 'temp_hour': None, 'avg_sknt': None, 'vector_avg_drct': None, 'min_rstage': None, 'max_rstage': None, 'id': 'MN036', 'name': 'Graceville MN-28 Mile Post 19', 'error': 'No Errors Found'}, 'geometry': {'type': 'Point', 'coordinates': [-96.4939, 45.5582]}}, {'type': 'Feature', 'properties': {'station': 'MN037', 'date': '2024-03-28', 'max_tmpf': 31.640022, 'min_tmpf': 9.140022, 'precip': None, 'max_gust': 9.52095, 'snow': None, 'snowd': None, 'min_rh': 40.0, 'max_rh': 89.0, 'max_dwpf': 15.187996, 'min_dwpf': 5.053987, 'min_feel': 0.5847566, 'avg_feel': None, 'max_feel': 31.640022, 'max_drct': None, 'precip_est': False, 'tmpf_est': False, 'max_gust_localts': '2024-03-28T00:20:00Z', 'temp_hour': None, 'avg_sknt': None, 'vector_avg_drct': None, 'min_rstage': None, 'max_rstage': None, 'id': 'MN037', 'name': 'Langhei Township MN-29 Mile Post 46', 'error': 'No Errors Found'}, 'geometry': {'type': 'Point', 'coordinates': [-95.5622, 45.4884]}}, {'type': 'Feature', 'properties': {'station': 'MN038', 'date': '2024-03-28', 'max_tmpf': 30.740023, 'min_tmpf': 10.760011, 'precip': None, 'max_gust': 8.749244, 'snow': None, 'snowd': None, 'min_rh': 55.0, 'max_rh': 92.0, 'max_dwpf': 18.23, 'min_dwpf': 6.53, 'min_feel': 1.4717624, 'avg_feel': None, 'max_feel': 27.86001, 'max_drct': None, 'precip_est': False, 'tmpf_est': False, 'max_gust_localts': '2024-03-28T03:20:00Z', 'temp_hour': None, 'avg_sknt': None, 'vector_avg_drct': None, 'min_rstage': None, 'max_rstage': None, 'id': 'MN038', 'name': 'Dovray MN-30 Mile Post 49', 'error': 'No Errors Found'}, 'geometry': {'type': 'Point', 'coordinates': [-95.5972976685, 44.0571708679]}}, {'type': 'Feature', 'properties': {'station': 'MN039', 'date': '2024-03-28', 'max_tmpf': 35.59999, 'min_tmpf': 13.999989, 'precip': None, 'max_gust': 9.719222, 'snow': None, 'snowd': None, 'min_rh': 43.0, 'max_rh': 90.0, 'max_dwpf': 17.491993, 'min_dwpf': 11.552015, 'min_feel': 6.2389755, 'avg_feel': None, 'max_feel': 34.16001, 'max_drct': None, 'precip_est': False, 'tmpf_est': False, 'max_gust_localts': '2024-03-28T11:40:00Z', 'temp_hour': None, 'avg_sknt': None, 'vector_avg_drct': None, 'min_rstage': None, 'max_rstage': None, 'id': 'MN039', 'name': 'Waseca TH 14 Mile Post ??', 'error': 'No Errors Found'}, 'geometry': {'type': 'Point', 'coordinates': [-93.4945, 44.0598]}}, {'type': 'Feature', 'properties': {'station': 'MN040', 'date': '2024-03-28', 'max_tmpf': 37.040024, 'min_tmpf': 16.340021, 'precip': None, 'max_gust': 10.109935, 'snow': None, 'snowd': None, 'min_rh': 38.0, 'max_rh': 90.0, 'max_dwpf': 21.037996, 'min_dwpf': 13.099989, 'min_feel': 16.340021, 'avg_feel': None, 'max_feel': 36.319977, 'max_drct': None, 'precip_est': False, 'tmpf_est': False, 'max_gust_localts': '2024-03-28T09:55:00Z', 'temp_hour': None, 'avg_sknt': None, 'vector_avg_drct': None, 'min_rstage': None, 'max_rstage': None, 'id': 'MN040', 'name': 'Caledonia MN-44 Mile Post 60', 'error': 'No Errors Found'}, 'geometry': {'type': 'Point', 'coordinates': [-91.4367523193, 43.719329834]}}, {'type': 'Feature', 'properties': {'station': 'MN041', 'date': '2024-03-28', 'max_tmpf': 31.999989, 'min_tmpf': 12.740022, 'precip': None, 'max_gust': 16.720951, 'snow': None, 'snowd': None, 'min_rh': 29.0, 'max_rh': 56.0, 'max_dwpf': 5.936024, 'min_dwpf': -0.3279956, 'min_feel': 3.406113, 'avg_feel': None, 'max_feel': 24.132212, 'max_drct': None, 'precip_est': False, 'tmpf_est': False, 'max_gust_localts': '2024-03-28T12:00:00Z', 'temp_hour': None, 'avg_sknt': None, 'vector_avg_drct': None, 'min_rstage': None, 'max_rstage': None, 'id': 'MN041', 'name': 'Squaw Lake MN-46 Mile Post 25', 'error': 'No Errors Found'}, 'geometry': {'type': 'Point', 'coordinates': [-94.1267471313, 47.6035690308]}}, {'type': 'Feature', 'properties': {'station': 'MN042', 'date': '2024-03-28', 'max_tmpf': 30.919977, 'min_tmpf': 14.719978, 'precip': None, 'max_gust': 15.360259, 'snow': None, 'snowd': None, 'min_rh': 47.0, 'max_rh': 92.0, 'max_dwpf': 15.7640085, 'min_dwpf': 11.2640085, 'min_feel': 3.1377325, 'avg_feel': None, 'max_feel': 23.327215, 'max_drct': None, 'precip_est': False, 'tmpf_est': False, 'max_gust_localts': '2024-03-28T00:00:00Z', 'temp_hour': None, 'avg_sknt': None, 'vector_avg_drct': None, 'min_rstage': None, 'max_rstage': None, 'id': 'MN042', 'name': 'Cannon Falls US-52 Mile Post 90', 'error': 'No Errors Found'}, 'geometry': {'type': 'Point', 'coordinates': [-92.8584671021, 44.4092483521]}}, {'type': 'Feature', 'properties': {'station': 'MN043', 'date': '2024-03-28', 'max_tmpf': 28.940022, 'min_tmpf': 8.419978, 'precip': None, 'max_gust': 11.65918, 'snow': None, 'snowd': None, 'min_rh': 44.0, 'max_rh': 84.0, 'max_dwpf': 11.552015, 'min_dwpf': 4.0820265, 'min_feel': -5.7561326, 'avg_feel': None, 'max_feel': 22.339945, 'max_drct': None, 'precip_est': False, 'tmpf_est': False, 'max_gust_localts': '2024-03-28T00:20:00Z', 'temp_hour': None, 'avg_sknt': None, 'vector_avg_drct': None, 'min_rstage': None, 'max_rstage': None, 'id': 'MN043', 'name': 'Georgeville MN-55 Mile Post 98', 'error': 'No Errors Found'}, 'geometry': {'type': 'Point', 'coordinates': [-94.9324, 45.4324]}}, {'type': 'Feature', 'properties': {'station': 'MN044', 'date': '2024-03-28', 'max_tmpf': 28.040022, 'min_tmpf': 2.840022, 'precip': None, 'max_gust': 11.65918, 'snow': None, 'snowd': None, 'min_rh': 54.0, 'max_rh': 85.0, 'max_dwpf': 13.982026, 'min_dwpf': -0.8680011, 'min_feel': -4.9465804, 'avg_feel': None, 'max_feel': 19.809372, 'max_drct': None, 'precip_est': False, 'tmpf_est': False, 'max_gust_localts': '2024-03-28T12:20:00Z', 'temp_hour': None, 'avg_sknt': None, 'vector_avg_drct': None, 'min_rstage': None, 'max_rstage': None, 'id': 'MN044', 'name': 'Mahnomen US-59 Mile Post 296', 'error': 'No Errors Found'}, 'geometry': {'type': 'Point', 'coordinates': [-95.933631897, 47.2741699219]}}, {'type': 'Feature', 'properties': {'station': 'MN045', 'date': '2024-03-28', 'max_tmpf': 34.69999, 'min_tmpf': 15.799989, 'precip': None, 'max_gust': 9.139956, 'snow': None, 'snowd': None, 'min_rh': 50.0, 'max_rh': 87.0, 'max_dwpf': 20.048018, 'min_dwpf': 12.019978, 'min_feel': 8.156899, 'avg_feel': None, 'max_feel': 34.519978, 'max_drct': None, 'precip_est': False, 'tmpf_est': False, 'max_gust_localts': '2024-03-28T00:00:00Z', 'temp_hour': None, 'avg_sknt': None, 'vector_avg_drct': None, 'min_rstage': None, 'max_rstage': None, 'id': 'MN045', 'name': 'Madelia US-60 Mile Post 86', 'error': 'No Errors Found'}, 'geometry': {'type': 'Point', 'coordinates': [-94.3682479858, 44.0755615234]}}, {'type': 'Feature', 'properties': {'station': 'MN046', 'date': '2024-03-28', 'max_tmpf': 34.16001, 'min_tmpf': 14.540022, 'precip': None, 'max_gust': 21.189848, 'snow': None, 'snowd': None, 'min_rh': 32.0, 'max_rh': 80.0, 'max_dwpf': 12.848018, 'min_dwpf': 4.5320263, 'min_feel': 6.619989, 'avg_feel': None, 'max_feel': 27.96498, 'max_drct': None, 'precip_est': False, 'tmpf_est': False, 'max_gust_localts': '2024-03-28T10:40:00Z', 'temp_hour': None, 'avg_sknt': None, 'vector_avg_drct': None, 'min_rstage': None, 'max_rstage': None, 'id': 'MN046', 'name': 'Anderson Road TH 53 Mile Post 5.5', 'error': 'No Errors Found'}, 'geometry': {'type': 'Point', 'coordinates': [-92.157, 46.7948]}}, {'type': 'Feature', 'properties': {'station': 'MN047', 'date': '2024-03-28', 'max_tmpf': 31.099989, 'min_tmpf': 16.69999, 'precip': None, 'max_gust': 15.160043, 'snow': None, 'snowd': None, 'min_rh': 46.0, 'max_rh': 82.0, 'max_dwpf': 15.061982, 'min_dwpf': 11.89402, 'min_feel': 5.617923, 'avg_feel': None, 'max_feel': 24.370857, 'max_drct': None, 'precip_est': False, 'tmpf_est': False, 'max_gust_localts': '2024-03-28T00:00:00Z', 'temp_hour': None, 'avg_sknt': None, 'vector_avg_drct': None, 'min_rstage': None, 'max_rstage': None, 'id': 'MN047', 'name': 'Red Wing US-61 Mile Post 101', 'error': 'No Errors Found'}, 'geometry': {'type': 'Point', 'coordinates': [-92.6977920532, 44.601020813]}}, {'type': 'Feature', 'properties': {'station': 'MN048', 'date': '2024-03-28', 'max_tmpf': 29.29999, 'min_tmpf': 18.140022, 'precip': None, 'max_gust': 18.079699, 'snow': None, 'snowd': None, 'min_rh': 54.0, 'max_rh': 83.0, 'max_dwpf': 14.737995, 'min_dwpf': 10.237995, 'min_feel': 10.103561, 'avg_feel': None, 'max_feel': 24.000555, 'max_drct': None, 'precip_est': False, 'tmpf_est': False, 'max_gust_localts': '2024-03-28T11:20:00Z', 'temp_hour': None, 'avg_sknt': None, 'vector_avg_drct': None, 'min_rstage': None, 'max_rstage': None, 'id': 'MN048', 'name': 'Grand Portage MN-61 Mile Post 146', 'error': 'No Errors Found'}, 'geometry': {'type': 'Point', 'coordinates': [-89.684967041, 47.9764213562]}}, {'type': 'Feature', 'properties': {'station': 'MN049', 'date': '2024-03-28', 'max_tmpf': 32.18, 'min_tmpf': 2.840022, 'precip': None, 'max_gust': 11.470626, 'snow': None, 'snowd': None, 'min_rh': 36.0, 'max_rh': 90.0, 'max_dwpf': 10.507984, 'min_dwpf': -0.12999451, 'min_feel': -4.2714715, 'avg_feel': None, 'max_feel': 27.155655, 'max_drct': None, 'precip_est': False, 'tmpf_est': False, 'max_gust_localts': '2024-03-28T10:00:00Z', 'temp_hour': None, 'avg_sknt': None, 'vector_avg_drct': None, 'min_rstage': None, 'max_rstage': None, 'id': 'MN049', 'name': 'Chamberlain MN-64 Mile Post 42', 'error': 'No Errors Found'}, 'geometry': {'type': 'Point', 'coordinates': [-94.7229232788, 46.91173172]}}, {'type': 'Feature', 'properties': {'station': 'MN050', 'date': '2024-03-28', 'max_tmpf': 29.660011, 'min_tmpf': 13.819978, 'precip': None, 'max_gust': 13.019871, 'snow': None, 'snowd': None, 'min_rh': 39.0, 'max_rh': 75.0, 'max_dwpf': 11.876002, 'min_dwpf': 6.0980177, 'min_feel': 6.197428, 'avg_feel': None, 'max_feel': 27.140022, 'max_drct': None, 'precip_est': False, 'tmpf_est': False, 'max_gust_localts': '2024-03-28T10:20:00Z', 'temp_hour': None, 'avg_sknt': None, 'vector_avg_drct': None, 'min_rstage': None, 'max_rstage': None, 'id': 'MN050', 'name': 'Pliny MN-65 Mile Post 98', 'error': 'No Errors Found'}, 'geometry': {'type': 'Point', 'coordinates': [-93.262046814, 46.3397598267]}}, {'type': 'Feature', 'properties': {'station': 'MN051', 'date': '2024-03-28', 'max_tmpf': 30.38, 'min_tmpf': 10.9400215, 'precip': None, 'max_gust': 16.720951, 'snow': None, 'snowd': None, 'min_rh': 41.0, 'max_rh': 82.0, 'max_dwpf': 10.202015, 'min_dwpf': 5.233998, 'min_feel': 3.424065, 'avg_feel': None, 'max_feel': 23.721972, 'max_drct': None, 'precip_est': False, 'tmpf_est': False, 'max_gust_localts': '2024-03-28T09:55:00Z', 'temp_hour': None, 'avg_sknt': None, 'vector_avg_drct': None, 'min_rstage': None, 'max_rstage': None, 'id': 'MN051', 'name': 'Ball Bluff MN-65 Mile Post 145', 'error': 'No Errors Found'}, 'geometry': {'type': 'Point', 'coordinates': [-93.27368927, 46.9783592224]}}, {'type': 'Feature', 'properties': {'station': 'MN052', 'date': '2024-03-28', 'max_tmpf': 28.399988, 'min_tmpf': 11.299989, 'precip': None, 'max_gust': 19.049677, 'snow': None, 'snowd': None, 'min_rh': 51.0, 'max_rh': 86.0, 'max_dwpf': 13.261982, 'min_dwpf': 5.7919936, 'min_feel': -0.19867127, 'avg_feel': None, 'max_feel': 19.968767, 'max_drct': None, 'precip_est': False, 'tmpf_est': False, 'max_gust_localts': '2024-03-28T13:15:00Z', 'temp_hour': None, 'avg_sknt': None, 'vector_avg_drct': None, 'min_rstage': None, 'max_rstage': None, 'id': 'MN052', 'name': 'Effie MN-1 Mile Post 194', 'error': 'No Errors Found'}, 'geometry': {'type': 'Point', 'coordinates': [-93.4851837158, 47.8403701782]}}, {'type': 'Feature', 'properties': {'station': 'MN053', 'date': '2024-03-28', 'max_tmpf': 33.98, 'min_tmpf': 7.88, 'precip': None, 'max_gust': None, 'snow': None, 'snowd': None, 'min_rh': 38.0, 'max_rh': 82.0, 'max_dwpf': 11.93, 'min_dwpf': 3.199989, 'min_feel': None, 'avg_feel': None, 'max_feel': None, 'max_drct': None, 'precip_est': False, 'tmpf_est': False, 'max_gust_localts': None, 'temp_hour': None, 'avg_sknt': None, 'vector_avg_drct': None, 'min_rstage': None, 'max_rstage': None, 'id': 'MN053', 'name': 'N. of Upper Red Lake MN-72 Mile Post 40', 'error': 'No Errors Found'}, 'geometry': {'type': 'Point', 'coordinates': [-94.5540084839, 48.2071495056]}}, {'type': 'Feature', 'properties': {'station': 'MN054', 'date': '2024-03-28', 'max_tmpf': 26.240023, 'min_tmpf': 5.899989, 'precip': None, 'max_gust': 10.109935, 'snow': None, 'snowd': None, 'min_rh': 59.0, 'max_rh': 87.0, 'max_dwpf': 14.486024, 'min_dwpf': 1.8680066, 'min_feel': -8.098059, 'avg_feel': None, 'max_feel': 26.240023, 'max_drct': None, 'precip_est': False, 'tmpf_est': False, 'max_gust_localts': '2024-03-28T01:40:00Z', 'temp_hour': None, 'avg_sknt': None, 'vector_avg_drct': None, 'min_rstage': None, 'max_rstage': None, 'id': 'MN054', 'name': 'Tenney US-75 Mile Post 188', 'error': 'No Errors Found'}, 'geometry': {'type': 'Point', 'coordinates': [-96.494178772, 46.0431289673]}}, {'type': 'Feature', 'properties': {'station': 'MN055', 'date': '2024-03-28', 'max_tmpf': 28.760012, 'min_tmpf': 17.78, 'precip': None, 'max_gust': 17.490713, 'snow': None, 'snowd': None, 'min_rh': 49.0, 'max_rh': 81.0, 'max_dwpf': 14.66598, 'min_dwpf': 10.399989, 'min_feel': 6.836279, 'avg_feel': None, 'max_feel': 21.001394, 'max_drct': None, 'precip_est': False, 'tmpf_est': False, 'max_gust_localts': '2024-03-28T00:20:00Z', 'temp_hour': None, 'avg_sknt': None, 'vector_avg_drct': None, 'min_rstage': None, 'max_rstage': None, 'id': 'MN055', 'name': 'Ottertail MN-78 Mile Post 34', 'error': 'No Errors Found'}, 'geometry': {'type': 'Point', 'coordinates': [-95.6021270752, 46.4036598206]}}, {'type': 'Feature', 'properties': {'station': 'MN056', 'date': '2024-03-28', 'max_tmpf': 27.86001, 'min_tmpf': 7.699989, 'precip': None, 'max_gust': 20.989634, 'snow': None, 'snowd': None, 'min_rh': 45.0, 'max_rh': 77.0, 'max_dwpf': 11.210011, 'min_dwpf': 0.8780011, 'min_feel': -6.600968, 'avg_feel': None, 'max_feel': 17.09517, 'max_drct': None, 'precip_est': False, 'tmpf_est': False, 'max_gust_localts': '2024-03-28T11:00:00Z', 'temp_hour': None, 'avg_sknt': None, 'vector_avg_drct': None, 'min_rstage': None, 'max_rstage': None, 'id': 'MN056', 'name': 'Gatzke MN-89 Mile Post 96', 'error': 'No Errors Found'}, 'geometry': {'type': 'Point', 'coordinates': [-95.7311935425, 48.4364585876]}}, {'type': 'Feature', 'properties': {'station': 'MN057', 'date': '2024-03-28', 'max_tmpf': None, 'min_tmpf': None, 'precip': None, 'max_gust': None, 'snow': None, 'snowd': None, 'min_rh': None, 'max_rh': None, 'max_dwpf': None, 'min_dwpf': None, 'min_feel': None, 'avg_feel': None, 'max_feel': None, 'max_drct': None, 'precip_est': False, 'tmpf_est': False, 'max_gust_localts': None, 'temp_hour': None, 'avg_sknt': None, 'vector_avg_drct': None, 'min_rstage': None, 'max_rstage': None, 'id': 'MN057', 'name': 'St. Vincent MN-171 Mile Post 2', 'error': 'Error: No temperature data available at this location'}, 'geometry': {'type': 'Point', 'coordinates': [-97.2016983032, 48.9708518982]}}, {'type': 'Feature', 'properties': {'station': 'MN058', 'date': '2024-03-28', 'max_tmpf': 33.799988, 'min_tmpf': 11.119978, 'precip': None, 'max_gust': 11.270411, 'snow': None, 'snowd': None, 'min_rh': 37.0, 'max_rh': 82.0, 'max_dwpf': 12.398018, 'min_dwpf': 6.169978, 'min_feel': -0.8583169, 'avg_feel': None, 'max_feel': 28.84024, 'max_drct': None, 'precip_est': False, 'tmpf_est': False, 'max_gust_localts': '2024-03-28T11:15:00Z', 'temp_hour': None, 'avg_sknt': None, 'vector_avg_drct': None, 'min_rstage': None, 'max_rstage': None, 'id': 'MN058', 'name': 'Anthony MN-200 Mile Post 9', 'error': 'No Errors Found'}, 'geometry': {'type': 'Point', 'coordinates': [-96.7316513062, 47.2959403992]}}, {'type': 'Feature', 'properties': {'station': 'MN059', 'date': '2024-03-28', 'max_tmpf': 29.840021, 'min_tmpf': 7.88, 'precip': None, 'max_gust': 7.7792664, 'snow': None, 'snowd': None, 'min_rh': 50.0, 'max_rh': 89.0, 'max_dwpf': 14.810011, 'min_dwpf': 4.3339977, 'min_feel': -1.1969293, 'avg_feel': None, 'max_feel': 26.340912, 'max_drct': None, 'precip_est': False, 'tmpf_est': False, 'max_gust_localts': '2024-03-28T12:40:00Z', 'temp_hour': None, 'avg_sknt': None, 'vector_avg_drct': None, 'min_rstage': None, 'max_rstage': None, 'id': 'MN059', 'name': 'Mehurin US-212 Mile Post 1', 'error': 'No Errors Found'}, 'geometry': {'type': 'Point', 'coordinates': [-96.4418, 44.9362]}}, {'type': 'Feature', 'properties': {'station': 'MN060', 'date': '2024-03-28', 'max_tmpf': 34.69999, 'min_tmpf': 14.360011, 'precip': None, 'max_gust': 12.829373, 'snow': None, 'snowd': None, 'min_rh': 37.0, 'max_rh': 74.0, 'max_dwpf': 11.119978, 'min_dwpf': 7.0159802, 'min_feel': 4.6839924, 'avg_feel': None, 'max_feel': 27.696144, 'max_drct': None, 'precip_est': False, 'tmpf_est': False, 'max_gust_localts': '2024-03-28T10:40:00Z', 'temp_hour': None, 'avg_sknt': None, 'vector_avg_drct': None, 'min_rstage': None, 'max_rstage': None, 'id': 'MN060', 'name': 'East Grand Forks US-2 Mile Post 8', 'error': 'No Errors Found'}, 'geometry': {'type': 'Point', 'coordinates': [-96.91683197021484, 47.88077926635742]}}, {'type': 'Feature', 'properties': {'station': 'MN061', 'date': '2024-03-28', 'max_tmpf': 29.840021, 'min_tmpf': 13.460011, 'precip': None, 'max_gust': 18.859179, 'snow': None, 'snowd': None, 'min_rh': 39.0, 'max_rh': 76.0, 'max_dwpf': 10.399989, 'min_dwpf': 5.269978, 'min_feel': 2.5725932, 'avg_feel': None, 'max_feel': 22.146378, 'max_drct': None, 'precip_est': False, 'tmpf_est': False, 'max_gust_localts': '2024-03-28T10:55:00Z', 'temp_hour': None, 'avg_sknt': None, 'vector_avg_drct': None, 'min_rstage': None, 'max_rstage': None, 'id': 'MN061', 'name': 'Cass Lake US-2 Mile Post 131', 'error': 'No Errors Found'}, 'geometry': {'type': 'Point', 'coordinates': [-94.58698272705078, 47.37995147705078]}}, {'type': 'Feature', 'properties': {'station': 'MN062', 'date': '2024-03-28', 'max_tmpf': 28.58, 'min_tmpf': 10.58, 'precip': None, 'max_gust': 13.220086, 'snow': None, 'snowd': None, 'min_rh': 48.0, 'max_rh': 81.0, 'max_dwpf': 12.110011, 'min_dwpf': 4.819978, 'min_feel': 1.4339354, 'avg_feel': None, 'max_feel': 24.060776, 'max_drct': None, 'precip_est': False, 'tmpf_est': False, 'max_gust_localts': '2024-03-28T01:00:00Z', 'temp_hour': None, 'avg_sknt': None, 'vector_avg_drct': None, 'min_rstage': None, 'max_rstage': None, 'id': 'MN062', 'name': 'Lake Park US-10 Mile Post 32', 'error': 'No Errors Found'}, 'geometry': {'type': 'Point', 'coordinates': [-96.1114425659, 46.8774490356]}}, {'type': 'Feature', 'properties': {'station': 'MN063', 'date': '2024-03-28', 'max_tmpf': 29.119978, 'min_tmpf': 8.960011, 'precip': None, 'max_gust': 12.829373, 'snow': None, 'snowd': None, 'min_rh': 47.0, 'max_rh': 91.0, 'max_dwpf': 12.272004, 'min_dwpf': 6.6379957, 'min_feel': -2.4639046, 'avg_feel': None, 'max_feel': 20.585611, 'max_drct': None, 'precip_est': False, 'tmpf_est': False, 'max_gust_localts': '2024-03-28T12:55:00Z', 'temp_hour': None, 'avg_sknt': None, 'vector_avg_drct': None, 'min_rstage': None, 'max_rstage': None, 'id': 'MN063', 'name': 'Verndale US-10 Mile Post 94', 'error': 'No Errors Found'}, 'geometry': {'type': 'Point', 'coordinates': [-95.0543899536, 46.4133415222]}}, {'type': 'Feature', 'properties': {'station': 'MN064', 'date': '2024-03-28', 'max_tmpf': 29.840021, 'min_tmpf': 9.499989, 'precip': None, 'max_gust': 12.049892, 'snow': None, 'snowd': None, 'min_rh': 40.0, 'max_rh': 82.0, 'max_dwpf': 10.54402, 'min_dwpf': 4.0459914, 'min_feel': -0.39294598, 'avg_feel': None, 'max_feel': 21.86596, 'max_drct': None, 'precip_est': False, 'tmpf_est': False, 'max_gust_localts': '2024-03-28T13:00:00Z', 'temp_hour': None, 'avg_sknt': None, 'vector_avg_drct': None, 'min_rstage': None, 'max_rstage': None, 'id': 'MN064', 'name': 'Rice US-10 Mile Post 162', 'error': 'No Errors Found'}, 'geometry': {'type': 'Point', 'coordinates': [-94.2328414917, 45.7665405273]}}, {'type': 'Feature', 'properties': {'station': 'MN065', 'date': '2024-03-28', 'max_tmpf': 33.98, 'min_tmpf': 15.260011, 'precip': None, 'max_gust': 12.629158, 'snow': None, 'snowd': None, 'min_rh': 48.0, 'max_rh': 88.0, 'max_dwpf': 20.06598, 'min_dwpf': 12.361982, 'min_feel': 4.9448104, 'avg_feel': None, 'max_feel': 32.360012, 'max_drct': None, 'precip_est': False, 'tmpf_est': False, 'max_gust_localts': '2024-03-28T01:20:00Z', 'temp_hour': None, 'avg_sknt': None, 'vector_avg_drct': None, 'min_rstage': None, 'max_rstage': None, 'id': 'MN065', 'name': 'Canton US-52 Mile Post 2', 'error': 'No Errors Found'}, 'geometry': {'type': 'Point', 'coordinates': [-91.8849868774, 43.5149497986]}}, {'type': 'Feature', 'properties': {'station': 'MN066', 'date': '2024-03-28', 'max_tmpf': 30.740023, 'min_tmpf': 11.840022, 'precip': None, 'max_gust': 20.410368, 'snow': None, 'snowd': None, 'min_rh': 46.0, 'max_rh': 92.0, 'max_dwpf': 13.711983, 'min_dwpf': 8.311982, 'min_feel': 3.7464318, 'avg_feel': None, 'max_feel': 22.51406, 'max_drct': None, 'precip_est': False, 'tmpf_est': False, 'max_gust_localts': '2024-03-28T10:40:00Z', 'temp_hour': None, 'avg_sknt': None, 'vector_avg_drct': None, 'min_rstage': None, 'max_rstage': None, 'id': 'MN066', 'name': 'Cotton US-53 Mile Post 41', 'error': 'No Errors Found'}, 'geometry': {'type': 'Point', 'coordinates': [-92.4876937866, 47.2112693787]}}, {'type': 'Feature', 'properties': {'station': 'MN067', 'date': '2024-03-28', 'max_tmpf': 26.78, 'min_tmpf': 9.860011, 'precip': None, 'max_gust': 20.019655, 'snow': None, 'snowd': None, 'min_rh': 51.0, 'max_rh': 89.0, 'max_dwpf': 12.361982, 'min_dwpf': 6.440022, 'min_feel': -0.7124554, 'avg_feel': None, 'max_feel': 18.530699, 'max_drct': None, 'precip_est': False, 'tmpf_est': False, 'max_gust_localts': '2024-03-28T12:00:00Z', 'temp_hour': None, 'avg_sknt': None, 'vector_avg_drct': None, 'min_rstage': None, 'max_rstage': None, 'id': 'MN067', 'name': 'Ash Lake US-53 Mile Post 129', 'error': 'No Errors Found'}, 'geometry': {'type': 'Point', 'coordinates': [-92.9704666138, 48.2942390442]}}, {'type': 'Feature', 'properties': {'station': 'MN068', 'date': '2024-03-28', 'max_tmpf': 31.46001, 'min_tmpf': 7.88, 'precip': None, 'max_gust': 12.440605, 'snow': None, 'snowd': None, 'min_rh': 50.0, 'max_rh': 79.0, 'max_dwpf': 15.890022, 'min_dwpf': 2.48, 'min_feel': -4.979597, 'avg_feel': None, 'max_feel': 24.265358, 'max_drct': None, 'precip_est': False, 'tmpf_est': False, 'max_gust_localts': '2024-03-28T12:20:00Z', 'temp_hour': None, 'avg_sknt': None, 'vector_avg_drct': None, 'min_rstage': None, 'max_rstage': None, 'id': 'MN068', 'name': 'Brooks US-59 Mile Post 331', 'error': 'No Errors Found'}, 'geometry': {'type': 'Point', 'coordinates': [-96.00102233886719, 47.76911163330078]}}, {'type': 'Feature', 'properties': {'station': 'MN069', 'date': '2024-03-28', 'max_tmpf': 33.44002, 'min_tmpf': 19.58, 'precip': None, 'max_gust': 48.97905, 'snow': None, 'snowd': None, 'min_rh': 45.0, 'max_rh': 81.0, 'max_dwpf': 16.106012, 'min_dwpf': 12.757984, 'min_feel': 8.250036, 'avg_feel': None, 'max_feel': 25.736887, 'max_drct': None, 'precip_est': False, 'tmpf_est': False, 'max_gust_localts': '2024-03-28T02:40:00Z', 'temp_hour': None, 'avg_sknt': None, 'vector_avg_drct': None, 'min_rstage': None, 'max_rstage': None, 'id': 'MN069', 'name': 'Kellogg US-61 Mile Post 53', 'error': 'No Errors Found'}, 'geometry': {'type': 'Point', 'coordinates': [-91.9896697998, 44.2848205566]}}, {'type': 'Feature', 'properties': {'station': 'MN070', 'date': '2024-03-28', 'max_tmpf': 31.819979, 'min_tmpf': 14.360011, 'precip': None, 'max_gust': 14.380562, 'snow': None, 'snowd': None, 'min_rh': 46.0, 'max_rh': 85.0, 'max_dwpf': 14.936024, 'min_dwpf': 10.687996, 'min_feel': 3.8552914, 'avg_feel': None, 'max_feel': 28.326422, 'max_drct': None, 'precip_est': False, 'tmpf_est': False, 'max_gust_localts': '2024-03-28T00:00:00Z', 'temp_hour': None, 'avg_sknt': None, 'vector_avg_drct': None, 'min_rstage': None, 'max_rstage': None, 'id': 'MN070', 'name': 'Rochester US-63 Mile Post 32', 'error': 'No Errors Found'}, 'geometry': {'type': 'Point', 'coordinates': [-92.4822998047, 43.9023399353]}}, {'type': 'Feature', 'properties': {'station': 'MN071', 'date': '2024-03-28', 'max_tmpf': 30.56001, 'min_tmpf': 11.660011, 'precip': None, 'max_gust': 10.6892, 'snow': None, 'snowd': None, 'min_rh': 54.0, 'max_rh': 85.0, 'max_dwpf': 20.21001, 'min_dwpf': 7.519978, 'min_feel': 1.361988, 'avg_feel': None, 'max_feel': 27.86001, 'max_drct': None, 'precip_est': False, 'tmpf_est': False, 'max_gust_localts': '2024-03-28T00:00:00Z', 'temp_hour': None, 'avg_sknt': None, 'vector_avg_drct': None, 'min_rstage': None, 'max_rstage': None, 'id': 'MN071', 'name': 'MN-71 Mile Post 43', 'error': 'No Errors Found'}, 'geometry': {'type': 'Point', 'coordinates': [-95.1199493408, 44.0836906433]}}, {'type': 'Feature', 'properties': {'station': 'MN072', 'date': '2024-03-28', 'max_tmpf': 30.019978, 'min_tmpf': 9.140022, 'precip': None, 'max_gust': 18.270195, 'snow': None, 'snowd': None, 'min_rh': 45.0, 'max_rh': 83.0, 'max_dwpf': 11.768006, 'min_dwpf': 5.053987, 'min_feel': 1.960325, 'avg_feel': None, 'max_feel': 23.78147, 'max_drct': None, 'precip_est': False, 'tmpf_est': False, 'max_gust_localts': '2024-03-28T10:20:00Z', 'temp_hour': None, 'avg_sknt': None, 'vector_avg_drct': None, 'min_rstage': None, 'max_rstage': None, 'id': 'MN072', 'name': 'Margie US-71 Mile Post 379', 'error': 'No Errors Found'}, 'geometry': {'type': 'Point', 'coordinates': [-93.8784790039, 48.1346282959]}}, {'type': 'Feature', 'properties': {'station': 'MN073', 'date': '2024-03-28', 'max_tmpf': 36.49999, 'min_tmpf': 15.799989, 'precip': None, 'max_gust': 9.139956, 'snow': None, 'snowd': None, 'min_rh': 45.0, 'max_rh': 89.0, 'max_dwpf': 17.707985, 'min_dwpf': 13.136024, 'min_feel': 15.799989, 'avg_feel': None, 'max_feel': 33.799988, 'max_drct': None, 'precip_est': False, 'tmpf_est': False, 'max_gust_localts': '2024-03-28T13:20:00Z', 'temp_hour': None, 'avg_sknt': None, 'vector_avg_drct': None, 'min_rstage': None, 'max_rstage': None, 'id': 'MN073', 'name': 'Mankato US-169 Mile Post 52', 'error': 'No Errors Found'}, 'geometry': {'type': 'Point', 'coordinates': [-94.0339736938, 44.1543388367]}}, {'type': 'Feature', 'properties': {'station': 'MN074', 'date': '2024-03-28', 'max_tmpf': 39.38, 'min_tmpf': 16.160011, 'precip': None, 'max_gust': None, 'snow': None, 'snowd': None, 'min_rh': 41.0, 'max_rh': 90.0, 'max_dwpf': 19.183998, 'min_dwpf': 13.2440195, 'min_feel': None, 'avg_feel': None, 'max_feel': None, 'max_drct': None, 'precip_est': False, 'tmpf_est': False, 'max_gust_localts': None, 'temp_hour': None, 'avg_sknt': None, 'vector_avg_drct': None, 'min_rstage': None, 'max_rstage': None, 'id': 'MN074', 'name': 'St. Peter US-169 Mile Post 69', 'error': 'No Errors Found'}, 'geometry': {'type': 'Point', 'coordinates': [-93.9631500244, 44.3655395508]}}, {'type': 'Feature', 'properties': {'station': 'MN075', 'date': '2024-03-28', 'max_tmpf': 35.78, 'min_tmpf': 16.69999, 'precip': None, 'max_gust': 10.109935, 'snow': None, 'snowd': None, 'min_rh': 45.0, 'max_rh': 88.0, 'max_dwpf': 20.29999, 'min_dwpf': 13.5140085, 'min_feel': 5.8387184, 'avg_feel': None, 'max_feel': 32.360012, 'max_drct': None, 'precip_est': False, 'tmpf_est': False, 'max_gust_localts': '2024-03-28T12:40:00Z', 'temp_hour': None, 'avg_sknt': None, 'vector_avg_drct': None, 'min_rstage': None, 'max_rstage': None, 'id': 'MN075', 'name': 'Belle Plaine US-169 Mile Post 86', 'error': 'No Errors Found'}, 'geometry': {'type': 'Point', 'coordinates': [-93.8426971436, 44.5722694397]}}, {'type': 'Feature', 'properties': {'station': 'MN076', 'date': '2024-03-28', 'max_tmpf': 30.919977, 'min_tmpf': 9.68, 'precip': None, 'max_gust': 16.330238, 'snow': None, 'snowd': None, 'min_rh': 46.0, 'max_rh': 87.0, 'max_dwpf': 13.532026, 'min_dwpf': 6.0980177, 'min_feel': 0.63030404, 'avg_feel': None, 'max_feel': 22.439362, 'max_drct': None, 'precip_est': False, 'tmpf_est': False, 'max_gust_localts': '2024-03-28T12:00:00Z', 'temp_hour': None, 'avg_sknt': None, 'vector_avg_drct': None, 'min_rstage': None, 'max_rstage': None, 'id': 'MN076', 'name': 'Milaca US-169 Mile Post 200', 'error': 'No Errors Found'}, 'geometry': {'type': 'Point', 'coordinates': [-93.6640777588, 45.8758392334]}}, {'type': 'Feature', 'properties': {'station': 'MN077', 'date': '2024-03-28', 'max_tmpf': 32.89999, 'min_tmpf': 13.640022, 'precip': None, 'max_gust': 13.799352, 'snow': None, 'snowd': None, 'min_rh': 45.0, 'max_rh': 79.0, 'max_dwpf': 14.486024, 'min_dwpf': 8.257984, 'min_feel': 4.0363946, 'avg_feel': None, 'max_feel': 27.973425, 'max_drct': None, 'precip_est': False, 'tmpf_est': False, 'max_gust_localts': '2024-03-28T00:20:00Z', 'temp_hour': None, 'avg_sknt': None, 'vector_avg_drct': None, 'min_rstage': None, 'max_rstage': None, 'id': 'MN077', 'name': 'Hinckley I-35 Mile Post 181', 'error': 'No Errors Found'}, 'geometry': {'type': 'Point', 'coordinates': [-92.9481811523, 45.9850387573]}}, {'type': 'Feature', 'properties': {'station': 'MN078', 'date': '2024-03-28', 'max_tmpf': 25.69999, 'min_tmpf': 6.799989, 'precip': None, 'max_gust': None, 'snow': None, 'snowd': None, 'min_rh': 48.0, 'max_rh': 83.0, 'max_dwpf': 9.337996, 'min_dwpf': 2.4079847, 'min_feel': None, 'avg_feel': None, 'max_feel': None, 'max_drct': None, 'precip_est': False, 'tmpf_est': False, 'max_gust_localts': None, 'temp_hour': None, 'avg_sknt': None, 'vector_avg_drct': None, 'min_rstage': None, 'max_rstage': None, 'id': 'MN078', 'name': 'Roosevelt MN-11 Mile Post 108', 'error': 'No Errors Found'}, 'geometry': {'type': 'Point', 'coordinates': [-95.05103302, 48.7893600464]}}, {'type': 'Feature', 'properties': {'station': 'MN079', 'date': '2024-03-28', 'max_tmpf': 33.61998, 'min_tmpf': 14.899989, 'precip': None, 'max_gust': 11.079913, 'snow': None, 'snowd': None, 'min_rh': 38.0, 'max_rh': 86.0, 'max_dwpf': 15.476002, 'min_dwpf': 8.81598, 'min_feel': 3.900032, 'avg_feel': None, 'max_feel': 27.453417, 'max_drct': None, 'precip_est': False, 'tmpf_est': False, 'max_gust_localts': '2024-03-28T13:00:00Z', 'temp_hour': None, 'avg_sknt': None, 'vector_avg_drct': None, 'min_rstage': None, 'max_rstage': None, 'id': 'MN079', 'name': 'New Prague MN-19 Mile Post 149', 'error': 'No Errors Found'}, 'geometry': {'type': 'Point', 'coordinates': [-93.6248168945, 44.5436401367]}}, {'type': 'Feature', 'properties': {'station': 'MN080', 'date': '2024-03-28', 'max_tmpf': 29.119978, 'min_tmpf': 13.099989, 'precip': None, 'max_gust': 20.21987, 'snow': None, 'snowd': None, 'min_rh': 48.0, 'max_rh': 87.0, 'max_dwpf': 14.756013, 'min_dwpf': 7.483998, 'min_feel': -0.4424348, 'avg_feel': None, 'max_feel': 21.660015, 'max_drct': None, 'precip_est': False, 'tmpf_est': False, 'max_gust_localts': '2024-03-28T09:40:00Z', 'temp_hour': None, 'avg_sknt': None, 'vector_avg_drct': None, 'min_rstage': None, 'max_rstage': None, 'id': 'MN080', 'name': 'Thompson Hill I-35 Mile Post 248', 'error': 'No Errors Found'}, 'geometry': {'type': 'Point', 'coordinates': [-92.2490005493164, 46.716529846191406]}}, {'type': 'Feature', 'properties': {'station': 'MN081', 'date': '2024-03-28', 'max_tmpf': 31.28, 'min_tmpf': 18.68, 'precip': None, 'max_gust': 24.690712, 'snow': None, 'snowd': None, 'min_rh': 46.0, 'max_rh': 79.0, 'max_dwpf': 17.29402, 'min_dwpf': 9.337996, 'min_feel': 4.493358, 'avg_feel': None, 'max_feel': 20.08398, 'max_drct': None, 'precip_est': False, 'tmpf_est': False, 'max_gust_localts': '2024-03-28T10:43:00Z', 'temp_hour': None, 'avg_sknt': None, 'vector_avg_drct': None, 'min_rstage': None, 'max_rstage': None, 'id': 'MN081', 'name': 'Blatnik Bridge', 'error': 'No Errors Found'}, 'geometry': {'type': 'Point', 'coordinates': [-92.09951782226562, 46.746910095214844]}}, {'type': 'Feature', 'properties': {'station': 'MN082', 'date': '2024-03-28', 'max_tmpf': 31.819979, 'min_tmpf': 16.160011, 'precip': None, 'max_gust': 21.380346, 'snow': None, 'snowd': None, 'min_rh': 42.0, 'max_rh': 87.0, 'max_dwpf': 16.537996, 'min_dwpf': 8.419978, 'min_feel': 7.0952163, 'avg_feel': None, 'max_feel': 27.445055, 'max_drct': None, 'precip_est': False, 'tmpf_est': False, 'max_gust_localts': '2024-03-28T12:20:00Z', 'temp_hour': None, 'avg_sknt': None, 'vector_avg_drct': None, 'min_rstage': None, 'max_rstage': None, 'id': 'MN082', 'name': 'I-35 and Garfield Avenue', 'error': 'No Errors Found'}, 'geometry': {'type': 'Point', 'coordinates': [-92.115, 46.7718]}}, {'type': 'Feature', 'properties': {'station': 'MN083', 'date': '2024-03-28', 'max_tmpf': 37.21998, 'min_tmpf': 16.160011, 'precip': None, 'max_gust': 16.909504, 'snow': None, 'snowd': None, 'min_rh': 41.0, 'max_rh': 94.0, 'max_dwpf': 19.327974, 'min_dwpf': 14.072004, 'min_feel': 10.316815, 'avg_feel': None, 'max_feel': 34.309635, 'max_drct': None, 'precip_est': False, 'tmpf_est': False, 'max_gust_localts': '2024-03-28T11:00:00Z', 'temp_hour': None, 'avg_sknt': None, 'vector_avg_drct': None, 'min_rstage': None, 'max_rstage': None, 'id': 'MN083', 'name': 'Lafayette Tunnel MN-61 Mile Post 32', 'error': 'No Errors Found'}, 'geometry': {'type': 'Point', 'coordinates': [-91.55403137207031, 47.09482955932617]}}, {'type': 'Feature', 'properties': {'station': 'MN084', 'date': '2024-03-28', 'max_tmpf': 30.919977, 'min_tmpf': 13.460011, 'precip': None, 'max_gust': 18.859179, 'snow': None, 'snowd': None, 'min_rh': 48.0, 'max_rh': 85.0, 'max_dwpf': 13.5680065, 'min_dwpf': 6.7820263, 'min_feel': 4.0732083, 'avg_feel': None, 'max_feel': 25.065012, 'max_drct': None, 'precip_est': False, 'tmpf_est': False, 'max_gust_localts': '2024-03-28T10:20:00Z', 'temp_hour': None, 'avg_sknt': None, 'vector_avg_drct': None, 'min_rstage': None, 'max_rstage': None, 'id': 'MN084', 'name': 'MN-53 and 135 - Midway', 'error': 'No Errors Found'}, 'geometry': {'type': 'Point', 'coordinates': [-92.52678680419922, 47.5157585144043]}}, {'type': 'Feature', 'properties': {'station': 'MN085', 'date': '2024-03-28', 'max_tmpf': 34.340023, 'min_tmpf': 16.519978, 'precip': None, 'max_gust': 10.500648, 'snow': None, 'snowd': None, 'min_rh': 37.0, 'max_rh': 88.0, 'max_dwpf': 16.177973, 'min_dwpf': 9.949989, 'min_feel': 14.59748, 'avg_feel': None, 'max_feel': 34.340023, 'max_drct': None, 'precip_est': False, 'tmpf_est': False, 'max_gust_localts': '2024-03-28T12:40:00Z', 'temp_hour': None, 'avg_sknt': None, 'vector_avg_drct': None, 'min_rstage': None, 'max_rstage': None, 'id': 'MN085', 'name': 'I-494 and MN-5 I-494 Mile Post 18', 'error': 'No Errors Found'}, 'geometry': {'type': 'Point', 'coordinates': [-93.45706939697266, 44.94374084472656]}}, {'type': 'Feature', 'properties': {'station': 'MN086', 'date': '2024-03-28', 'max_tmpf': 34.519978, 'min_tmpf': 17.419977, 'precip': None, 'max_gust': 10.889417, 'snow': None, 'snowd': None, 'min_rh': 38.0, 'max_rh': 82.0, 'max_dwpf': 15.890022, 'min_dwpf': 11.552015, 'min_feel': 9.890242, 'avg_feel': None, 'max_feel': 29.009752, 'max_drct': None, 'precip_est': False, 'tmpf_est': False, 'max_gust_localts': '2024-03-28T13:20:00Z', 'temp_hour': None, 'avg_sknt': None, 'vector_avg_drct': None, 'min_rstage': None, 'max_rstage': None, 'id': 'MN086', 'name': 'Burnsville I-35W Mile Post 4', 'error': 'No Errors Found'}, 'geometry': {'type': 'Point', 'coordinates': [-93.28955841064453, 44.79764938354492]}}, {'type': 'Feature', 'properties': {'station': 'MN087', 'date': '2024-03-28', 'max_tmpf': 32.18, 'min_tmpf': 15.08, 'precip': None, 'max_gust': 13.610799, 'snow': None, 'snowd': None, 'min_rh': 40.0, 'max_rh': 81.0, 'max_dwpf': 13.802015, 'min_dwpf': 10.327973, 'min_feel': 11.365369, 'avg_feel': None, 'max_feel': 28.760012, 'max_drct': None, 'precip_est': False, 'tmpf_est': False, 'max_gust_localts': '2024-03-28T13:20:00Z', 'temp_hour': None, 'avg_sknt': None, 'vector_avg_drct': None, 'min_rstage': None, 'max_rstage': None, 'id': 'MN087', 'name': 'Maple Grove I-94 Mile Post 217', 'error': 'No Errors Found'}, 'geometry': {'type': 'Point', 'coordinates': [-93.4475326538086, 45.09209060668945]}}, {'type': 'Feature', 'properties': {'station': 'MN088', 'date': '2024-03-28', 'max_tmpf': 33.26001, 'min_tmpf': 18.319979, 'precip': None, 'max_gust': 11.470626, 'snow': None, 'snowd': None, 'min_rh': 38.0, 'max_rh': 75.0, 'max_dwpf': 14.215981, 'min_dwpf': 9.626002, 'min_feel': 11.596668, 'avg_feel': None, 'max_feel': 28.409262, 'max_drct': None, 'precip_est': False, 'tmpf_est': False, 'max_gust_localts': '2024-03-28T12:00:00Z', 'temp_hour': None, 'avg_sknt': None, 'vector_avg_drct': None, 'min_rstage': None, 'max_rstage': None, 'id': 'MN088', 'name': 'Little Canada I-694 Mile Post 46', 'error': 'No Errors Found'}, 'geometry': {'type': 'Point', 'coordinates': [-93.09236145019531, 45.03765869140625]}}, {'type': 'Feature', 'properties': {'station': 'MN089', 'date': '2024-03-28', 'max_tmpf': 33.799988, 'min_tmpf': 17.06001, 'precip': None, 'max_gust': 13.220086, 'snow': None, 'snowd': None, 'min_rh': 35.0, 'max_rh': 80.0, 'max_dwpf': 13.711983, 'min_dwpf': 8.761982, 'min_feel': 12.712179, 'avg_feel': None, 'max_feel': 29.48, 'max_drct': None, 'precip_est': False, 'tmpf_est': False, 'max_gust_localts': '2024-03-28T13:00:00Z', 'temp_hour': None, 'avg_sknt': None, 'vector_avg_drct': None, 'min_rstage': None, 'max_rstage': None, 'id': 'MN089', 'name': 'Cayuga Street Br. I-35E Mile Post 109', 'error': 'No Errors Found'}, 'geometry': {'type': 'Point', 'coordinates': [-93.08812713623047, 44.96786117553711]}}, {'type': 'Feature', 'properties': {'station': 'MN090', 'date': '2024-03-28', 'max_tmpf': 37.94002, 'min_tmpf': 15.799989, 'precip': None, 'max_gust': 194.38055, 'snow': None, 'snowd': None, 'min_rh': 40.0, 'max_rh': 94.0, 'max_dwpf': 16.357985, 'min_dwpf': 14.14402, 'min_feel': 15.799989, 'avg_feel': None, 'max_feel': 37.94002, 'max_drct': None, 'precip_est': False, 'tmpf_est': False, 'max_gust_localts': '2024-03-28T09:55:00Z', 'temp_hour': None, 'avg_sknt': None, 'vector_avg_drct': None, 'min_rstage': None, 'max_rstage': None, 'id': 'MN090', 'name': 'MN-110 and I-494 MN-10 Mile Post 5', 'error': 'No Errors Found'}, 'geometry': {'type': 'Point', 'coordinates': [-93.07833862304688, 44.87607955932617]}}, {'type': 'Feature', 'properties': {'station': 'MN091', 'date': '2024-03-28', 'max_tmpf': 31.819979, 'min_tmpf': 13.640022, 'precip': None, 'max_gust': 20.21987, 'snow': None, 'snowd': None, 'min_rh': 37.0, 'max_rh': 80.0, 'max_dwpf': 13.549989, 'min_dwpf': 6.0079846, 'min_feel': 4.2532773, 'avg_feel': None, 'max_feel': 24.74871, 'max_drct': None, 'precip_est': False, 'tmpf_est': False, 'max_gust_localts': '2024-03-28T11:00:00Z', 'temp_hour': None, 'avg_sknt': None, 'vector_avg_drct': None, 'min_rstage': None, 'max_rstage': None, 'id': 'MN091', 'name': 'Twig MN-53 Mile Post 21', 'error': 'No Errors Found'}, 'geometry': {'type': 'Point', 'coordinates': [-92.4130706787, 46.9240684509]}}, {'type': 'Feature', 'properties': {'station': 'MN092', 'date': '2024-03-28', 'max_tmpf': 28.399988, 'min_tmpf': 11.660011, 'precip': None, 'max_gust': 20.21987, 'snow': None, 'snowd': None, 'min_rh': 47.0, 'max_rh': 86.0, 'max_dwpf': 13.423976, 'min_dwpf': 6.710011, 'min_feel': -0.122428454, 'avg_feel': None, 'max_feel': 18.349789, 'max_drct': None, 'precip_est': False, 'tmpf_est': False, 'max_gust_localts': '2024-03-28T11:15:00Z', 'temp_hour': None, 'avg_sknt': None, 'vector_avg_drct': None, 'min_rstage': None, 'max_rstage': None, 'id': 'MN092', 'name': 'Mitchell Bridge MN-169 Mile Post 343', 'error': 'No Errors Found'}, 'geometry': {'type': 'Point', 'coordinates': [-92.8876, 47.4451]}}, {'type': 'Feature', 'properties': {'station': 'MN093', 'date': '2024-03-28', 'max_tmpf': 33.26001, 'min_tmpf': 17.78, 'precip': None, 'max_gust': None, 'snow': None, 'snowd': None, 'min_rh': 50.0, 'max_rh': 81.0, 'max_dwpf': 16.64599, 'min_dwpf': 11.51598, 'min_feel': None, 'avg_feel': None, 'max_feel': None, 'max_drct': None, 'precip_est': False, 'tmpf_est': False, 'max_gust_localts': None, 'temp_hour': None, 'avg_sknt': None, 'vector_avg_drct': None, 'min_rstage': None, 'max_rstage': None, 'id': 'MN093', 'name': 'Silver Cliff MN-61 Mile Post 30', 'error': 'No Errors Found'}, 'geometry': {'type': 'Point', 'coordinates': [-91.591552734375, 47.069969177246094]}}, {'type': 'Feature', 'properties': {'station': 'MN094', 'date': '2024-03-28', 'max_tmpf': 33.98, 'min_tmpf': 13.640022, 'precip': None, 'max_gust': 9.330454, 'snow': None, 'snowd': None, 'min_rh': 40.0, 'max_rh': 83.0, 'max_dwpf': 14.899989, 'min_dwpf': 7.969978, 'min_feel': 13.640022, 'avg_feel': None, 'max_feel': 33.98, 'max_drct': None, 'precip_est': False, 'tmpf_est': False, 'max_gust_localts': '2024-03-28T08:55:00Z', 'temp_hour': None, 'avg_sknt': None, 'vector_avg_drct': None, 'min_rstage': None, 'max_rstage': None, 'id': 'MN094', 'name': 'I-35W at Mississippi I-35W Mile Post 19', 'error': 'No Errors Found'}, 'geometry': {'type': 'Point', 'coordinates': [-92.31817626953125, 46.669189453125]}}, {'type': 'Feature', 'properties': {'station': 'MN095', 'date': '2024-03-28', 'max_tmpf': 33.61998, 'min_tmpf': 18.319979, 'precip': None, 'max_gust': 17.69093, 'snow': None, 'snowd': None, 'min_rh': 43.0, 'max_rh': 80.0, 'max_dwpf': 17.419977, 'min_dwpf': 9.733997, 'min_feel': 9.024364, 'avg_feel': None, 'max_feel': 26.373915, 'max_drct': None, 'precip_est': False, 'tmpf_est': False, 'max_gust_localts': '2024-03-28T12:03:00Z', 'temp_hour': None, 'avg_sknt': None, 'vector_avg_drct': None, 'min_rstage': None, 'max_rstage': None, 'id': 'MN095', 'name': 'Blatnick Bridge South Abutment', 'error': 'No Errors Found'}, 'geometry': {'type': 'Point', 'coordinates': [-92.0971, 46.7341]}}, {'type': 'Feature', 'properties': {'station': 'MN096', 'date': '2024-03-28', 'max_tmpf': 35.060013, 'min_tmpf': 16.160011, 'precip': None, 'max_gust': 10.300432, 'snow': None, 'snowd': None, 'min_rh': 49.0, 'max_rh': 89.0, 'max_dwpf': 19.706013, 'min_dwpf': 13.153987, 'min_feel': 7.95041, 'avg_feel': None, 'max_feel': 32.89999, 'max_drct': None, 'precip_est': False, 'tmpf_est': False, 'max_gust_localts': '2024-03-28T00:00:00Z', 'temp_hour': None, 'avg_sknt': None, 'vector_avg_drct': None, 'min_rstage': None, 'max_rstage': None, 'id': 'MN096', 'name': 'Albert Lea I-35 Mile Post 30', 'error': 'No Errors Found'}, 'geometry': {'type': 'Point', 'coordinates': [-93.27761840820312, 43.920101165771484]}}, {'type': 'Feature', 'properties': {'station': 'MN097', 'date': '2024-03-28', 'max_tmpf': 29.48, 'min_tmpf': 12.560011, 'precip': None, 'max_gust': 19.630886, 'snow': None, 'snowd': None, 'min_rh': 42.0, 'max_rh': 78.0, 'max_dwpf': 12.452015, 'min_dwpf': 6.0980177, 'min_feel': 2.6192358, 'avg_feel': None, 'max_feel': 22.095337, 'max_drct': None, 'precip_est': False, 'tmpf_est': False, 'max_gust_localts': '2024-03-28T09:40:00Z', 'temp_hour': None, 'avg_sknt': None, 'vector_avg_drct': None, 'min_rstage': None, 'max_rstage': None, 'id': 'MN097', 'name': 'Atkinson Bridge I-35 Mile Post 231', 'error': 'No Errors Found'}, 'geometry': {'type': 'Point', 'coordinates': [-92.5319, 46.6278]}}, {'type': 'Feature', 'properties': {'station': 'MN098', 'date': '2024-03-28', 'max_tmpf': 36.319977, 'min_tmpf': 15.799989, 'precip': None, 'max_gust': 14.190064, 'snow': None, 'snowd': None, 'min_rh': 37.0, 'max_rh': 74.0, 'max_dwpf': 14.737995, 'min_dwpf': 9.0140085, 'min_feel': 10.940728, 'avg_feel': None, 'max_feel': 36.140022, 'max_drct': None, 'precip_est': False, 'tmpf_est': False, 'max_gust_localts': '2024-03-28T00:40:00Z', 'temp_hour': None, 'avg_sknt': None, 'vector_avg_drct': None, 'min_rstage': None, 'max_rstage': None, 'id': 'MN098', 'name': 'I-94 at Red River Bridge', 'error': 'No Errors Found'}, 'geometry': {'type': 'Point', 'coordinates': [-96.7774, 46.8471]}}, {'type': 'Feature', 'properties': {'station': 'MN100', 'date': '2024-03-28', 'max_tmpf': 28.040022, 'min_tmpf': 11.119978, 'precip': None, 'max_gust': 19.44039, 'snow': None, 'snowd': None, 'min_rh': 50.0, 'max_rh': 78.0, 'max_dwpf': 12.272004, 'min_dwpf': 5.3419933, 'min_feel': 0.1612184, 'avg_feel': None, 'max_feel': 19.527243, 'max_drct': None, 'precip_est': False, 'tmpf_est': False, 'max_gust_localts': '2024-03-28T11:40:00Z', 'temp_hour': None, 'avg_sknt': None, 'vector_avg_drct': None, 'min_rstage': None, 'max_rstage': None, 'id': 'MN100', 'name': 'T.H.38 - Marcell - MP 27.5       MN US MNDOT', 'error': 'No Errors Found'}, 'geometry': {'type': 'Point', 'coordinates': [-93.67510223388672, 47.58536911010742]}}, {'type': 'Feature', 'properties': {'station': 'MN101', 'date': '2024-03-28', 'max_tmpf': 29.48, 'min_tmpf': 11.840022, 'precip': None, 'max_gust': 20.600864, 'snow': None, 'snowd': None, 'min_rh': 47.0, 'max_rh': 78.0, 'max_dwpf': 12.236024, 'min_dwpf': 5.7560134, 'min_feel': 2.545499, 'avg_feel': None, 'max_feel': 20.714031, 'max_drct': None, 'precip_est': False, 'tmpf_est': False, 'max_gust_localts': '2024-03-28T11:00:00Z', 'temp_hour': None, 'avg_sknt': None, 'vector_avg_drct': None, 'min_rstage': None, 'max_rstage': None, 'id': 'MN101', 'name': 'T.H.210 - Tamarack - MP 186.3    MN US MNDOT', 'error': 'No Errors Found'}, 'geometry': {'type': 'Point', 'coordinates': [-93.07975006103516, 46.64413833618164]}}, {'type': 'Feature', 'properties': {'station': 'MN103', 'date': '2024-03-28', 'max_tmpf': 29.660011, 'min_tmpf': 12.919978, 'precip': None, 'max_gust': 23.129807, 'snow': None, 'snowd': None, 'min_rh': 48.0, 'max_rh': 79.0, 'max_dwpf': 12.83, 'min_dwpf': 7.3760023, 'min_feel': 5.2370434, 'avg_feel': None, 'max_feel': 20.33009, 'max_drct': None, 'precip_est': False, 'tmpf_est': False, 'max_gust_localts': '2024-03-28T11:15:00Z', 'temp_hour': None, 'avg_sknt': None, 'vector_avg_drct': None, 'min_rstage': None, 'max_rstage': None, 'id': 'MN103', 'name': 'U.S.2 - Gowan - MP 225.1         MN US MNDOT', 'error': 'No Errors Found'}, 'geometry': {'type': 'Point', 'coordinates': [-92.86100006103516, 46.873050689697266]}}, {'type': 'Feature', 'properties': {'station': 'MN105', 'date': '2024-03-28', 'max_tmpf': 29.660011, 'min_tmpf': 11.48, 'precip': None, 'max_gust': 22.939308, 'snow': None, 'snowd': None, 'min_rh': 44.0, 'max_rh': 79.0, 'max_dwpf': 11.3180065, 'min_dwpf': 5.7020154, 'min_feel': 1.960325, 'avg_feel': None, 'max_feel': 19.089691, 'max_drct': None, 'precip_est': False, 'tmpf_est': False, 'max_gust_localts': '2024-03-28T12:20:00Z', 'temp_hour': None, 'avg_sknt': None, 'vector_avg_drct': None, 'min_rstage': None, 'max_rstage': None, 'id': 'MN105', 'name': 'U.S.2 - Cohasset - MP 174.3      MN US MNDOT', 'error': 'No Errors Found'}, 'geometry': {'type': 'Point', 'coordinates': [-93.70240783691406, 47.296791076660156]}}, {'type': 'Feature', 'properties': {'station': 'MN106', 'date': '2024-03-28', 'max_tmpf': 27.68, 'min_tmpf': 12.740022, 'precip': None, 'max_gust': 22.550539, 'snow': None, 'snowd': None, 'min_rh': 54.0, 'max_rh': 87.0, 'max_dwpf': 13.640022, 'min_dwpf': 7.6820264, 'min_feel': 4.37452, 'avg_feel': None, 'max_feel': 19.221804, 'max_drct': None, 'precip_est': False, 'tmpf_est': False, 'max_gust_localts': '2024-03-28T10:20:00Z', 'temp_hour': None, 'avg_sknt': None, 'vector_avg_drct': None, 'min_rstage': None, 'max_rstage': None, 'id': 'MN106', 'name': 'U.S.53 - Cook - MP 97.5          MN US MNDOT', 'error': 'No Errors Found'}, 'geometry': {'type': 'Point', 'coordinates': [-92.7742919921875, 47.89173889160156]}}, {'type': 'Feature', 'properties': {'station': 'MN108', 'date': '2024-03-28', 'max_tmpf': 28.940022, 'min_tmpf': 10.9400215, 'precip': None, 'max_gust': 20.21987, 'snow': None, 'snowd': None, 'min_rh': 50.0, 'max_rh': 84.0, 'max_dwpf': 13.0820265, 'min_dwpf': 6.169978, 'min_feel': 3.2142956, 'avg_feel': None, 'max_feel': 21.04935, 'max_drct': None, 'precip_est': False, 'tmpf_est': False, 'max_gust_localts': '2024-03-28T12:40:00Z', 'temp_hour': None, 'avg_sknt': None, 'vector_avg_drct': None, 'min_rstage': None, 'max_rstage': None, 'id': 'MN108', 'name': 'T.H.65 - Buck Lake - MP 192.9    MN US MNDOT', 'error': 'No Errors Found'}, 'geometry': {'type': 'Point', 'coordinates': [-93.19428253173828, 47.61225891113281]}}, {'type': 'Feature', 'properties': {'station': 'MN111', 'date': '2024-03-28', 'max_tmpf': 30.38, 'min_tmpf': 7.699989, 'precip': None, 'max_gust': 18.660908, 'snow': None, 'snowd': None, 'min_rh': 46.0, 'max_rh': 83.0, 'max_dwpf': 13.027973, 'min_dwpf': 3.6320264, 'min_feel': 0.6800986, 'avg_feel': None, 'max_feel': 20.414091, 'max_drct': None, 'precip_est': False, 'tmpf_est': False, 'max_gust_localts': '2024-03-28T11:40:00Z', 'temp_hour': None, 'avg_sknt': None, 'vector_avg_drct': None, 'min_rstage': None, 'max_rstage': None, 'id': 'MN111', 'name': 'T.H.59 - Lancaster - MP 421.9    MN US MNDOT', 'error': 'No Errors Found'}, 'geometry': {'type': 'Point', 'coordinates': [-96.7989273071289, 48.90544128417969]}}, {'type': 'Feature', 'properties': {'station': 'MN113', 'date': '2024-03-28', 'max_tmpf': 30.919977, 'min_tmpf': 9.860011, 'precip': None, 'max_gust': 14.969546, 'snow': None, 'snowd': None, 'min_rh': 48.0, 'max_rh': 82.0, 'max_dwpf': 15.295991, 'min_dwpf': 4.2980175, 'min_feel': -4.4306464, 'avg_feel': None, 'max_feel': 22.318739, 'max_drct': None, 'precip_est': False, 'tmpf_est': False, 'max_gust_localts': '2024-03-28T11:15:00Z', 'temp_hour': None, 'avg_sknt': None, 'vector_avg_drct': None, 'min_rstage': None, 'max_rstage': None, 'id': 'MN113', 'name': 'T.H.59 - Thief River - MP 363.4  MN US MNDOT', 'error': 'No Errors Found'}, 'geometry': {'type': 'Point', 'coordinates': [-96.2069091796875, 48.17654037475586]}}, {'type': 'Feature', 'properties': {'station': 'MN114', 'date': '2024-03-28', 'max_tmpf': 34.16001, 'min_tmpf': 10.760011, 'precip': None, 'max_gust': 11.079913, 'snow': None, 'snowd': None, 'min_rh': 40.0, 'max_rh': 85.0, 'max_dwpf': 14.540022, 'min_dwpf': 6.0980177, 'min_feel': 0.5664711, 'avg_feel': None, 'max_feel': 30.183315, 'max_drct': None, 'precip_est': False, 'tmpf_est': False, 'max_gust_localts': '2024-03-28T11:55:00Z', 'temp_hour': None, 'avg_sknt': None, 'vector_avg_drct': None, 'min_rstage': None, 'max_rstage': None, 'id': 'MN114', 'name': 'T.H.9 - Beltrami - MP 212.5      MN US MNDOT', 'error': 'No Errors Found'}, 'geometry': {'type': 'Point', 'coordinates': [-96.53217315673828, 47.571380615234375]}}, {'type': 'Feature', 'properties': {'station': 'MN115', 'date': '2024-03-28', 'max_tmpf': -21.100012, 'min_tmpf': -21.100012, 'precip': None, 'max_gust': 16.330238, 'snow': None, 'snowd': None, 'min_rh': None, 'max_rh': None, 'max_dwpf': None, 'min_dwpf': None, 'min_feel': None, 'avg_feel': None, 'max_feel': None, 'max_drct': None, 'precip_est': False, 'tmpf_est': False, 'max_gust_localts': '2024-03-28T12:20:00Z', 'temp_hour': None, 'avg_sknt': None, 'vector_avg_drct': None, 'min_rstage': None, 'max_rstage': None, 'id': 'MN115', 'name': 'T.H.11 - Warroad - MP 87.1       MN US MNDOT', 'error': 'No Errors Found'}, 'geometry': {'type': 'Point', 'coordinates': [-95.42524719238281, 48.894508361816406]}}, {'type': 'Feature', 'properties': {'station': 'MN116', 'date': '2024-03-28', 'max_tmpf': 28.940022, 'min_tmpf': 10.219978, 'precip': None, 'max_gust': 17.109718, 'snow': None, 'snowd': None, 'min_rh': 49.0, 'max_rh': 80.0, 'max_dwpf': 12.199989, 'min_dwpf': 5.306013, 'min_feel': -2.1663098, 'avg_feel': None, 'max_feel': 19.127335, 'max_drct': None, 'precip_est': False, 'tmpf_est': False, 'max_gust_localts': '2024-03-28T11:15:00Z', 'temp_hour': None, 'avg_sknt': None, 'vector_avg_drct': None, 'min_rstage': None, 'max_rstage': None, 'id': 'MN116', 'name': 'T.H.72 - Baudette - MP 67.85     MN US MNDOT', 'error': 'No Errors Found'}, 'geometry': {'type': 'Point', 'coordinates': [-94.56025695800781, 48.894508361816406]}}, {'type': 'Feature', 'properties': {'station': 'MN117', 'date': '2024-03-28', 'max_tmpf': 33.44002, 'min_tmpf': 10.9400215, 'precip': None, 'max_gust': 13.610799, 'snow': None, 'snowd': None, 'min_rh': 40.0, 'max_rh': 80.0, 'max_dwpf': 12.848018, 'min_dwpf': 5.1619825, 'min_feel': 2.09161, 'avg_feel': None, 'max_feel': 27.965624, 'max_drct': None, 'precip_est': False, 'tmpf_est': False, 'max_gust_localts': '2024-03-28T10:20:00Z', 'temp_hour': None, 'avg_sknt': None, 'vector_avg_drct': None, 'min_rstage': None, 'max_rstage': None, 'id': 'MN117', 'name': 'T.H.89 - Red Lake - MP 19.13     MN US MNDOT', 'error': 'No Errors Found'}, 'geometry': {'type': 'Point', 'coordinates': [-95.00585174560547, 47.77656173706055]}}, {'type': 'Feature', 'properties': {'station': 'MN118', 'date': '2024-03-28', 'max_tmpf': 30.38, 'min_tmpf': 9.499989, 'precip': None, 'max_gust': 13.799352, 'snow': None, 'snowd': None, 'min_rh': 51.0, 'max_rh': 83.0, 'max_dwpf': 15.583998, 'min_dwpf': 4.8739758, 'min_feel': -5.749693, 'avg_feel': None, 'max_feel': 21.417624, 'max_drct': None, 'precip_est': False, 'tmpf_est': False, 'max_gust_localts': '2024-03-28T12:40:00Z', 'temp_hour': None, 'avg_sknt': None, 'vector_avg_drct': None, 'min_rstage': None, 'max_rstage': None, 'id': 'MN118', 'name': 'T.H.1 - Goodridge - MP 71.8      MN US MNDOT', 'error': 'No Errors Found'}, 'geometry': {'type': 'Point', 'coordinates': [-95.62496185302734, 48.122379302978516]}}, {'type': 'Feature', 'properties': {'station': 'MN119', 'date': '2024-03-28', 'max_tmpf': 28.219978, 'min_tmpf': 10.219978, 'precip': None, 'max_gust': 10.109935, 'snow': None, 'snowd': None, 'min_rh': 53.0, 'max_rh': 82.0, 'max_dwpf': 13.73, 'min_dwpf': 5.576002, 'min_feel': 2.3752818, 'avg_feel': None, 'max_feel': 20.633842, 'max_drct': None, 'precip_est': False, 'tmpf_est': False, 'max_gust_localts': '2024-03-28T13:20:00Z', 'temp_hour': None, 'avg_sknt': None, 'vector_avg_drct': None, 'min_rstage': None, 'max_rstage': None, 'id': 'MN119', 'name': 'T.H.2 - Lengby - MP 75.8         MN US MNDOT', 'error': 'No Errors Found'}, 'geometry': {'type': 'Point', 'coordinates': [-95.66613006591797, 47.53178024291992]}}, {'type': 'Feature', 'properties': {'station': 'MN120', 'date': '2024-03-28', 'max_tmpf': 30.19999, 'min_tmpf': 12.019978, 'precip': None, 'max_gust': 16.330238, 'snow': None, 'snowd': None, 'min_rh': 45.0, 'max_rh': 76.0, 'max_dwpf': 12.236024, 'min_dwpf': 5.936024, 'min_feel': 1.6589764, 'avg_feel': None, 'max_feel': 24.161768, 'max_drct': None, 'precip_est': False, 'tmpf_est': False, 'max_gust_localts': '2024-03-28T13:20:00Z', 'temp_hour': None, 'avg_sknt': None, 'vector_avg_drct': None, 'min_rstage': None, 'max_rstage': None, 'id': 'MN120', 'name': 'T.H.71 - Lake Itasca - MP 281.1  MN US MNDOT', 'error': 'No Errors Found'}, 'geometry': {'type': 'Point', 'coordinates': [-95.13179016113281, 47.187679290771484]}}, {'type': 'Feature', 'properties': {'station': 'MN121', 'date': '2024-03-28', 'max_tmpf': 29.660011, 'min_tmpf': 10.9400215, 'precip': None, 'max_gust': 12.049892, 'snow': None, 'snowd': None, 'min_rh': 44.0, 'max_rh': 86.0, 'max_dwpf': 10.957985, 'min_dwpf': 7.5020156, 'min_feel': 2.348767, 'avg_feel': None, 'max_feel': 23.11521, 'max_drct': None, 'precip_est': False, 'tmpf_est': False, 'max_gust_localts': '2024-03-28T00:20:00Z', 'temp_hour': None, 'avg_sknt': None, 'vector_avg_drct': None, 'min_rstage': None, 'max_rstage': None, 'id': 'MN121', 'name': 'U.S.71 - Clarissa - MP 197.5     MN US MNDOT', 'error': 'No Errors Found'}, 'geometry': {'type': 'Point', 'coordinates': [-94.9167709350586, 46.11394119262695]}}, {'type': 'Feature', 'properties': {'station': 'MN122', 'date': '2024-03-28', 'max_tmpf': 29.119978, 'min_tmpf': 12.740022, 'precip': None, 'max_gust': 19.630886, 'snow': None, 'snowd': None, 'min_rh': 45.0, 'max_rh': 69.0, 'max_dwpf': 10.777973, 'min_dwpf': 4.5320263, 'min_feel': 6.4713497, 'avg_feel': None, 'max_feel': 20.762827, 'max_drct': None, 'precip_est': False, 'tmpf_est': False, 'max_gust_localts': '2024-03-28T11:40:00Z', 'temp_hour': None, 'avg_sknt': None, 'vector_avg_drct': None, 'min_rstage': None, 'max_rstage': None, 'id': 'MN122', 'name': 'T.H.200 - Longville - MP 144.0   MN US MNDOT', 'error': 'No Errors Found'}, 'geometry': {'type': 'Point', 'coordinates': [-94.2145004272461, 47.052818298339844]}}, {'type': 'Feature', 'properties': {'station': 'MN124', 'date': '2024-03-28', 'max_tmpf': 31.099989, 'min_tmpf': 7.160011, 'precip': None, 'max_gust': 13.799352, 'snow': None, 'snowd': None, 'min_rh': 44.0, 'max_rh': 86.0, 'max_dwpf': 12.272004, 'min_dwpf': 3.110011, 'min_feel': 7.160011, 'avg_feel': None, 'max_feel': 27.030594, 'max_drct': None, 'precip_est': False, 'tmpf_est': False, 'max_gust_localts': '2024-03-28T11:15:00Z', 'temp_hour': None, 'avg_sknt': None, 'vector_avg_drct': None, 'min_rstage': None, 'max_rstage': None, 'id': 'MN124', 'name': 'T.H.210 - Motley - MP 101.0      MN US MNDOT', 'error': 'No Errors Found'}, 'geometry': {'type': 'Point', 'coordinates': [-94.64286041259766, 46.34349060058594]}}, {'type': 'Feature', 'properties': {'station': 'MN125', 'date': '2024-03-28', 'max_tmpf': 27.140022, 'min_tmpf': 10.399989, 'precip': None, 'max_gust': 10.109935, 'snow': None, 'snowd': None, 'min_rh': 49.0, 'max_rh': 84.0, 'max_dwpf': 12.452015, 'min_dwpf': 6.2779737, 'min_feel': 1.3403678, 'avg_feel': None, 'max_feel': 19.326471, 'max_drct': None, 'precip_est': False, 'tmpf_est': False, 'max_gust_localts': '2024-03-28T01:00:00Z', 'temp_hour': None, 'avg_sknt': None, 'vector_avg_drct': None, 'min_rstage': None, 'max_rstage': None, 'id': 'MN125', 'name': 'T.H.23 - Richmond - MP 187.8     MN US MNDOT', 'error': 'No Errors Found'}, 'geometry': {'type': 'Point', 'coordinates': [-94.48594665527344, 45.451011657714844]}}, {'type': 'Feature', 'properties': {'station': 'MN127', 'date': '2024-03-28', 'max_tmpf': 28.58, 'min_tmpf': 14.719978, 'precip': None, 'max_gust': 19.630886, 'snow': None, 'snowd': None, 'min_rh': 50.0, 'max_rh': 78.0, 'max_dwpf': 14.036024, 'min_dwpf': 8.545991, 'min_feel': 5.9964733, 'avg_feel': None, 'max_feel': 19.920654, 'max_drct': None, 'precip_est': False, 'tmpf_est': False, 'max_gust_localts': '2024-03-28T10:00:00Z', 'temp_hour': None, 'avg_sknt': None, 'vector_avg_drct': None, 'min_rstage': None, 'max_rstage': None, 'id': 'MN127', 'name': 'T.H.47 - Isle - MP 89.0          MN US MNDOT', 'error': 'No Errors Found'}, 'geometry': {'type': 'Point', 'coordinates': [-93.43245697021484, 46.11800003051758]}}, {'type': 'Feature', 'properties': {'station': 'MN128', 'date': '2024-03-28', 'max_tmpf': 30.019978, 'min_tmpf': 12.919978, 'precip': None, 'max_gust': 19.049677, 'snow': None, 'snowd': None, 'min_rh': 44.0, 'max_rh': 74.0, 'max_dwpf': 11.606013, 'min_dwpf': 6.0980177, 'min_feel': 5.3523717, 'avg_feel': None, 'max_feel': 22.440268, 'max_drct': None, 'precip_est': False, 'tmpf_est': False, 'max_gust_localts': '2024-03-28T13:20:00Z', 'temp_hour': None, 'avg_sknt': None, 'vector_avg_drct': None, 'min_rstage': None, 'max_rstage': None, 'id': 'MN128', 'name': 'U.S.169 - Waukenabo - MP 272.9   MN US MNDOT', 'error': 'No Errors Found'}, 'geometry': {'type': 'Point', 'coordinates': [-93.61335754394531, 46.782958984375]}}, {'type': 'Feature', 'properties': {'station': 'MN129', 'date': '2024-03-28', 'max_tmpf': 30.56001, 'min_tmpf': 16.69999, 'precip': None, 'max_gust': 16.520735, 'snow': None, 'snowd': None, 'min_rh': 43.0, 'max_rh': 74.0, 'max_dwpf': 11.768006, 'min_dwpf': 8.6900215, 'min_feel': 8.378301, 'avg_feel': None, 'max_feel': 24.79972, 'max_drct': None, 'precip_est': False, 'tmpf_est': False, 'max_gust_localts': '2024-03-28T10:40:00Z', 'temp_hour': None, 'avg_sknt': None, 'vector_avg_drct': None, 'min_rstage': None, 'max_rstage': None, 'id': 'MN129', 'name': 'U.S.169 - Farm Island - MP 245.4 MN US MNDOT', 'error': 'No Errors Found'}, 'geometry': {'type': 'Point', 'coordinates': [-93.74376678466797, 46.43484878540039]}}, {'type': 'Feature', 'properties': {'station': 'MN130', 'date': '2024-03-28', 'max_tmpf': 28.399988, 'min_tmpf': 10.58, 'precip': None, 'max_gust': 12.049892, 'snow': None, 'snowd': None, 'min_rh': 52.0, 'max_rh': 85.0, 'max_dwpf': 13.477974, 'min_dwpf': 6.4579844, 'min_feel': 1.1446598, 'avg_feel': None, 'max_feel': 26.06001, 'max_drct': None, 'precip_est': False, 'tmpf_est': False, 'max_gust_localts': '2024-03-28T00:40:00Z', 'temp_hour': None, 'avg_sknt': None, 'vector_avg_drct': None, 'min_rstage': None, 'max_rstage': None, 'id': 'MN130', 'name': 'I-94 - Fergus Falls - MP 61.5    MN US MNDOT', 'error': 'No Errors Found'}, 'geometry': {'type': 'Point', 'coordinates': [-96.01892852783203, 46.20746994018555]}}, {'type': 'Feature', 'properties': {'station': 'MN131', 'date': '2024-03-28', 'max_tmpf': 25.88, 'min_tmpf': 9.499989, 'precip': None, 'max_gust': 10.300432, 'snow': None, 'snowd': None, 'min_rh': 60.0, 'max_rh': 78.0, 'max_dwpf': 14.899989, 'min_dwpf': 4.0459914, 'min_feel': -3.5755, 'avg_feel': None, 'max_feel': 25.88, 'max_drct': None, 'precip_est': False, 'tmpf_est': False, 'max_gust_localts': '2024-03-28T00:20:00Z', 'temp_hour': None, 'avg_sknt': None, 'vector_avg_drct': None, 'min_rstage': None, 'max_rstage': None, 'id': 'MN131', 'name': 'T.H.27 - Herman - MP 36.5        MN US MNDOT', 'error': 'No Errors Found'}, 'geometry': {'type': 'Point', 'coordinates': [-96.23370361328125, 45.803550720214844]}}, {'type': 'Feature', 'properties': {'station': 'MN132', 'date': '2024-03-28', 'max_tmpf': 27.319979, 'min_tmpf': 13.999989, 'precip': None, 'max_gust': 15.160043, 'snow': None, 'snowd': None, 'min_rh': 50.0, 'max_rh': 78.0, 'max_dwpf': 11.606013, 'min_dwpf': 7.5919933, 'min_feel': 6.4700966, 'avg_feel': None, 'max_feel': 17.491945, 'max_drct': None, 'precip_est': False, 'tmpf_est': False, 'max_gust_localts': '2024-03-28T11:00:00Z', 'temp_hour': None, 'avg_sknt': None, 'vector_avg_drct': None, 'min_rstage': None, 'max_rstage': None, 'id': 'MN132', 'name': 'T.H.10 - Frazee - MP 55.2        MN US MNDOT', 'error': 'No Errors Found'}, 'geometry': {'type': 'Point', 'coordinates': [-95.69174194335938, 46.705970764160156]}}, {'type': 'Feature', 'properties': {'station': 'MN133', 'date': '2024-03-28', 'max_tmpf': 26.240023, 'min_tmpf': 10.040022, 'precip': None, 'max_gust': 12.049892, 'snow': None, 'snowd': None, 'min_rh': 53.0, 'max_rh': 87.0, 'max_dwpf': 13.657985, 'min_dwpf': 6.0980177, 'min_feel': -0.4524276, 'avg_feel': None, 'max_feel': 24.08, 'max_drct': None, 'precip_est': False, 'tmpf_est': False, 'max_gust_localts': '2024-03-28T01:20:00Z', 'temp_hour': None, 'avg_sknt': None, 'vector_avg_drct': None, 'min_rstage': None, 'max_rstage': None, 'id': 'MN133', 'name': 'I-94 - Evansville - MP 82.8      MN US MNDOT', 'error': 'No Errors Found'}, 'geometry': {'type': 'Point', 'coordinates': [-95.72994995117188, 45.99848937988281]}}, {'type': 'Feature', 'properties': {'station': 'MN134', 'date': '2024-03-28', 'max_tmpf': 23.899988, 'min_tmpf': 6.799989, 'precip': None, 'max_gust': 11.65918, 'snow': None, 'snowd': None, 'min_rh': 64.0, 'max_rh': 86.0, 'max_dwpf': 14.215981, 'min_dwpf': 2.749989, 'min_feel': -5.259193, 'avg_feel': None, 'max_feel': 22.999989, 'max_drct': None, 'precip_est': False, 'tmpf_est': False, 'max_gust_localts': '2024-03-28T05:20:00Z', 'temp_hour': None, 'avg_sknt': None, 'vector_avg_drct': None, 'min_rstage': None, 'max_rstage': None, 'id': 'MN134', 'name': 'U.S.12 - Holloway - MP 27.0      MN US MNDOT', 'error': 'No Errors Found'}, 'geometry': {'type': 'Point', 'coordinates': [-95.91149139404297, 45.282569885253906]}}, {'type': 'Feature', 'properties': {'station': 'MN135', 'date': '2024-03-28', 'max_tmpf': 31.46001, 'min_tmpf': 12.38, 'precip': None, 'max_gust': 12.829373, 'snow': None, 'snowd': None, 'min_rh': 44.0, 'max_rh': 77.0, 'max_dwpf': 13.586024, 'min_dwpf': 6.2779737, 'min_feel': 5.4266872, 'avg_feel': None, 'max_feel': 31.46001, 'max_drct': None, 'precip_est': False, 'tmpf_est': False, 'max_gust_localts': '2024-03-28T00:00:00Z', 'temp_hour': None, 'avg_sknt': None, 'vector_avg_drct': None, 'min_rstage': None, 'max_rstage': None, 'id': 'MN135', 'name': 'U.S.75 - Kent - MP 222           MN US MNDOT', 'error': 'No Errors Found'}, 'geometry': {'type': 'Point', 'coordinates': [-96.71227264404297, 46.470611572265625]}}, {'type': 'Feature', 'properties': {'station': 'MN136', 'date': '2024-03-28', 'max_tmpf': 21.740023, 'min_tmpf': 9.860011, 'precip': None, 'max_gust': 8.549028, 'snow': None, 'snowd': None, 'min_rh': 68.0, 'max_rh': 84.0, 'max_dwpf': 13.495991, 'min_dwpf': 5.827974, 'min_feel': -0.22602694, 'avg_feel': None, 'max_feel': 16.340021, 'max_drct': None, 'precip_est': False, 'tmpf_est': False, 'max_gust_localts': '2024-03-28T12:40:00Z', 'temp_hour': None, 'avg_sknt': None, 'vector_avg_drct': None, 'min_rstage': None, 'max_rstage': None, 'id': 'MN136', 'name': 'T.H.9 - Murdock - MP 24.5        MN US MNDOT', 'error': 'No Errors Found'}, 'geometry': {'type': 'Point', 'coordinates': [-95.37902069091797, 45.32592010498047]}}, {'type': 'Feature', 'properties': {'station': 'MN137', 'date': '2024-03-28', 'max_tmpf': 27.319979, 'min_tmpf': 11.299989, 'precip': None, 'max_gust': 11.65918, 'snow': None, 'snowd': None, 'min_rh': 57.0, 'max_rh': 79.0, 'max_dwpf': 15.295991, 'min_dwpf': 4.945991, 'min_feel': -0.56395245, 'avg_feel': None, 'max_feel': 24.79999, 'max_drct': None, 'precip_est': False, 'tmpf_est': False, 'max_gust_localts': '2024-03-28T01:20:00Z', 'temp_hour': None, 'avg_sknt': None, 'vector_avg_drct': None, 'min_rstage': None, 'max_rstage': None, 'id': 'MN137', 'name': 'U.S.75 - Ortonville - MP 132.7   MN US MNDOT', 'error': 'No Errors Found'}, 'geometry': {'type': 'Point', 'coordinates': [-96.38938903808594, 45.2689208984375]}}, {'type': 'Feature', 'properties': {'station': 'MN138', 'date': '2024-03-28', 'max_tmpf': 27.68, 'min_tmpf': 11.660011, 'precip': None, 'max_gust': 17.490713, 'snow': None, 'snowd': None, 'min_rh': 51.0, 'max_rh': 81.0, 'max_dwpf': 11.948017, 'min_dwpf': 6.3320265, 'min_feel': 0.49255517, 'avg_feel': None, 'max_feel': 17.940905, 'max_drct': None, 'precip_est': False, 'tmpf_est': False, 'max_gust_localts': '2024-03-28T10:20:00Z', 'temp_hour': None, 'avg_sknt': None, 'vector_avg_drct': None, 'min_rstage': None, 'max_rstage': None, 'id': 'MN138', 'name': 'T.H.34 - Osage - MP 65.0         MN US MNDOT', 'error': 'No Errors Found'}, 'geometry': {'type': 'Point', 'coordinates': [-95.26937866210938, 46.920631408691406]}}, {'type': 'Feature', 'properties': {'station': 'MN139', 'date': '2024-03-28', 'max_tmpf': 31.999989, 'min_tmpf': 15.98, 'precip': None, 'max_gust': 14.190064, 'snow': None, 'snowd': None, 'min_rh': 41.0, 'max_rh': 85.0, 'max_dwpf': 15.9260025, 'min_dwpf': 10.669978, 'min_feel': 9.016326, 'avg_feel': None, 'max_feel': 24.637188, 'max_drct': None, 'precip_est': False, 'tmpf_est': False, 'max_gust_localts': '2024-03-28T13:00:00Z', 'temp_hour': None, 'avg_sknt': None, 'vector_avg_drct': None, 'min_rstage': None, 'max_rstage': None, 'id': 'MN139', 'name': 'T.H.52 - Coates - MP 110.4       MN US MNDOT', 'error': 'No Errors Found'}, 'geometry': {'type': 'Point', 'coordinates': [-93.00971984863281, 44.664920806884766]}}, {'type': 'Feature', 'properties': {'station': 'MN140', 'date': '2024-03-28', 'max_tmpf': 31.640022, 'min_tmpf': 14.18, 'precip': None, 'max_gust': 16.720951, 'snow': None, 'snowd': None, 'min_rh': 42.0, 'max_rh': 83.0, 'max_dwpf': 14.306013, 'min_dwpf': 9.715981, 'min_feel': 8.380923, 'avg_feel': None, 'max_feel': 24.624485, 'max_drct': None, 'precip_est': False, 'tmpf_est': False, 'max_gust_localts': '2024-03-28T13:00:00Z', 'temp_hour': None, 'avg_sknt': None, 'vector_avg_drct': None, 'min_rstage': None, 'max_rstage': None, 'id': 'MN140', 'name': 'T.H.65 - East Bethel - MP 25.8   MN US MNDOT', 'error': 'No Errors Found'}, 'geometry': {'type': 'Point', 'coordinates': [-93.23731231689453, 45.3466682434082]}}, {'type': 'Feature', 'properties': {'station': 'MN141', 'date': '2024-03-28', 'max_tmpf': 33.08, 'min_tmpf': 16.69999, 'precip': None, 'max_gust': 14.190064, 'snow': None, 'snowd': None, 'min_rh': 50.0, 'max_rh': 87.0, 'max_dwpf': 18.698017, 'min_dwpf': 12.991993, 'min_feel': 9.250283, 'avg_feel': None, 'max_feel': 27.337563, 'max_drct': None, 'precip_est': False, 'tmpf_est': False, 'max_gust_localts': '2024-03-28T11:00:00Z', 'temp_hour': None, 'avg_sknt': None, 'vector_avg_drct': None, 'min_rstage': None, 'max_rstage': None, 'id': 'MN141', 'name': 'I-35 - Medford - MP 52.1         MN US MNDOT', 'error': 'No Errors Found'}, 'geometry': {'type': 'Point', 'coordinates': [-93.27835083007812, 44.23244857788086]}}, {'type': 'Feature', 'properties': {'station': 'MN142', 'date': '2024-03-28', 'max_tmpf': 31.999989, 'min_tmpf': 17.96001, 'precip': None, 'max_gust': 13.999568, 'snow': None, 'snowd': None, 'min_rh': 48.0, 'max_rh': 84.0, 'max_dwpf': 17.510012, 'min_dwpf': 13.387996, 'min_feel': 8.543211, 'avg_feel': None, 'max_feel': 25.138828, 'max_drct': None, 'precip_est': False, 'tmpf_est': False, 'max_gust_localts': '2024-03-28T09:40:00Z', 'temp_hour': None, 'avg_sknt': None, 'vector_avg_drct': None, 'min_rstage': None, 'max_rstage': None, 'id': 'MN142', 'name': 'T.H.52 - Zumbrota - MP 73.9      MN US MNDOT', 'error': 'No Errors Found'}, 'geometry': {'type': 'Point', 'coordinates': [-92.6500473022461, 44.239410400390625]}}, {'type': 'Feature', 'properties': {'station': 'MN143', 'date': '2024-03-28', 'max_tmpf': 30.38, 'min_tmpf': 16.160011, 'precip': None, 'max_gust': 17.490713, 'snow': None, 'snowd': None, 'min_rh': 54.0, 'max_rh': 88.0, 'max_dwpf': 17.402016, 'min_dwpf': 12.991993, 'min_feel': 10.073279, 'avg_feel': None, 'max_feel': 25.658287, 'max_drct': None, 'precip_est': False, 'tmpf_est': False, 'max_gust_localts': '2024-03-28T00:40:00Z', 'temp_hour': None, 'avg_sknt': None, 'vector_avg_drct': None, 'min_rstage': None, 'max_rstage': None, 'id': 'MN143', 'name': 'U.S.63 - Lake City - MP 62.9     MN US MNDOT', 'error': 'No Errors Found'}, 'geometry': {'type': 'Point', 'coordinates': [-92.37014770507812, 44.382408142089844]}}, {'type': 'Feature', 'properties': {'station': 'MN144', 'date': '2024-03-28', 'max_tmpf': 32.89999, 'min_tmpf': 18.319979, 'precip': None, 'max_gust': 12.440605, 'snow': None, 'snowd': None, 'min_rh': 58.0, 'max_rh': 83.0, 'max_dwpf': 20.552015, 'min_dwpf': 13.76598, 'min_feel': 13.654715, 'avg_feel': None, 'max_feel': 32.89999, 'max_drct': None, 'precip_est': False, 'tmpf_est': False, 'max_gust_localts': '2024-03-28T00:00:00Z', 'temp_hour': None, 'avg_sknt': None, 'vector_avg_drct': None, 'min_rstage': None, 'max_rstage': None, 'id': 'MN144', 'name': 'U.S.218 - Lyle - MP 4            MN US MNDOT', 'error': 'No Errors Found'}, 'geometry': {'type': 'Point', 'coordinates': [-92.94940948486328, 43.55812072753906]}}, {'type': 'Feature', 'properties': {'station': 'MN145', 'date': '2024-03-28', 'max_tmpf': 32.71998, 'min_tmpf': 17.06001, 'precip': None, 'max_gust': 15.160043, 'snow': None, 'snowd': None, 'min_rh': 55.0, 'max_rh': 85.0, 'max_dwpf': 20.876001, 'min_dwpf': 13.153987, 'min_feel': 11.267832, 'avg_feel': None, 'max_feel': 27.957941, 'max_drct': None, 'precip_est': False, 'tmpf_est': False, 'max_gust_localts': '2024-03-28T00:20:00Z', 'temp_hour': None, 'avg_sknt': None, 'vector_avg_drct': None, 'min_rstage': None, 'max_rstage': None, 'id': 'MN145', 'name': 'U.S.63 - Le Roy - MP 0.5         MN US MNDOT', 'error': 'No Errors Found'}, 'geometry': {'type': 'Point', 'coordinates': [-92.36969757080078, 43.50838851928711]}}, {'type': 'Feature', 'properties': {'station': 'MN146', 'date': '2024-03-28', 'max_tmpf': 37.21998, 'min_tmpf': 22.640022, 'precip': None, 'max_gust': 16.130022, 'snow': None, 'snowd': None, 'min_rh': 41.0, 'max_rh': 73.0, 'max_dwpf': 19.687996, 'min_dwpf': 14.990022, 'min_feel': 15.655383, 'avg_feel': None, 'max_feel': 34.5159, 'max_drct': None, 'precip_est': False, 'tmpf_est': False, 'max_gust_localts': '2024-03-28T08:40:00Z', 'temp_hour': None, 'avg_sknt': None, 'vector_avg_drct': None, 'min_rstage': None, 'max_rstage': None, 'id': 'MN146', 'name': 'I-90 - La Crescent - MP 276.4    MN US MNDOT', 'error': 'No Errors Found'}, 'geometry': {'type': 'Point', 'coordinates': [-91.30422973632812, 43.8578987121582]}}, {'type': 'Feature', 'properties': {'station': 'MN147', 'date': '2024-03-28', 'max_tmpf': 35.96001, 'min_tmpf': 18.319979, 'precip': None, 'max_gust': 13.610799, 'snow': None, 'snowd': None, 'min_rh': 61.0, 'max_rh': 86.0, 'max_dwpf': 24.223976, 'min_dwpf': 13.837996, 'min_feel': 13.575042, 'avg_feel': None, 'max_feel': 30.427397, 'max_drct': None, 'precip_est': False, 'tmpf_est': False, 'max_gust_localts': '2024-03-28T13:20:00Z', 'temp_hour': None, 'avg_sknt': None, 'vector_avg_drct': None, 'min_rstage': None, 'max_rstage': None, 'id': 'MN147', 'name': 'I-90 - Magnolia - MP 21.6        MN US MNDOT', 'error': 'No Errors Found'}, 'geometry': {'type': 'Point', 'coordinates': [-96.08824920654297, 43.63808822631836]}}, {'type': 'Feature', 'properties': {'station': 'MN148', 'date': '2024-03-28', 'max_tmpf': 33.44002, 'min_tmpf': 17.96001, 'precip': None, 'max_gust': 12.440605, 'snow': None, 'snowd': None, 'min_rh': 55.0, 'max_rh': 86.0, 'max_dwpf': 20.569979, 'min_dwpf': 14.395991, 'min_feel': 11.789874, 'avg_feel': None, 'max_feel': 30.919977, 'max_drct': None, 'precip_est': False, 'tmpf_est': False, 'max_gust_localts': '2024-03-28T13:00:00Z', 'temp_hour': None, 'avg_sknt': None, 'vector_avg_drct': None, 'min_rstage': None, 'max_rstage': None, 'id': 'MN148', 'name': 'I-90 - Welcome - MP 93.7         MN US MNDOT', 'error': 'No Errors Found'}, 'geometry': {'type': 'Point', 'coordinates': [-94.61518859863281, 43.68109893798828]}}, {'type': 'Feature', 'properties': {'station': 'MN149', 'date': '2024-03-28', 'max_tmpf': 33.44002, 'min_tmpf': 18.86001, 'precip': None, 'max_gust': 13.999568, 'snow': None, 'snowd': None, 'min_rh': 47.0, 'max_rh': 82.0, 'max_dwpf': 18.23, 'min_dwpf': 14.018006, 'min_feel': 13.992868, 'avg_feel': None, 'max_feel': 30.38, 'max_drct': None, 'precip_est': False, 'tmpf_est': False, 'max_gust_localts': '2024-03-28T11:55:00Z', 'temp_hour': None, 'avg_sknt': None, 'vector_avg_drct': None, 'min_rstage': None, 'max_rstage': None, 'id': 'MN149', 'name': 'I-90 - Wells - MP 138.7          MN US MNDOT', 'error': 'No Errors Found'}, 'geometry': {'type': 'Point', 'coordinates': [-93.72737884521484, 43.65769958496094]}}, {'type': 'Feature', 'properties': {'station': 'MN150', 'date': '2024-03-28', 'max_tmpf': 29.48, 'min_tmpf': 15.619978, 'precip': None, 'max_gust': 8.360476, 'snow': None, 'snowd': None, 'min_rh': 61.0, 'max_rh': 91.0, 'max_dwpf': 19.723976, 'min_dwpf': 12.199989, 'min_feel': 9.647826, 'avg_feel': None, 'max_feel': 27.86001, 'max_drct': None, 'precip_est': False, 'tmpf_est': False, 'max_gust_localts': '2024-03-28T13:00:00Z', 'temp_hour': None, 'avg_sknt': None, 'vector_avg_drct': None, 'min_rstage': None, 'max_rstage': None, 'id': 'MN150', 'name': 'T.H.60 - Mountain Lake - MP 48   MN US MNDOT', 'error': 'No Errors Found'}, 'geometry': {'type': 'Point', 'coordinates': [-94.99980163574219, 43.91899108886719]}}, {'type': 'Feature', 'properties': {'station': 'MN151', 'date': '2024-03-28', 'max_tmpf': 29.119978, 'min_tmpf': 12.919978, 'precip': None, 'max_gust': 8.749244, 'snow': None, 'snowd': None, 'min_rh': 53.0, 'max_rh': 85.0, 'max_dwpf': 16.91598, 'min_dwpf': 9.283998, 'min_feel': 4.494461, 'avg_feel': None, 'max_feel': 29.119978, 'max_drct': None, 'precip_est': False, 'tmpf_est': False, 'max_gust_localts': '2024-03-28T09:00:00Z', 'temp_hour': None, 'avg_sknt': None, 'vector_avg_drct': None, 'min_rstage': None, 'max_rstage': None, 'id': 'MN151', 'name': 'U.S.14 - Springfield - MP 80.7   MN US MNDOT', 'error': 'No Errors Found'}, 'geometry': {'type': 'Point', 'coordinates': [-94.89512634277344, 44.26805114746094]}}, {'type': 'Feature', 'properties': {'station': 'MN152', 'date': '2024-03-28', 'max_tmpf': 33.26001, 'min_tmpf': 17.78, 'precip': None, 'max_gust': 10.889417, 'snow': None, 'snowd': None, 'min_rh': 52.0, 'max_rh': 85.0, 'max_dwpf': 18.968006, 'min_dwpf': 13.783998, 'min_feel': 12.321434, 'avg_feel': None, 'max_feel': 30.38, 'max_drct': None, 'precip_est': False, 'tmpf_est': False, 'max_gust_localts': '2024-03-28T13:20:00Z', 'temp_hour': None, 'avg_sknt': None, 'vector_avg_drct': None, 'min_rstage': None, 'max_rstage': None, 'id': 'MN152', 'name': 'T.H.30 - Mapleton - MP 146.8     MN US MNDOT', 'error': 'No Errors Found'}, 'geometry': {'type': 'Point', 'coordinates': [-93.91436767578125, 43.89870834350586]}}, {'type': 'Feature', 'properties': {'station': 'MN153', 'date': '2024-03-28', 'max_tmpf': 23.36001, 'min_tmpf': 8.960011, 'precip': None, 'max_gust': 9.719222, 'snow': None, 'snowd': None, 'min_rh': 63.0, 'max_rh': 83.0, 'max_dwpf': 13.1900215, 'min_dwpf': 4.8739758, 'min_feel': -1.5923029, 'avg_feel': None, 'max_feel': 22.099989, 'max_drct': None, 'precip_est': False, 'tmpf_est': False, 'max_gust_localts': '2024-03-28T02:20:00Z', 'temp_hour': None, 'avg_sknt': None, 'vector_avg_drct': None, 'min_rstage': None, 'max_rstage': None, 'id': 'MN153', 'name': 'T.H.212 - Dawson - MP 24.1       MN US MNDOT', 'error': 'No Errors Found'}, 'geometry': {'type': 'Point', 'coordinates': [-95.9616928100586, 44.93537139892578]}}, {'type': 'Feature', 'properties': {'station': 'MN154', 'date': '2024-03-28', 'max_tmpf': 30.019978, 'min_tmpf': 14.360011, 'precip': None, 'max_gust': 12.250108, 'snow': None, 'snowd': None, 'min_rh': 69.0, 'max_rh': 86.0, 'max_dwpf': 21.776003, 'min_dwpf': 9.23, 'min_feel': 6.4087086, 'avg_feel': None, 'max_feel': 22.36573, 'max_drct': None, 'precip_est': False, 'tmpf_est': False, 'max_gust_localts': '2024-03-28T12:00:00Z', 'temp_hour': None, 'avg_sknt': None, 'vector_avg_drct': None, 'min_rstage': None, 'max_rstage': None, 'id': 'MN154', 'name': 'U.S.75 - Trosky - MP 30.3        MN US MNDOT', 'error': 'No Errors Found'}, 'geometry': {'type': 'Point', 'coordinates': [-96.26497650146484, 43.92211151123047]}}, {'type': 'Feature', 'properties': {'station': 'MN155', 'date': '2024-03-28', 'max_tmpf': 26.599989, 'min_tmpf': 9.319978, 'precip': None, 'max_gust': 9.52095, 'snow': None, 'snowd': None, 'min_rh': 53.0, 'max_rh': 83.0, 'max_dwpf': 14.611982, 'min_dwpf': 4.423976, 'min_feel': 1.4569186, 'avg_feel': None, 'max_feel': 26.599989, 'max_drct': None, 'precip_est': False, 'tmpf_est': False, 'max_gust_localts': '2024-03-28T08:20:00Z', 'temp_hour': None, 'avg_sknt': None, 'vector_avg_drct': None, 'min_rstage': None, 'max_rstage': None, 'id': 'MN155', 'name': 'T.H.68 - Milroy - MP 59.0        MN US MNDOT', 'error': 'No Errors Found'}, 'geometry': {'type': 'Point', 'coordinates': [-95.47245788574219, 44.399688720703125]}}, {'type': 'Feature', 'properties': {'station': 'MN156', 'date': '2024-03-28', 'max_tmpf': 25.160011, 'min_tmpf': 7.519978, 'precip': None, 'max_gust': 7.5790496, 'snow': None, 'snowd': None, 'min_rh': 56.0, 'max_rh': 81.0, 'max_dwpf': 12.937996, 'min_dwpf': 1.849989, 'min_feel': -0.6324064, 'avg_feel': None, 'max_feel': 24.260012, 'max_drct': None, 'precip_est': False, 'tmpf_est': False, 'max_gust_localts': '2024-03-28T08:00:00Z', 'temp_hour': None, 'avg_sknt': None, 'vector_avg_drct': None, 'min_rstage': None, 'max_rstage': None, 'id': 'MN156', 'name': 'T.H.68 - Taunton - MP 22.9       MN US MNDOT', 'error': 'No Errors Found'}, 'geometry': {'type': 'Point', 'coordinates': [-96.05168151855469, 44.58692932128906]}}, {'type': 'Feature', 'properties': {'station': 'MN157', 'date': '2024-03-28', 'max_tmpf': 24.619978, 'min_tmpf': 9.68, 'precip': None, 'max_gust': 11.470626, 'snow': None, 'snowd': None, 'min_rh': 69.0, 'max_rh': 85.0, 'max_dwpf': 16.573977, 'min_dwpf': 6.0079846, 'min_feel': -2.222442, 'avg_feel': None, 'max_feel': 18.223146, 'max_drct': None, 'precip_est': False, 'tmpf_est': False, 'max_gust_localts': '2024-03-28T06:20:00Z', 'temp_hour': None, 'avg_sknt': None, 'vector_avg_drct': None, 'min_rstage': None, 'max_rstage': None, 'id': 'MN157', 'name': 'T.H.212 - Hector - MP 84.4       MN US MNDOT', 'error': 'No Errors Found'}, 'geometry': {'type': 'Point', 'coordinates': [-94.8431625366211, 44.76047134399414]}}, {'type': 'Feature', 'properties': {'station': 'MN158', 'date': '2024-03-28', 'max_tmpf': 26.240023, 'min_tmpf': 14.899989, 'precip': None, 'max_gust': 14.380562, 'snow': None, 'snowd': None, 'min_rh': 54.0, 'max_rh': 74.0, 'max_dwpf': 13.8919935, 'min_dwpf': 7.160011, 'min_feel': 2.6142995, 'avg_feel': None, 'max_feel': 24.98, 'max_drct': None, 'precip_est': False, 'tmpf_est': False, 'max_gust_localts': '2024-03-28T01:00:00Z', 'temp_hour': None, 'avg_sknt': None, 'vector_avg_drct': None, 'min_rstage': None, 'max_rstage': None, 'id': 'MN158', 'name': 'U.S.75 - Canby - MP 84.0         MN US MNDOT', 'error': 'No Errors Found'}, 'geometry': {'type': 'Point', 'coordinates': [-96.27693176269531, 44.674171447753906]}}, {'type': 'Feature', 'properties': {'station': 'MN159', 'date': '2024-03-28', 'max_tmpf': 26.78, 'min_tmpf': 9.140022, 'precip': None, 'max_gust': 12.829373, 'snow': None, 'snowd': None, 'min_rh': 56.0, 'max_rh': 88.0, 'max_dwpf': 14.683998, 'min_dwpf': 6.3140087, 'min_feel': -2.0359218, 'avg_feel': None, 'max_feel': 24.98, 'max_drct': None, 'precip_est': False, 'tmpf_est': False, 'max_gust_localts': '2024-03-28T02:40:00Z', 'temp_hour': None, 'avg_sknt': None, 'vector_avg_drct': None, 'min_rstage': None, 'max_rstage': None, 'id': 'MN159', 'name': 'U.S.12 - Atwater - MP 85.4       MN US MNDOT', 'error': 'No Errors Found'}, 'geometry': {'type': 'Point', 'coordinates': [-94.81175994873047, 45.1390495300293]}}, {'type': 'Feature', 'properties': {'station': 'MN160', 'date': '2024-03-28', 'max_tmpf': 24.260012, 'min_tmpf': 15.98, 'precip': None, 'max_gust': 13.610799, 'snow': None, 'snowd': None, 'min_rh': 64.0, 'max_rh': 79.0, 'max_dwpf': 15.241993, 'min_dwpf': 10.057984, 'min_feel': 2.5431807, 'avg_feel': None, 'max_feel': 19.58, 'max_drct': None, 'precip_est': False, 'tmpf_est': False, 'max_gust_localts': '2024-03-28T01:20:00Z', 'temp_hour': None, 'avg_sknt': None, 'vector_avg_drct': None, 'min_rstage': None, 'max_rstage': None, 'id': 'MN160', 'name': 'U.S.14 - Florence - MP 21.2      MN US MNDOT', 'error': 'No Errors Found'}, 'geometry': {'type': 'Point', 'coordinates': [-96.04634094238281, 44.24031066894531]}}, {'type': 'Feature', 'properties': {'station': 'MN161', 'date': '2024-03-28', 'max_tmpf': 19.760012, 'min_tmpf': 14.360011, 'precip': None, 'max_gust': 9.330454, 'snow': None, 'snowd': None, 'min_rh': 71.0, 'max_rh': 75.0, 'max_dwpf': 11.911983, 'min_dwpf': 7.9159803, 'min_feel': 5.9964733, 'avg_feel': None, 'max_feel': 12.500204, 'max_drct': None, 'precip_est': False, 'tmpf_est': False, 'max_gust_localts': '2024-03-28T05:05:00Z', 'temp_hour': None, 'avg_sknt': None, 'vector_avg_drct': None, 'min_rstage': None, 'max_rstage': None, 'id': 'MN161', 'name': 'U.S.12 - Delano - MP 140.4       MN US MNDOT', 'error': 'No Errors Found'}, 'geometry': {'type': 'Point', 'coordinates': [-93.76606750488281, 45.03544998168945]}}, {'type': 'Feature', 'properties': {'station': 'MN162', 'date': '2024-03-28', 'max_tmpf': 35.96001, 'min_tmpf': 21.19999, 'precip': None, 'max_gust': 16.330238, 'snow': None, 'snowd': None, 'min_rh': 38.0, 'max_rh': 73.0, 'max_dwpf': 17.545992, 'min_dwpf': 10.922005, 'min_feel': 17.14396, 'avg_feel': None, 'max_feel': 30.003744, 'max_drct': None, 'precip_est': False, 'tmpf_est': False, 'max_gust_localts': '2024-03-28T00:20:00Z', 'temp_hour': None, 'avg_sknt': None, 'vector_avg_drct': None, 'min_rstage': None, 'max_rstage': None, 'id': 'MN162', 'name': 'U.S.61 - Winona                  MN US MNDOT', 'error': 'No Errors Found'}, 'geometry': {'type': 'Point', 'coordinates': [-91.42903900146484, 43.9787712097168]}}, {'type': 'Feature', 'properties': {'station': 'MN163', 'date': '2024-03-28', 'max_tmpf': 30.019978, 'min_tmpf': 15.799989, 'precip': None, 'max_gust': 18.660908, 'snow': None, 'snowd': None, 'min_rh': 44.0, 'max_rh': 75.0, 'max_dwpf': 14.648018, 'min_dwpf': 7.573976, 'min_feel': 7.330537, 'avg_feel': None, 'max_feel': 21.788176, 'max_drct': None, 'precip_est': False, 'tmpf_est': False, 'max_gust_localts': '2024-03-28T11:40:00Z', 'temp_hour': None, 'avg_sknt': None, 'vector_avg_drct': None, 'min_rstage': None, 'max_rstage': None, 'id': 'MN163', 'name': 'I-35 Moose Lake - MP 216         MN US MNDOT', 'error': 'No Errors Found'}, 'geometry': {'type': 'Point', 'coordinates': [-92.7301025390625, 46.452781677246094]}}, {'type': 'Feature', 'properties': {'station': 'MN164', 'date': '2024-03-28', 'max_tmpf': 29.48, 'min_tmpf': 12.919978, 'precip': None, 'max_gust': 15.160043, 'snow': None, 'snowd': None, 'min_rh': 47.0, 'max_rh': 83.0, 'max_dwpf': 13.010011, 'min_dwpf': 8.7440195, 'min_feel': 2.9520476, 'avg_feel': None, 'max_feel': 20.29715, 'max_drct': None, 'precip_est': False, 'tmpf_est': False, 'max_gust_localts': '2024-03-28T13:20:00Z', 'temp_hour': None, 'avg_sknt': None, 'vector_avg_drct': None, 'min_rstage': None, 'max_rstage': None, 'id': 'MN164', 'name': 'U.S.169 Princeton - MP 176.9     MN US MNDOT', 'error': 'No Errors Found'}, 'geometry': {'type': 'Point', 'coordinates': [-93.58489227294922, 45.55337142944336]}}, {'type': 'Feature', 'properties': {'station': 'MN165', 'date': '2024-03-28', 'max_tmpf': 31.28, 'min_tmpf': 19.219978, 'precip': None, 'max_gust': 22.159826, 'snow': None, 'snowd': None, 'min_rh': 49.0, 'max_rh': 72.0, 'max_dwpf': 14.557984, 'min_dwpf': 9.211983, 'min_feel': 10.573521, 'avg_feel': None, 'max_feel': 25.641827, 'max_drct': None, 'precip_est': False, 'tmpf_est': False, 'max_gust_localts': '2024-03-28T12:00:00Z', 'temp_hour': None, 'avg_sknt': None, 'vector_avg_drct': None, 'min_rstage': None, 'max_rstage': None, 'id': 'MN165', 'name': 'T.H.61 Schroeder - MP 79         MN US MNDOT', 'error': 'No Errors Found'}, 'geometry': {'type': 'Point', 'coordinates': [-90.8958969116211, 47.544429779052734]}}, {'type': 'Feature', 'properties': {'station': 'MN166', 'date': '2024-03-28', 'max_tmpf': 28.58, 'min_tmpf': 19.399988, 'precip': None, 'max_gust': 21.58056, 'snow': None, 'snowd': None, 'min_rh': 55.0, 'max_rh': 80.0, 'max_dwpf': 14.486024, 'min_dwpf': 10.436024, 'min_feel': 10.392405, 'avg_feel': None, 'max_feel': 21.069675, 'max_drct': None, 'precip_est': False, 'tmpf_est': False, 'max_gust_localts': '2024-03-28T10:40:00Z', 'temp_hour': None, 'avg_sknt': None, 'vector_avg_drct': None, 'min_rstage': None, 'max_rstage': None, 'id': 'MN166', 'name': 'T.H.61 Grand Marais MP 110.8     MN US MNDOT', 'error': 'No Errors Found'}, 'geometry': {'type': 'Point', 'coordinates': [-90.31385803222656, 47.75836181640625]}}, {'type': 'Feature', 'properties': {'station': 'MN167', 'date': '2024-03-28', 'max_tmpf': 27.499989, 'min_tmpf': 11.119978, 'precip': None, 'max_gust': 20.799135, 'snow': None, 'snowd': None, 'min_rh': 43.0, 'max_rh': 76.0, 'max_dwpf': 9.464008, 'min_dwpf': 4.190022, 'min_feel': -0.8596343, 'avg_feel': None, 'max_feel': 17.262884, 'max_drct': None, 'precip_est': False, 'tmpf_est': False, 'max_gust_localts': '2024-03-28T12:00:00Z', 'temp_hour': None, 'avg_sknt': None, 'vector_avg_drct': None, 'min_rstage': None, 'max_rstage': None, 'id': 'MN167', 'name': 'U.S.2 - Solway - MP 99.7         MN US MNDOT', 'error': 'No Errors Found'}, 'geometry': {'type': 'Point', 'coordinates': [-95.16248321533203, 47.52328109741211]}}, {'type': 'Feature', 'properties': {'station': 'MN168', 'date': '2024-03-28', 'max_tmpf': 32.540024, 'min_tmpf': 13.640022, 'precip': None, 'max_gust': 15.360259, 'snow': None, 'snowd': None, 'min_rh': 39.0, 'max_rh': 69.0, 'max_dwpf': 11.3720045, 'min_dwpf': 5.2520156, 'min_feel': 1.7739671, 'avg_feel': None, 'max_feel': 25.138828, 'max_drct': None, 'precip_est': False, 'tmpf_est': False, 'max_gust_localts': '2024-03-28T12:20:00Z', 'temp_hour': None, 'avg_sknt': None, 'vector_avg_drct': None, 'min_rstage': None, 'max_rstage': None, 'id': 'MN168', 'name': 'T.H.1 - Warren - MP 11.5         MN US MNDOT', 'error': 'No Errors Found'}, 'geometry': {'type': 'Point', 'coordinates': [-96.89114379882812, 48.195350646972656]}}, {'type': 'Feature', 'properties': {'station': 'MN169', 'date': '2024-03-28', 'max_tmpf': 29.660011, 'min_tmpf': 11.299989, 'precip': None, 'max_gust': 17.300217, 'snow': None, 'snowd': None, 'min_rh': 41.0, 'max_rh': 71.0, 'max_dwpf': 10.957985, 'min_dwpf': 3.7579846, 'min_feel': -0.38880777, 'avg_feel': None, 'max_feel': 22.377111, 'max_drct': None, 'precip_est': False, 'tmpf_est': False, 'max_gust_localts': '2024-03-28T10:40:00Z', 'temp_hour': None, 'avg_sknt': None, 'vector_avg_drct': None, 'min_rstage': None, 'max_rstage': None, 'id': 'MN169', 'name': 'T.H.11 - Karlstad - MP 37.7      MN US MNDOT', 'error': 'No Errors Found'}, 'geometry': {'type': 'Point', 'coordinates': [-96.38069915771484, 48.64707946777344]}}, {'type': 'Feature', 'properties': {'station': 'MN170', 'date': '2024-03-28', 'max_tmpf': 29.29999, 'min_tmpf': 14.899989, 'precip': None, 'max_gust': 16.720951, 'snow': None, 'snowd': None, 'min_rh': 46.0, 'max_rh': 82.0, 'max_dwpf': 11.606013, 'min_dwpf': 9.032026, 'min_feel': 7.3322206, 'avg_feel': None, 'max_feel': 22.925688, 'max_drct': None, 'precip_est': False, 'tmpf_est': False, 'max_gust_localts': '2024-03-28T00:20:00Z', 'temp_hour': None, 'avg_sknt': None, 'vector_avg_drct': None, 'min_rstage': None, 'max_rstage': None, 'id': 'MN170', 'name': 'T.H.371 - Nisswa - MP 46.2       MN US MNDOT', 'error': 'No Errors Found'}, 'geometry': {'type': 'Point', 'coordinates': [-94.296142578125, 46.524620056152344]}}, {'type': 'Feature', 'properties': {'station': 'MN171', 'date': '2024-03-28', 'max_tmpf': 31.099989, 'min_tmpf': 16.340021, 'precip': None, 'max_gust': 22.550539, 'snow': None, 'snowd': None, 'min_rh': 48.0, 'max_rh': 86.0, 'max_dwpf': 16.519978, 'min_dwpf': 9.823976, 'min_feel': 10.311121, 'avg_feel': None, 'max_feel': 23.330873, 'max_drct': None, 'precip_est': False, 'tmpf_est': False, 'max_gust_localts': '2024-03-28T13:00:00Z', 'temp_hour': None, 'avg_sknt': None, 'vector_avg_drct': None, 'min_rstage': None, 'max_rstage': None, 'id': 'MN171', 'name': 'U.S.53 - Piedmont Ave - MP 2.7   MN US MNDOT', 'error': 'No Errors Found'}, 'geometry': {'type': 'Point', 'coordinates': [-92.13751983642578, 46.77138137817383]}}, {'type': 'Feature', 'properties': {'station': 'MN172', 'date': '2024-03-28', 'max_tmpf': 24.08, 'min_tmpf': 13.28, 'precip': None, 'max_gust': 27.209936, 'snow': None, 'snowd': None, 'min_rh': 61.0, 'max_rh': 86.0, 'max_dwpf': 13.694019, 'min_dwpf': 9.373976, 'min_feel': 4.036703, 'avg_feel': None, 'max_feel': 14.899989, 'max_drct': None, 'precip_est': False, 'tmpf_est': False, 'max_gust_localts': '2024-03-28T13:20:00Z', 'temp_hour': None, 'avg_sknt': None, 'vector_avg_drct': None, 'min_rstage': None, 'max_rstage': None, 'id': 'MN172', 'name': 'T.H.1 - Stony River - MP 310     MN US MNDOT', 'error': 'No Errors Found'}, 'geometry': {'type': 'Point', 'coordinates': [-91.61768341064453, 47.67723846435547]}}]}"
     ]
    },
    {
     "name": "stdout",
     "output_type": "stream",
     "text": [
      "\n"
     ]
    }
   ],
   "source": [
    "# Establish variables for the empty error list and the feature set in the GeoJSON\n",
    "error_list = []\n",
    "fs = minn_json['features']\n",
    "\n",
    "# Create for loop iterating through each feature in the geojson\n",
    "for f in fs:\n",
    "    properties = f['properties']\n",
    "    properties_list = [properties['precip'],properties['snow'],properties['snowd']]\n",
    "    # Set variables equal to maximum and minimum temperature\n",
    "    max_temp = properties['max_tmpf']\n",
    "    min_temp = properties['min_tmpf']\n",
    "    \n",
    "    # Make sure the date of the incoming data is today\n",
    "    if properties['date'] == today:\n",
    "            \n",
    "        # Create if statement for any empty temperature data\n",
    "        if max_temp == None or min_temp == None:\n",
    "            properties['error'] = 'Error: No temperature data available at this location'\n",
    "\n",
    "        # Use monthly temperature records and add and subtract 5 from the record high and low respectively\n",
    "        elif month_num == 1:\n",
    "            if max_temp > 74:\n",
    "                properties['error'] = 'Error: Maximum temperature is likely incorrect'\n",
    "            if min_temp < -62:\n",
    "                properties['error'] = 'Error: Minimum temperature is likely incorrect'\n",
    "            else:\n",
    "                properties['error'] = 'No Errors Found'\n",
    "        elif month_num == 2:\n",
    "            if max_temp > 81:\n",
    "                properties['error'] = 'Error: Maximum temperature is likely incorrect'\n",
    "            if min_temp < -65:\n",
    "                properties['error'] = 'Error: Minimum temperature is likely incorrect'\n",
    "            else:\n",
    "                properties['error'] = 'No Errors Found'\n",
    "        elif month_num == 3:\n",
    "            if max_temp > 93:\n",
    "                properties['error'] = 'Error: Maximum temperature is likely incorrect'\n",
    "            if min_temp < -55:\n",
    "                properties['error'] = 'Error: Minimum temperature is likely incorrect'\n",
    "            else:\n",
    "                properties['error'] = 'No Errors Found'\n",
    "        elif month_num == 4:\n",
    "            if max_temp > 106:\n",
    "                properties['error'] = 'Error: Maximum temperature is likely incorrect'\n",
    "            if min_temp < -27:\n",
    "                properties['error'] = 'Error: Minimum temperature is likely incorrect'\n",
    "            else:\n",
    "                properties['error'] = 'No Errors Found'\n",
    "        elif month_num == 5:\n",
    "            if max_temp > 117:\n",
    "                properties['error'] = 'Error: Maximum temperature is likely incorrect'\n",
    "            if min_temp < -1:\n",
    "                properties['error'] = 'Error: Minimum temperature is likely incorrect'\n",
    "            else:\n",
    "                properties['error'] = 'No Errors Found'\n",
    "        elif month_num == 6:\n",
    "            if max_temp > 115:\n",
    "                properties['error'] = 'Error: Maximum temperature is likely incorrect'\n",
    "            if min_temp < 10:\n",
    "                properties['error'] = 'Error: Minimum temperature is likely incorrect'\n",
    "            else:\n",
    "                properties['error'] = 'No Errors Found'\n",
    "        elif month_num == 7:\n",
    "            if max_temp > 120:\n",
    "                properties['error'] = 'Error: Maximum temperature is likely incorrect'\n",
    "            if min_temp < 19:\n",
    "                properties['error'] = 'Error: Minimum temperature is likely incorrect'\n",
    "            else:\n",
    "                properties['error'] = 'No Errors Found'\n",
    "        elif month_num == 8:\n",
    "            if max_temp > 115:\n",
    "                properties['error'] = 'Error: Maximum temperature is likely incorrect'\n",
    "            if min_temp < 16:\n",
    "                properties['error'] = 'Error: Minimum temperature is likely incorrect'\n",
    "            else:\n",
    "                properties['error'] = 'No Errors Found'\n",
    "        elif month_num == 9:\n",
    "            if max_temp > 116:\n",
    "                properties['error'] = 'Error: Maximum temperature is likely incorrect'\n",
    "            if min_temp < 5:\n",
    "                properties['error'] = 'Error: Minimum temperature is likely incorrect'\n",
    "            else:\n",
    "                properties['error'] = 'No Errors Found'\n",
    "        elif month_num == 10:\n",
    "            if max_temp > 103:\n",
    "                properties['error'] = 'Error: Maximum temperature is likely incorrect'\n",
    "            if min_temp < -11:\n",
    "                properties['error'] = 'Error: Minimum temperature is likely incorrect'\n",
    "            else:\n",
    "                properties['error'] = 'No Errors Found'\n",
    "        elif month_num == 11:\n",
    "            if max_temp > 89:\n",
    "                properties['error'] = 'Error: Maximum temperature is likely incorrect'\n",
    "            if min_temp < -52:\n",
    "                properties['error'] = 'Error: Minimum temperature is likely incorrect'\n",
    "            else:\n",
    "                properties['error'] = 'No Errors Found'\n",
    "        elif month_num == 12:\n",
    "            if max_temp > 79:\n",
    "                properties['error'] = 'Error: Maximum temperature is likely incorrect'\n",
    "            if min_temp < -62:\n",
    "                properties['error'] = 'Error: Minimum temperature is likely incorrect'\n",
    "            else:\n",
    "                properties['error'] = 'No Errors Found'\n",
    "        elif field in properties_list < 0:\n",
    "            properties['error'] = 'Error: Negative values present in precipitation fields'\n",
    "        else:\n",
    "            properties['error'] = 'No Errors Found'\n",
    "            \n",
    "    # If the data's date is incorrect, print 'Incorrect date'\n",
    "    else:\n",
    "        properties['error'] = 'Error: Incorrect date'\n",
    "        \n",
    "# Print geojson\n",
    "print(minn_json)"
   ]
  },
  {
   "cell_type": "markdown",
   "metadata": {
    "heading_collapsed": true,
    "hidden": true
   },
   "source": [
    "#### Data Processing and Conversion"
   ]
  },
  {
   "cell_type": "code",
   "execution_count": 26,
   "metadata": {
    "hidden": true
   },
   "outputs": [
    {
     "data": {
      "text/html": [
       "<div class='gpresult'><h2>Messages</h2><div id='messages' data-messages='[\"Start Time: Thursday, 28 March 2024 2:31:25 pm\",\"Succeeded at Thursday, 28 March 2024 2:31:26 pm (Elapsed Time: 0.85 seconds)\"]' data-show='true'><div id = 'default' /></div></div>"
      ],
      "text/plain": [
       "<Result 'F:\\\\1. UMN MGIS\\\\1. Semesters\\\\4th Semester\\\\1. ArcGIS II\\\\2. Labs\\\\Lab 03\\\\ArcII_Lab3\\\\ArcII_Lab3.gdb\\\\MN_temp_log_20240328'>"
      ]
     },
     "execution_count": 26,
     "metadata": {},
     "output_type": "execute_result"
    }
   ],
   "source": [
    "# Create empty list for each necessary field\n",
    "sta_id_list = []\n",
    "date_list = []\n",
    "max_temp_list = []\n",
    "min_temp_list = []\n",
    "precip_list = []\n",
    "snow_list = []\n",
    "snow_dep_list = []\n",
    "sta_name_list = []\n",
    "lon_list = []\n",
    "lat_list = []\n",
    "error_list = []\n",
    "\n",
    "# Append correct data from the GeoJSON to each list\n",
    "fs = minn_json['features'] \n",
    "for f in fs:\n",
    "    sta_id_list.append(f['properties']['station'])\n",
    "    date_list.append(f['properties']['date'])\n",
    "    # Check for null values and replace them with 0\n",
    "    max_temp_list.append(f['properties']['max_tmpf'] if f['properties']['max_tmpf'] is not None else 0)\n",
    "    min_temp_list.append(f['properties']['min_tmpf'] if f['properties']['min_tmpf'] is not None else 0)\n",
    "    precip_list.append(f['properties']['precip'] if f['properties']['precip'] is not None else 0)\n",
    "    snow_list.append(f['properties']['snow'] if f['properties']['snow'] is not None else 0)\n",
    "    snow_dep_list.append(f['properties']['snowd'] if f['properties']['snowd'] is not None else 0)\n",
    "    sta_name_list.append(f['properties']['name'])\n",
    "    lon_list.append(f['geometry']['coordinates'][0])\n",
    "    lat_list.append(f['geometry']['coordinates'][1])\n",
    "    try:\n",
    "        error_list.append(f['properties']['error'])\n",
    "    except KeyError:\n",
    "        error_list.append('No Error Found')  # Append a default value when 'error' key is missing\n",
    "\n",
    "# Create a dictionary for pandas to use to create a dataframe\n",
    "gdf_dict = {\n",
    "    \"station_id\":sta_id_list,\n",
    "    \"date\":date_list,\n",
    "    \"max_daily_temp_F\":max_temp_list,\n",
    "    \"min_daily_temp_F\":min_temp_list,\n",
    "    \"precip_in\":precip_list,\n",
    "    \"snow_in\":snow_list,\n",
    "    \"snow_depth_in\":snow_dep_list,\n",
    "    \"station_name\":sta_name_list,\n",
    "    \"longitude\":lon_list,\n",
    "    \"latitude\":lat_list,\n",
    "    \"error\":error_list\n",
    "}\n",
    "\n",
    "# Set a variable equal to the date without the dash marks for saving\n",
    "today_no_dash = today.replace('-','')\n",
    "\n",
    "# Establish a variable for where the temperature logs will be saved\n",
    "temp_log_path = r'F:\\1. UMN MGIS\\1. Semesters\\4th Semester\\1. ArcGIS II\\2. Labs\\Lab 03\\Data\\MN_temp_log_' + today_no_dash + '.csv'\n",
    "\n",
    "# Create a .csv file using the pandas dataframe and add the .csv to the map\n",
    "station_df = pd.DataFrame(gdf_dict)\n",
    "station_df.to_csv(temp_log_path)\n",
    "m.addDataFromPath(temp_log_path)\n",
    "\n",
    "# Establish a variable for the .csv file and use the latitude and longitude values to create a point feature class\n",
    "csv_file = 'MN_temp_log_' + today_no_dash + '.csv'\n",
    "weather_fc = 'MN_temp_log_' + today_no_dash\n",
    "\n",
    "arcpy.management.ConvertCoordinateNotation(\n",
    "    in_table = csv_file,\n",
    "    out_featureclass = os.path.join(local_gdb, weather_fc),\n",
    "    x_field = 'longitude',\n",
    "    y_field = 'latitude',\n",
    "    input_coordinate_format = 'DD_2',\n",
    "    output_coordinate_format = 'UTM_ZONES',\n",
    "    spatial_reference = spatial_ref\n",
    ")"
   ]
  },
  {
   "cell_type": "markdown",
   "metadata": {
    "hidden": true
   },
   "source": [
    "#### Export from local FGDB to PostgreSQL"
   ]
  },
  {
   "cell_type": "code",
   "execution_count": 27,
   "metadata": {
    "hidden": true
   },
   "outputs": [
    {
     "name": "stdout",
     "output_type": "stream",
     "text": [
      "Feature class 'mnweather' uploaded successfully to SDE.\n"
     ]
    }
   ],
   "source": [
    "# Function to upload feature class to SDE\n",
    "def upload_feature_class_to_sde(input_feature_class, output_sde_connection, output_sde_feature_class):\n",
    "    try:\n",
    "        arcpy.FeatureClassToFeatureClass_conversion(input_feature_class, output_sde_connection, output_sde_feature_class)\n",
    "        print(f\"Feature class '{output_sde_feature_class}' uploaded successfully to SDE.\")\n",
    "    except Exception as e:\n",
    "        print(f\"Error uploading feature class to SDE: {str(e)}\")\n",
    "\n",
    "# Paths and parameters\n",
    "input_feature_class = r'F:\\1. UMN MGIS\\1. Semesters\\4th Semester\\1. ArcGIS II\\2. Labs\\Lab 03\\ArcII_Lab3\\ArcII_Lab3.gdb\\MN_temp_log_20240328'\n",
    "output_sde_connection = r'F:\\1. UMN MGIS\\1. Semesters\\4th Semester\\1. ArcGIS II\\2. Labs\\Lab 03\\ArcII_Lab3\\PostgreSQL-35-gis5572(postgres).sde'\n",
    "output_sde_feature_class = 'mnweather'\n",
    "\n",
    "# Upload feature class to SDE\n",
    "upload_feature_class_to_sde(input_feature_class, output_sde_connection, output_sde_feature_class)"
   ]
  },
  {
   "cell_type": "markdown",
   "metadata": {
    "hidden": true
   },
   "source": []
  },
  {
   "cell_type": "code",
   "execution_count": null,
   "metadata": {
    "hidden": true
   },
   "outputs": [],
   "source": [
    "sde = {\n",
    "    \"server\": \"35.226.160.201\",\n",
    "    \"database\": \"gis5572\",\n",
    "    \"user\": \"postgres\",\n",
    "    \"password\": \"Hyderabad43%\",\n",
    "    \"port\": \"5432\"\n",
    "}"
   ]
  },
  {
   "cell_type": "markdown",
   "metadata": {},
   "source": [
    "### Pulling Data from SDE to FGDB Data "
   ]
  },
  {
   "cell_type": "code",
   "execution_count": 48,
   "metadata": {},
   "outputs": [
    {
     "data": {
      "text/html": [
       "<div class='gpresult'><h2>Messages</h2><div id='messages' data-messages='[\"Start Time: Saturday, 30 March 2024 3:51:39 pm\",\"Succeeded at Saturday, 30 March 2024 3:51:42 pm (Elapsed Time: 2.59 seconds)\"]' data-show='true'><div id = 'default' /></div></div>"
      ],
      "text/plain": [
       "<Result 'F:\\\\1. UMN MGIS\\\\1. Semesters\\\\4th Semester\\\\1. ArcGIS II\\\\2. Labs\\\\Lab 03\\\\ArcII_Lab3\\\\ArcII_Lab3.gdb\\\\mn_clean_weather'>"
      ]
     },
     "execution_count": 48,
     "metadata": {},
     "output_type": "execute_result"
    }
   ],
   "source": [
    "# Define the SDE feature class path\n",
    "sde_feature_class = \"gis5572.postgres.mn_clean_weather\"\n",
    "\n",
    "# Define the local feature class path\n",
    "local_feature_class = os.path.join(local_gdb, \"mn_clean_weather\")\n",
    "\n",
    "# Process: Copy Features\n",
    "arcpy.CopyFeatures_management(r\"F:\\1. UMN MGIS\\1. Semesters\\4th Semester\\1. ArcGIS II\\2. Labs\\Lab 03\\ArcII_Lab3\\PostgreSQL-35-gis5572(postgres).sde\\gis5572.postgres.mn_clean_weather\", local_feature_class)"
   ]
  },
  {
   "cell_type": "markdown",
   "metadata": {},
   "source": [
    "### Create Random Sample from QAQC'd Data\n",
    "\n",
    "Sampling 50% of the data randomly is beneficial because it reduces computational burden, maintains key dataset characteristics, and saves costs od saving and processing data. It ensures representative insights while mitigating bias, making analysis more efficient and reliable. "
   ]
  },
  {
   "cell_type": "code",
   "execution_count": 18,
   "metadata": {},
   "outputs": [],
   "source": [
    "mn_clean_weather = r\"F:\\1. UMN MGIS\\1. Semesters\\4th Semester\\1. ArcGIS II\\2. Labs\\Lab 03\\ArcII_Lab3\\ArcII_Lab3.gdb\\mn_weather\"\n",
    "\n",
    "def create_sample(input_feature_class, x_field, y_field, z_field, percent, gdb_path, out_feature_class):\n",
    "    \n",
    "    print('Creating feature class \"' + out_feature_class + '\"...')\n",
    "\n",
    "    all_rows = []\n",
    "    with arcpy.da.SearchCursor(in_table = input_feature_class, field_names = [z_field, x_field, y_field]) as cursor:\n",
    "        for row in cursor:\n",
    "            Z = row[0]\n",
    "            X = row[1]\n",
    "            Y = row[2]\n",
    "            all_rows.append([Z, X, Y])\n",
    "\n",
    "    total_rows = len(all_rows)\n",
    "    sample_num = int(total_rows * percent)\n",
    "    removed_num = total_rows - sample_num\n",
    "\n",
    "    random.shuffle(all_rows)\n",
    "    \n",
    "    Z_list = []\n",
    "    X_list = []\n",
    "    Y_list = []\n",
    "\n",
    "    for row in all_rows:\n",
    "        Z_list.append(row[0])\n",
    "        X_list.append(row[1])\n",
    "        Y_list.append(row[2])\n",
    "\n",
    "    df_list = [Z_list, X_list, Y_list]\n",
    "    for l in df_list:\n",
    "        del l[-removed_num:]\n",
    "\n",
    "    rand_dict = {\n",
    "        'Z':Z_list,\n",
    "        'X':X_list,\n",
    "        'Y':Y_list\n",
    "    }\n",
    "\n",
    "    random_sample_df = pd.DataFrame(rand_dict)\n",
    "    \n",
    "    # Convert table to sedf\n",
    "    sedf = arcgis.GeoAccessor.from_xy(\n",
    "        df = random_sample_df, \n",
    "        x_column = \"X\",\n",
    "        y_column = \"Y\"\n",
    "    )\n",
    "\n",
    "    # Convert sedf to feature class\n",
    "    sedf.spatial.to_featureclass(location=os.path.join(gdb_path, out_feature_class))\n",
    "    \n",
    "    map_epsg = spatial_ref.factoryCode\n",
    "    fc_epsg = arcpy.Describe(out_feature_class).spatialReference.factoryCode\n",
    "    \n",
    "    if map_epsg != fc_epsg:\n",
    "        print(\"Projecting...\")\n",
    "        \n",
    "        arcpy.management.DefineProjection(\n",
    "            in_dataset = out_feature_class,\n",
    "            coor_system = spatial_ref\n",
    "        )\n",
    "        \n",
    "    arcpy.management.AddField(\n",
    "        in_table = out_feature_class,\n",
    "        field_name = z_field,\n",
    "        field_type = 'FLOAT'\n",
    "    )\n",
    "    \n",
    "    arcpy.management.CalculateField(\n",
    "        in_table = out_feature_class,\n",
    "        field = z_field,\n",
    "        expression = '!z!'\n",
    "    )\n",
    "    \n",
    "    arcpy.management.DeleteField(\n",
    "        in_table = out_feature_class,\n",
    "        drop_field = 'z'\n",
    "    )\n",
    "        \n",
    "    print('Done')"
   ]
  },
  {
   "cell_type": "code",
   "execution_count": 19,
   "metadata": {},
   "outputs": [],
   "source": [
    "# Define the well-known ID (WKID) of the spatial reference (e.g., EPSG code)\n",
    "# spatial_ref_wkid = 4326  "
   ]
  },
  {
   "cell_type": "code",
   "execution_count": 20,
   "metadata": {},
   "outputs": [
    {
     "name": "stdout",
     "output_type": "stream",
     "text": [
      "Creating feature class \"Random_Sample_50_temp\"...\n",
      "Projecting...\n",
      "Done\n"
     ]
    }
   ],
   "source": [
    "# Create a feature class with 50% of random points sampled\n",
    "create_sample(\n",
    "    input_feature_class=mn_clean_weather,\n",
    "    x_field='x',\n",
    "    y_field='y',\n",
    "    z_field='max_tmpf',\n",
    "    percent=0.5,\n",
    "    gdb_path=local_gdb,\n",
    "    out_feature_class='Random_Sample_50_temp',\n",
    ")"
   ]
  },
  {
   "cell_type": "code",
   "execution_count": null,
   "metadata": {},
   "outputs": [],
   "source": []
  },
  {
   "cell_type": "markdown",
   "metadata": {
    "heading_collapsed": true
   },
   "source": [
    "### Quality Assesment of Each Model"
   ]
  },
  {
   "cell_type": "code",
   "execution_count": 29,
   "metadata": {
    "hidden": true
   },
   "outputs": [
    {
     "data": {
      "text/html": [
       "<div class='gpresult'><h2>Messages</h2><div id='messages' data-messages='[\"Start Time: Sunday, 31 March 2024 5:51:56 pm\",\"Calculating Ordinary Kriging – Default\",\"Calculating Ordinary Kriging – Optimized\",\"Calculating Universal Kriging – Default\",\"Calculating Universal Kriging – Optimized\",\"Calculating Empirical Bayesian Kriging - Default\",\"\\r\\nWarning(s) for dataset: Length of the radius of the search circle = 81052 meters.\",\"Calculating Empirical Bayesian Kriging - Advanced\",\"\\r\\nWarning(s) for dataset: Length of the radius of the search circle = 81052 meters.\",\" \\n\",\"--------------------------------------------\",\"RANK | NAME\",\"--------------------------------------------\",\"\\n\",\"1    | Empirical Bayesian Kriging - Advanced\",\"\\n\",\"2    | Ordinary Kriging – Optimized\",\"\\n\",\"3    | Empirical Bayesian Kriging - Default\",\"\\n\",\"4    | Ordinary Kriging – Default\",\"\\n\",\"5    | Universal Kriging – Optimized\",\"\\n\",\"6    | Universal Kriging – Default\",\"--------------------------------------------\",\"Succeeded at Sunday, 31 March 2024 5:52:00 pm (Elapsed Time: 3.95 seconds)\"]' data-show='true'><div id = 'default' /></div></div>"
      ],
      "text/plain": [
       "<Result 'F:\\\\1. UMN MGIS\\\\1. Semesters\\\\4th Semester\\\\1. ArcGIS II\\\\2. Labs\\\\Lab 03\\\\ArcII_Lab3\\\\ArcII_Lab3.gdb\\\\stats_table_weather'>"
      ]
     },
     "execution_count": 29,
     "metadata": {},
     "output_type": "execute_result"
    }
   ],
   "source": [
    "# Specify the full path to the dataset\n",
    "dataset_path = r'F:\\1. UMN MGIS\\1. Semesters\\4th Semester\\1. ArcGIS II\\2. Labs\\Lab 03\\ArcII_Lab3\\ArcII_Lab3.gdb\\Random_Sample_50_temp'\n",
    "\n",
    "# Perform exploratory interpolation\n",
    "arcpy.ga.ExploratoryInterpolation(\n",
    "    in_features=dataset_path,\n",
    "    value_field='max_tmpf',\n",
    "    out_cv_table=os.path.join(local_gdb, 'stats_table_weather'),\n",
    "    out_geostat_layer=None,\n",
    "    interp_methods=['ORDINARY_KRIGING', 'UNIVERSAL_KRIGING', 'EBK'], #Empirical Bayesian Kriging\n",
    "    comparison_method='SINGLE',\n",
    "    criterion='ACCURACY',\n",
    "    criteria_hierarchy='ACCURACY PERCENT #',\n",
    "    weighted_criteria='ACCURACY 1',\n",
    "    exclusion_criteria=None\n",
    ")"
   ]
  },
  {
   "cell_type": "code",
   "execution_count": null,
   "metadata": {
    "hidden": true
   },
   "outputs": [],
   "source": []
  },
  {
   "cell_type": "markdown",
   "metadata": {},
   "source": [
    "### Interpolating the Weather Data using 3 Techniques"
   ]
  },
  {
   "cell_type": "code",
   "execution_count": 39,
   "metadata": {},
   "outputs": [],
   "source": [
    "# KRINGING - ORDINARY\n",
    "with arcpy.EnvManager(scratchWorkspace=r\"F:\\1. UMN MGIS\\1. Semesters\\4th Semester\\1. ArcGIS II\\2. Labs\\Lab 03\\ArcII_Lab3\\ArcII_Lab3.gdb\"):\n",
    "    mnweather_KrigOrd = arcpy.sa.Kriging(\n",
    "        in_point_features=r\"Weather Data\\RanSample_50_tem\",\n",
    "        z_field=\"max_tmpf\",\n",
    "        kriging_model=\"Spherical # # # #\",\n",
    "        cell_size=3000, # that's 3000 meters or 3 kms as I am using NAD1983 Zone 15N\n",
    "        search_radius=\"VARIABLE 12\",\n",
    "        out_variance_prediction_raster=None\n",
    "    )\n",
    "    mnweather_KrigOrd.save(r\"F:\\1. UMN MGIS\\1. Semesters\\4th Semester\\1. ArcGIS II\\2. Labs\\Lab 03\\ArcII_Lab3\\ArcII_Lab3.gdb\\mnweather_KrigOrd\")"
   ]
  },
  {
   "cell_type": "code",
   "execution_count": 42,
   "metadata": {},
   "outputs": [],
   "source": [
    "# KRINGING - UNIVERSAL\n",
    "\n",
    "with arcpy.EnvManager(scratchWorkspace=r\"F:\\1. UMN MGIS\\1. Semesters\\4th Semester\\1. ArcGIS II\\2. Labs\\Lab 03\\ArcII_Lab3\\ArcII_Lab3.gdb\"):\n",
    "    mnweather_KrigUni = arcpy.sa.Kriging(\n",
    "        in_point_features=r\"Weather Data\\RanSample_50_tem\",\n",
    "        z_field=\"max_tmpf\",\n",
    "        kriging_model=\"LinearDrift 2219.396320 # # #\",\n",
    "        cell_size=3000, # that's 3000 meters or 3 kms\n",
    "        search_radius=\"VARIABLE 12\",\n",
    "        out_variance_prediction_raster=None\n",
    "    )\n",
    "    mnweather_KrigUni.save(r\"F:\\1. UMN MGIS\\1. Semesters\\4th Semester\\1. ArcGIS II\\2. Labs\\Lab 03\\ArcII_Lab3\\ArcII_Lab3.gdb\\mnweather_KrigUni\")"
   ]
  },
  {
   "cell_type": "code",
   "execution_count": 41,
   "metadata": {},
   "outputs": [
    {
     "data": {
      "text/html": [
       "<div class='gpresult'><h2>Messages</h2><div id='messages' data-messages='[\"Start Time: Sunday, 31 March 2024 6:15:46 pm\",\"Succeeded at Sunday, 31 March 2024 6:15:56 pm (Elapsed Time: 10.15 seconds)\"]' data-show='true'><div id = 'default' /></div></div>"
      ],
      "text/plain": [
       "<Result ''>"
      ]
     },
     "execution_count": 41,
     "metadata": {},
     "output_type": "execute_result"
    }
   ],
   "source": [
    "# EMPIRICAL BAYESIAN KRIGING\n",
    "\n",
    "arcpy.ga.EmpiricalBayesianKriging(\n",
    "    in_features=r\"Weather Data\\RanSample_50_tem\",\n",
    "    z_field=\"max_tmpf\",\n",
    "    out_ga_layer=None,\n",
    "    out_raster=r\"F:\\1. UMN MGIS\\1. Semesters\\4th Semester\\1. ArcGIS II\\2. Labs\\Lab 03\\ArcII_Lab3\\ArcII_Lab3.gdb\\mnweather_EBK\",\n",
    "    cell_size=3000, # that's 3000 meters or 3 kms\n",
    "    transformation_type=\"NONE\",\n",
    "    max_local_points=100,\n",
    "    overlap_factor=1,\n",
    "    number_semivariograms=100,\n",
    "    search_neighborhood=\"NBRTYPE=StandardCircular RADIUS=207149.441825675 ANGLE=0 NBR_MAX=15 NBR_MIN=10 SECTOR_TYPE=ONE_SECTOR\",\n",
    "    output_type=\"PREDICTION\",\n",
    "    quantile_value=0.5,\n",
    "    threshold_type=\"EXCEED\",\n",
    "    probability_threshold=None,\n",
    "    semivariogram_model_type=\"POWER\"\n",
    ")"
   ]
  },
  {
   "cell_type": "markdown",
   "metadata": {},
   "source": [
    "### Converting Interpolated Raster into Points And Exporting to SDE"
   ]
  },
  {
   "cell_type": "code",
   "execution_count": 15,
   "metadata": {},
   "outputs": [],
   "source": [
    "# Step 1: Downsample Raster\n",
    "def downsample_raster(input_raster, output_raster, cell_size):\n",
    "    arcpy.Resample_management(input_raster, output_raster, cell_size)\n",
    "\n",
    "# Step 2: Convert Raster to Points\n",
    "def raster_to_points(input_raster, output_points):\n",
    "    arcpy.RasterToPoint_conversion(input_raster, output_points, \"VALUE\")\n",
    "\n",
    "# Step 3: Upload Points to SDE\n",
    "def upload_points_to_sde(input_points, output_sde_connection, output_sde_feature_class):\n",
    "    arcpy.FeatureClassToFeatureClass_conversion(input_points, output_sde_connection, output_sde_feature_class)"
   ]
  },
  {
   "cell_type": "code",
   "execution_count": 16,
   "metadata": {},
   "outputs": [],
   "source": [
    "# Paths and parameters for each raster\n",
    "raster_paths = [\n",
    "    r'F:\\1. UMN MGIS\\1. Semesters\\4th Semester\\1. ArcGIS II\\2. Labs\\Lab 03\\ArcII_Lab3\\ArcII_Lab3.gdb\\mnweather_EBK',\n",
    "    r'F:\\1. UMN MGIS\\1. Semesters\\4th Semester\\1. ArcGIS II\\2. Labs\\Lab 03\\ArcII_Lab3\\ArcII_Lab3.gdb\\mnweather_KrigOrd',\n",
    "    r'F:\\1. UMN MGIS\\1. Semesters\\4th Semester\\1. ArcGIS II\\2. Labs\\Lab 03\\ArcII_Lab3\\ArcII_Lab3.gdb\\mnweather_KrigUni'\n",
    "]\n",
    "output_downsampled_rasters = [\n",
    "    r'F:\\1. UMN MGIS\\1. Semesters\\4th Semester\\1. ArcGIS II\\2. Labs\\Lab 03\\ArcII_Lab3\\downsampled_EBK.tif',\n",
    "    r'F:\\1. UMN MGIS\\1. Semesters\\4th Semester\\1. ArcGIS II\\2. Labs\\Lab 03\\ArcII_Lab3\\downsampled_KrigOrd.tif',\n",
    "    r'F:\\1. UMN MGIS\\1. Semesters\\4th Semester\\1. ArcGIS II\\2. Labs\\Lab 03\\ArcII_Lab3\\downsampled_KrigUni.tif'\n",
    "]\n",
    "output_points = [\n",
    "    r'F:\\1. UMN MGIS\\1. Semesters\\4th Semester\\1. ArcGIS II\\2. Labs\\Lab 03\\ArcII_Lab3\\EBK_temp_points.shp',\n",
    "    r'F:\\1. UMN MGIS\\1. Semesters\\4th Semester\\1. ArcGIS II\\2. Labs\\Lab 03\\ArcII_Lab3\\KrigOrd_temp_points.shp',\n",
    "    r'F:\\1. UMN MGIS\\1. Semesters\\4th Semester\\1. ArcGIS II\\2. Labs\\Lab 03\\ArcII_Lab3\\KrigUni_temp_points.shp'\n",
    "]\n",
    "output_sde_connection = r'F:\\1. UMN MGIS\\1. Semesters\\4th Semester\\1. ArcGIS II\\2. Labs\\ArcPro\\Lab2\\ArcII_Lab2\\PostgreSQL-35-gis5572(postgres).sde'\n",
    "\n",
    "output_sde_feature_classes = [\n",
    "    'EBK_temp_points',\n",
    "    'KrigOrd_temp_points',\n",
    "    'KrigUni_temp_points'\n",
    "]"
   ]
  },
  {
   "cell_type": "code",
   "execution_count": 17,
   "metadata": {},
   "outputs": [
    {
     "name": "stdout",
     "output_type": "stream",
     "text": [
      "The entire 3 step process is completed.\n"
     ]
    }
   ],
   "source": [
    "# Loop through each raster\n",
    "for i in range(len(raster_paths)):\n",
    "    # Step 1: Downsample Raster\n",
    "    downsample_raster(raster_paths[i], output_downsampled_rasters[i], \"15000\")\n",
    "\n",
    "    # Step 2: Convert Raster to Points\n",
    "    raster_to_points(output_downsampled_rasters[i], output_points[i])\n",
    "\n",
    "    # Step 3: Upload Points to SDE\n",
    "    upload_points_to_sde(output_points[i], output_sde_connection, output_sde_feature_classes[i])\n",
    "\n",
    "print(\"The entire 3 step process is completed.\")"
   ]
  },
  {
   "cell_type": "code",
   "execution_count": 18,
   "metadata": {},
   "outputs": [
    {
     "name": "stdout",
     "output_type": "stream",
     "text": [
      "Shapefiles exported to the file geodatabase.\n"
     ]
    }
   ],
   "source": [
    "import arcpy\n",
    "\n",
    "# List of shapefiles to be exported\n",
    "shapefiles = [\n",
    "    r'F:\\1. UMN MGIS\\1. Semesters\\4th Semester\\1. ArcGIS II\\2. Labs\\Lab 03\\ArcII_Lab3\\EBK_temp_points.shp',\n",
    "    r'F:\\1. UMN MGIS\\1. Semesters\\4th Semester\\1. ArcGIS II\\2. Labs\\Lab 03\\ArcII_Lab3\\KrigOrd_temp_points.shp',\n",
    "    r'F:\\1. UMN MGIS\\1. Semesters\\4th Semester\\1. ArcGIS II\\2. Labs\\Lab 03\\ArcII_Lab3\\KrigUni_temp_points.shp'\n",
    "]\n",
    "\n",
    "# Output geodatabase\n",
    "output_gdb = r'F:\\1. UMN MGIS\\1. Semesters\\4th Semester\\1. ArcGIS II\\2. Labs\\Lab 03\\ArcII_Lab3\\ArcII_Lab3.gdb'\n",
    "\n",
    "# Export shapefiles to the file geodatabase\n",
    "for shapefile in shapefiles:\n",
    "    arcpy.conversion.FeatureClassToGeodatabase(shapefile, output_gdb)\n",
    "\n",
    "print(\"Shapefiles exported to the file geodatabase.\")"
   ]
  },
  {
   "cell_type": "markdown",
   "metadata": {},
   "source": [
    "### Differences Between “Ground Truth” And Model Prediction"
   ]
  },
  {
   "cell_type": "code",
   "execution_count": 19,
   "metadata": {},
   "outputs": [],
   "source": [
    "def differences_temp(true_points, interpolated_points):\n",
    "    try:\n",
    "        # Get the name of interpolation method as part of the output point layer\n",
    "        interpolation = os.path.basename(interpolated_points)\n",
    "        \n",
    "        # Spatial join\n",
    "        output_join = f\"diff_{interpolation}\"\n",
    "        arcpy.analysis.SpatialJoin(true_points, interpolated_points, output_join, \"JOIN_ONE_TO_ONE\", \"KEEP_ALL\", \"\", \"CLOSEST\")\n",
    "        \n",
    "        # Calculate difference\n",
    "        fields = [\"max_tmpf\", \"grid_code\", \"Diff\"]\n",
    "        arcpy.management.AddField(output_join, \"Diff\", \"DOUBLE\")\n",
    "        \n",
    "        with arcpy.da.UpdateCursor(output_join, fields) as cursor:\n",
    "            for row in cursor:\n",
    "                row[2] = row[0] - row[1]  # Calculate difference: \"max_tmpf\" - \"grid_code\"\n",
    "                cursor.updateRow(row)\n",
    "        \n",
    "        # Delete unnecessary fields\n",
    "        arcpy.management.DeleteField(output_join, \"Join_Count;TARGET_FID;pointid\", \"DELETE_FIELDS\")\n",
    "        print(f\"Difference {interpolation} points layer created.\")\n",
    "    except Exception as e:\n",
    "        print(f\"An error occurred: {str(e)}\")"
   ]
  },
  {
   "cell_type": "code",
   "execution_count": 20,
   "metadata": {},
   "outputs": [],
   "source": [
    "# Set paths to true points and interpolated points\n",
    "true_points = r'F:\\1. UMN MGIS\\1. Semesters\\4th Semester\\1. ArcGIS II\\2. Labs\\Lab 03\\ArcII_Lab3\\ArcII_Lab3.gdb\\RanSample_50_tem'\n",
    "interpolated_points = [\n",
    "    r'F:\\1. UMN MGIS\\1. Semesters\\4th Semester\\1. ArcGIS II\\2. Labs\\Lab 03\\ArcII_Lab3\\ArcII_Lab3.gdb\\EBK_temp_points',\n",
    "    r'F:\\1. UMN MGIS\\1. Semesters\\4th Semester\\1. ArcGIS II\\2. Labs\\Lab 03\\ArcII_Lab3\\ArcII_Lab3.gdb\\KrigOrd_temp_points',\n",
    "    r'F:\\1. UMN MGIS\\1. Semesters\\4th Semester\\1. ArcGIS II\\2. Labs\\Lab 03\\ArcII_Lab3\\ArcII_Lab3.gdb\\KrigUni_temp_points'\n",
    "]"
   ]
  },
  {
   "cell_type": "code",
   "execution_count": 21,
   "metadata": {},
   "outputs": [
    {
     "name": "stdout",
     "output_type": "stream",
     "text": [
      "Difference EBK_temp_points points layer created.\n",
      "Difference KrigOrd_temp_points points layer created.\n",
      "Difference KrigUni_temp_points points layer created.\n"
     ]
    }
   ],
   "source": [
    "# Run differences_temp function for each interpolated point layer\n",
    "for points in interpolated_points:\n",
    "    differences_temp(true_points, points)"
   ]
  },
  {
   "cell_type": "code",
   "execution_count": 25,
   "metadata": {},
   "outputs": [
    {
     "name": "stdout",
     "output_type": "stream",
     "text": [
      "Shapefiles exported to the file geodatabase.\n"
     ]
    }
   ],
   "source": [
    "import arcpy\n",
    "\n",
    "# List of shapefiles to be exported\n",
    "shapefiles = [\n",
    "r'F:\\1. UMN MGIS\\1. Semesters\\4th Semester\\1. ArcGIS II\\2. Labs\\Lab 03\\ArcII_Lab3\\diff_KrigUni_temp_points.shp',\n",
    "    r'F:\\1. UMN MGIS\\1. Semesters\\4th Semester\\1. ArcGIS II\\2. Labs\\Lab 03\\ArcII_Lab3\\diff_KrigOrd_temp_points.shp',\n",
    "    r'F:\\1. UMN MGIS\\1. Semesters\\4th Semester\\1. ArcGIS II\\2. Labs\\Lab 03\\ArcII_Lab3\\diff_EBK_temp_points.shp'\n",
    "]\n",
    "\n",
    "# Output geodatabase\n",
    "output_gdb = r'F:\\1. UMN MGIS\\1. Semesters\\4th Semester\\1. ArcGIS II\\2. Labs\\Lab 03\\ArcII_Lab3\\ArcII_Lab3.gdb'\n",
    "\n",
    "# Export shapefiles to the file geodatabase\n",
    "for shapefile in shapefiles:\n",
    "    arcpy.conversion.FeatureClassToGeodatabase(shapefile, output_gdb)\n",
    "\n",
    "print(\"Shapefiles exported to the file geodatabase.\")"
   ]
  },
  {
   "cell_type": "markdown",
   "metadata": {},
   "source": [
    "### Exporting to SDE"
   ]
  },
  {
   "cell_type": "code",
   "execution_count": 27,
   "metadata": {},
   "outputs": [],
   "source": [
    "points_list = ['diff_KrigOrd_temp_points']\n",
    "\n",
    "for points in points_list:\n",
    "\n",
    "    arcpy.conversion.FeatureClassToGeodatabase(\n",
    "        Input_Features = points,\n",
    "        Output_Geodatabase = sde\n",
    "    )"
   ]
  }
 ],
 "metadata": {
  "kernelspec": {
   "display_name": "ArcGISPro",
   "language": "Python",
   "name": "python3"
  },
  "language_info": {
   "file_extension": ".py",
   "name": "python",
   "version": "3"
  }
 },
 "nbformat": 4,
 "nbformat_minor": 2
}
