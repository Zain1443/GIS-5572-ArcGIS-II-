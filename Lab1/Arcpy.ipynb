{
 "cells": [
  {
   "cell_type": "markdown",
   "metadata": {},
   "source": [
    "## GIS 5572: Lab 1\n",
    "#### By Zain Ul Abdin Siyal (12-Feb-2024)"
   ]
  },
  {
   "cell_type": "markdown",
   "metadata": {},
   "source": [
    "### Arcpy Part"
   ]
  },
  {
   "cell_type": "code",
   "execution_count": 1,
   "metadata": {},
   "outputs": [],
   "source": [
    "import arcpy"
   ]
  },
  {
   "cell_type": "markdown",
   "metadata": {},
   "source": [
    "### Creating feature classes:"
   ]
  },
  {
   "cell_type": "code",
   "execution_count": 18,
   "metadata": {},
   "outputs": [
    {
     "data": {
      "text/html": [
       "<div class='gpresult'><h2>Messages</h2><div id='messages' data-messages='[\"Start Time: Sunday, 11 February 2024 2:59:54 pm\",\"Succeeded at Sunday, 11 February 2024 2:59:54 pm (Elapsed Time: 0.48 seconds)\"]' data-show='true'><div id = 'default' /></div></div>"
      ],
      "text/plain": [
       "<Result 'F:\\\\1. UMN MGIS\\\\1. Semesters\\\\4th Semester\\\\1. ArcGIS II\\\\2. Labs\\\\ArcPro\\\\ArcGIS II\\\\ArcGIS II.gdb\\\\FeatureClassP'>"
      ]
     },
     "execution_count": 18,
     "metadata": {},
     "output_type": "execute_result"
    }
   ],
   "source": [
    "# Path to workspace (geodatabase)\n",
    "arcpy.env.workspace = r\"F:\\1. UMN MGIS\\1. Semesters\\4th Semester\\1. ArcGIS II\\2. Labs\\ArcPro\\ArcGIS II\\ArcGIS II.gdb\"\n",
    "\n",
    "# Define the name and geometry type of the feature classes\n",
    "Line = \"FeatureClassPt\"\n",
    "Polyline = \"FeatureClassL\"\n",
    "Polygon = \"FeatureClassP\"\n",
    "\n",
    "geometry_type_pt = \"POINT\"\n",
    "geometry_type_line = \"POLYLINE\"\n",
    "geometry_type_polygon = \"POLYGON\"\n",
    "\n",
    "# Create the feature classes\n",
    "arcpy.CreateFeatureclass_management(arcpy.env.workspace, Line, geometry_type_pt)\n",
    "arcpy.CreateFeatureclass_management(arcpy.env.workspace, Polyline, geometry_type_line)\n",
    "arcpy.CreateFeatureclass_management(arcpy.env.workspace, Polygon, geometry_type_polygon)"
   ]
  },
  {
   "cell_type": "markdown",
   "metadata": {},
   "source": [
    "### Adding points to the feature class"
   ]
  },
  {
   "cell_type": "code",
   "execution_count": 30,
   "metadata": {},
   "outputs": [],
   "source": [
    "# Path to workspace (geodatabase)\n",
    "workspace = r\"F:\\1. UMN MGIS\\1. Semesters\\4th Semester\\1. ArcGIS II\\2. Labs\\ArcPro\\ArcGIS II\\ArcGIS II.gdb\"\n",
    "fc_name = \"FeatureClassPt\"\n",
    "\n",
    "# Specify the coordinate system (WGS 1984)\n",
    "# becasue I am using point data represented in long and lat\n",
    "spatial_reference = arcpy.SpatialReference(4326)  # WKID for WGS 1984\n",
    "\n",
    "# Create the feature class with specified coordinate system\n",
    "arcpy.CreateFeatureclass_management(workspace, fc_name, \"POINT\", spatial_reference=spatial_reference)\n",
    "\n",
    "# Create an insert cursor to add points\n",
    "with arcpy.da.InsertCursor(f\"{workspace}\\\\{fc_name}\", [\"SHAPE@XY\"]) as cursor:\n",
    "    # Add points \n",
    "    cursor.insertRow([(-93.22456694058349, 44.97656707355932)]) #Huntington Bank\n",
    "    cursor.insertRow([(-93.25750208433475, 44.97369530667097)]) #US Bank"
   ]
  },
  {
   "cell_type": "markdown",
   "metadata": {},
   "source": [
    "### Adding Lines  to the feature class"
   ]
  },
  {
   "cell_type": "code",
   "execution_count": 31,
   "metadata": {},
   "outputs": [],
   "source": [
    "# Path to workspace (geodatabase)\n",
    "workspace = r\"F:\\1. UMN MGIS\\1. Semesters\\4th Semester\\1. ArcGIS II\\2. Labs\\ArcPro\\ArcGIS II\\ArcGIS II.gdb\"\n",
    "fc_name = \"FeatureClassL\"\n",
    "\n",
    "# Specify the coordinate system (WGS 1984)\n",
    "spatial_reference = arcpy.SpatialReference(4326)  # WKID for WGS 1984\n",
    "\n",
    "# Create the feature class with specified coordinate system\n",
    "arcpy.CreateFeatureclass_management(workspace, fc_name, \"POLYLINE\", spatial_reference=spatial_reference)\n",
    "\n",
    "# Create an insert cursor to add lines\n",
    "with arcpy.da.InsertCursor(f\"{workspace}\\\\{fc_name}\", [\"SHAPE@\"]) as cursor:\n",
    "    # Create a Polyline object and add it to the feature class\n",
    "    array = arcpy.Array([arcpy.Point(-93.22456694058349, 44.97656707355932), #Hungtington Stadium\n",
    "                         arcpy.Point(-93.25750208433475, 44.97369530667097)]) #US Bank\n",
    "    polyline = arcpy.Polyline(array)\n",
    "    cursor.insertRow([polyline])"
   ]
  },
  {
   "cell_type": "markdown",
   "metadata": {},
   "source": [
    "### Adding Polygon to the feature class"
   ]
  },
  {
   "cell_type": "code",
   "execution_count": 25,
   "metadata": {},
   "outputs": [],
   "source": [
    "# Path to workspace (geodatabase)\n",
    "workspace = r\"F:\\1. UMN MGIS\\1. Semesters\\4th Semester\\1. ArcGIS II\\2. Labs\\ArcPro\\ArcGIS II\\ArcGIS II.gdb\"\n",
    "fc_name = \"FeatureClassP\"\n",
    "\n",
    "# Specify the coordinate system (WGS 1984)\n",
    "spatial_reference = arcpy.SpatialReference(4326)  # WKID for WGS 1984\n",
    "\n",
    "# Create the feature class with specified coordinate system\n",
    "arcpy.CreateFeatureclass_management(workspace, fc_name, \"POLYGON\", spatial_reference=spatial_reference)\n",
    "\n",
    "# Create an insert cursor to add lines\n",
    "with arcpy.da.InsertCursor(f\"{workspace}\\\\{fc_name}\", [\"SHAPE@\"]) as cursor:\n",
    "    # Create a Polygon object and add it to the feature class\n",
    "    array = arcpy.Array([arcpy.Point(-93.22456694058349, 44.97656707355932), #Hungtington Stadium\n",
    "                         arcpy.Point(-93.25750208433475, 44.97369530667097), #US Bank\n",
    "                         arcpy.Point(-93.21775917100368, 44.884844671870496), #MSP Airport\n",
    "                         arcpy.Point(-93.09021376922068, 44.95341865709891)]) #Downton St Paul\n",
    "    \n",
    "    polygon = arcpy.Polygon(array)\n",
    "    cursor.insertRow([polygon])"
   ]
  },
  {
   "cell_type": "markdown",
   "metadata": {},
   "source": [
    "### Summarize the contents of a feature class"
   ]
  },
  {
   "cell_type": "code",
   "execution_count": 26,
   "metadata": {},
   "outputs": [
    {
     "name": "stdout",
     "output_type": "stream",
     "text": [
      "\n",
      "Summarizing FeatureClassPt:\n",
      "Field Name\t\tData Type\n",
      "----------------------------\n",
      "OBJECTID\t\tOID\n",
      "Shape\t\tGeometry\n",
      "\n",
      "Number of features: 2\n",
      "\n",
      "Summarizing FeatureClassL:\n",
      "Field Name\t\tData Type\n",
      "----------------------------\n",
      "OBJECTID\t\tOID\n",
      "Shape\t\tGeometry\n",
      "Shape_Length\t\tDouble\n",
      "\n",
      "Number of features: 1\n",
      "\n",
      "Summarizing FeatureClassP:\n",
      "Field Name\t\tData Type\n",
      "----------------------------\n",
      "OBJECTID\t\tOID\n",
      "Shape\t\tGeometry\n",
      "Shape_Length\t\tDouble\n",
      "Shape_Area\t\tDouble\n",
      "\n",
      "Number of features: 1\n"
     ]
    }
   ],
   "source": [
    "# Function to summarize the contents of a feature class\n",
    "def summarize_feature_class(feature_class):\n",
    "    # Get the field names and data types\n",
    "    fields = arcpy.ListFields(feature_class)\n",
    "    \n",
    "    # Print field information\n",
    "    print(\"Field Name\\t\\tData Type\")\n",
    "    print(\"----------------------------\")\n",
    "    for field in fields:\n",
    "        print(f\"{field.name}\\t\\t{field.type}\")\n",
    "\n",
    "    # Get the number of features\n",
    "    count = arcpy.GetCount_management(feature_class)\n",
    "    print(f\"\\nNumber of features: {count}\")\n",
    "\n",
    "# Paths to feature classes\n",
    "feature_class_pt = r\"F:\\1. UMN MGIS\\1. Semesters\\4th Semester\\1. ArcGIS II\\2. Labs\\ArcPro\\ArcGIS II\\ArcGIS II.gdb\\FeatureClassPt\"\n",
    "feature_class_line = r\"F:\\1. UMN MGIS\\1. Semesters\\4th Semester\\1. ArcGIS II\\2. Labs\\ArcPro\\ArcGIS II\\ArcGIS II.gdb\\FeatureClassL\"\n",
    "feature_class_polygon = r\"F:\\1. UMN MGIS\\1. Semesters\\4th Semester\\1. ArcGIS II\\2. Labs\\ArcPro\\ArcGIS II\\ArcGIS II.gdb\\FeatureClassP\"\n",
    "\n",
    "# Summarize the contents of each feature class\n",
    "print(\"\\nSummarizing FeatureClassPt:\")\n",
    "summarize_feature_class(feature_class_pt)\n",
    "\n",
    "print(\"\\nSummarizing FeatureClassL:\")\n",
    "summarize_feature_class(feature_class_line)\n",
    "\n",
    "print(\"\\nSummarizing FeatureClassP:\")\n",
    "summarize_feature_class(feature_class_polygon)"
   ]
  },
  {
   "cell_type": "markdown",
   "metadata": {},
   "source": [
    "### Export to Shapefile"
   ]
  },
  {
   "cell_type": "code",
   "execution_count": 28,
   "metadata": {},
   "outputs": [
    {
     "name": "stdout",
     "output_type": "stream",
     "text": [
      "Export complete: F:\\1. UMN MGIS\\1. Semesters\\4th Semester\\1. ArcGIS II\\2. Labs\\ArcPro\\ArcGIS II\\ArcGIS II.gdb\\FeatureClassPt to F:\\1. UMN MGIS\\1. Semesters\\4th Semester\\1. ArcGIS II\\2. Labs\\ArcPro\\ArcGIS II\\FeatureClassPt.shp\n",
      "Export complete: F:\\1. UMN MGIS\\1. Semesters\\4th Semester\\1. ArcGIS II\\2. Labs\\ArcPro\\ArcGIS II\\ArcGIS II.gdb\\FeatureClassL to F:\\1. UMN MGIS\\1. Semesters\\4th Semester\\1. ArcGIS II\\2. Labs\\ArcPro\\ArcGIS II\\FeatureClassL.shp\n",
      "Export complete: F:\\1. UMN MGIS\\1. Semesters\\4th Semester\\1. ArcGIS II\\2. Labs\\ArcPro\\ArcGIS II\\ArcGIS II.gdb\\FeatureClassP to F:\\1. UMN MGIS\\1. Semesters\\4th Semester\\1. ArcGIS II\\2. Labs\\ArcPro\\ArcGIS II\\FeatureClassP.shp\n"
     ]
    }
   ],
   "source": [
    "# Function to export a feature class to a shapefile\n",
    "def export_to_shapefile(input_feature_class, output_shapefile):\n",
    "    arcpy.CopyFeatures_management(input_feature_class, output_shapefile)\n",
    "    print(f\"Export complete: {input_feature_class} to {output_shapefile}\")\n",
    "\n",
    "# Export each feature class to a shapefile\n",
    "export_to_shapefile(feature_class_pt, r\"F:\\1. UMN MGIS\\1. Semesters\\4th Semester\\1. ArcGIS II\\2. Labs\\ArcPro\\ArcGIS II\\FeatureClassPt.shp\")\n",
    "export_to_shapefile(feature_class_line, r\"F:\\1. UMN MGIS\\1. Semesters\\4th Semester\\1. ArcGIS II\\2. Labs\\ArcPro\\ArcGIS II\\FeatureClassL.shp\")\n",
    "export_to_shapefile(feature_class_polygon, r\"F:\\1. UMN MGIS\\1. Semesters\\4th Semester\\1. ArcGIS II\\2. Labs\\ArcPro\\ArcGIS II\\FeatureClassP.shp\")"
   ]
  },
  {
   "cell_type": "markdown",
   "metadata": {},
   "source": [
    "### Export to Geodatabase"
   ]
  },
  {
   "cell_type": "code",
   "execution_count": 29,
   "metadata": {},
   "outputs": [
    {
     "data": {
      "text/html": [
       "<div class='gpresult'><h2>Messages</h2><div id='messages' data-messages='[\"Start Time: Wednesday, 14 February 2024 1:52:35 pm\",\"Succeeded at Wednesday, 14 February 2024 1:52:36 pm (Elapsed Time: 0.59 seconds)\"]' data-show='true'><div id = 'default' /></div></div>"
      ],
      "text/plain": [
       "<Result 'F:\\\\1. UMN MGIS\\\\1. Semesters\\\\4th Semester\\\\1. ArcGIS II\\\\2. Labs\\\\ArcPro\\\\ArcGIS II\\\\ExportedData.gdb\\\\ExportedFeatureClassP'>"
      ]
     },
     "execution_count": 29,
     "metadata": {},
     "output_type": "execute_result"
    }
   ],
   "source": [
    "# Specify the path to the ArcGIS II folder\n",
    "arcgis_ii_folder = r\"F:\\1. UMN MGIS\\1. Semesters\\4th Semester\\1. ArcGIS II\\2. Labs\\ArcPro\\ArcGIS II\"\n",
    "\n",
    "# Specify the name of the new geodatabase\n",
    "output_geodatabase_name = \"ExportedData.gdb\"\n",
    "\n",
    "# Combine the folder path and geodatabase name\n",
    "output_geodatabase_path = arcpy.os.path.join(arcgis_ii_folder, output_geodatabase_name)\n",
    "\n",
    "# Create the new geodatabase\n",
    "arcpy.management.CreateFileGDB(arcgis_ii_folder, output_geodatabase_name)\n",
    "\n",
    "# Path to the input feature classes you want to export\n",
    "input_feature_class_pt = r\"F:\\1. UMN MGIS\\1. Semesters\\4th Semester\\1. ArcGIS II\\2. Labs\\ArcPro\\ArcGIS II\\ArcGIS II.gdb\\FeatureClassPt\"\n",
    "input_feature_class_l = r\"F:\\1. UMN MGIS\\1. Semesters\\4th Semester\\1. ArcGIS II\\2. Labs\\ArcPro\\ArcGIS II\\ArcGIS II.gdb\\FeatureClassL\"\n",
    "input_feature_class_p = r\"F:\\1. UMN MGIS\\1. Semesters\\4th Semester\\1. ArcGIS II\\2. Labs\\ArcPro\\ArcGIS II\\ArcGIS II.gdb\\FeatureClassP\"\n",
    "\n",
    "# Use FeatureClassToFeatureClass_conversion to export each feature class to the geodatabase\n",
    "arcpy.FeatureClassToFeatureClass_conversion(input_feature_class_pt, output_geodatabase_path, \"ExportedFeatureClassPt\")\n",
    "arcpy.FeatureClassToFeatureClass_conversion(input_feature_class_l, output_geodatabase_path, \"ExportedFeatureClassL\")\n",
    "arcpy.FeatureClassToFeatureClass_conversion(input_feature_class_p, output_geodatabase_path, \"ExportedFeatureClassP\")"
   ]
  },
  {
   "cell_type": "code",
   "execution_count": null,
   "metadata": {},
   "outputs": [],
   "source": []
  },
  {
   "cell_type": "code",
   "execution_count": null,
   "metadata": {},
   "outputs": [],
   "source": []
  }
 ],
 "metadata": {
  "kernelspec": {
   "display_name": "ArcGISPro",
   "language": "Python",
   "name": "python3"
  },
  "language_info": {
   "file_extension": ".py",
   "name": "python",
   "version": "3"
  }
 },
 "nbformat": 4,
 "nbformat_minor": 2
}
