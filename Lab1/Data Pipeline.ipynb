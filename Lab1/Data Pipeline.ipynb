{
 "cells": [
  {
   "cell_type": "markdown",
   "metadata": {},
   "source": [
    "## GIS 5572: Lab 1\n",
    "#### By Zain Ul Abdin Siyal (12-Feb-2024)"
   ]
  },
  {
   "cell_type": "markdown",
   "metadata": {},
   "source": [
    "### Data Pipeline Part"
   ]
  },
  {
   "cell_type": "markdown",
   "metadata": {},
   "source": [
    "#### Install relevant libraries"
   ]
  },
  {
   "cell_type": "code",
   "execution_count": 41,
   "metadata": {},
   "outputs": [
    {
     "name": "stdout",
     "output_type": "stream",
     "text": [
      "Collecting psycopg2-binary\n",
      "  Obtaining dependency information for psycopg2-binary from https://files.pythonhosted.org/packages/cb/35/009b43d67a7010b789690a46d49521fd435ce33ce722fe8d7ac7efe35c21/psycopg2_binary-2.9.9-cp39-cp39-win_amd64.whl.metadata\n",
      "  Downloading psycopg2_binary-2.9.9-cp39-cp39-win_amd64.whl.metadata (4.6 kB)\n",
      "Downloading psycopg2_binary-2.9.9-cp39-cp39-win_amd64.whl (1.2 MB)\n",
      "   ---------------------------------------- 1.2/1.2 MB 5.3 MB/s eta 0:00:00\n",
      "Installing collected packages: psycopg2-binary\n",
      "Successfully installed psycopg2-binary-2.9.9\n"
     ]
    }
   ],
   "source": [
    "!pip install psycopg2-binary"
   ]
  },
  {
   "cell_type": "code",
   "execution_count": 2,
   "metadata": {},
   "outputs": [],
   "source": [
    "## Import All Libraries\n",
    "\n",
    "# for ArcGIS geoprocessing\n",
    "import arcpy\n",
    "\n",
    "# for interacting with PostgreSQL/PostGIS database\n",
    "import psycopg2\n",
    "\n",
    "# for encoding and decoding JSON data\n",
    "import json\n",
    "\n",
    "# for making HTTP requests to web services and APIs\n",
    "import requests\n",
    "\n",
    "# for pattern matching and string manipulation\n",
    "import re #regular expression\n",
    "\n",
    "# for interacting with the operating system\n",
    "import os\n",
    "\n",
    "# arcgis.gis is part of the ArcGIS API for Python, used for working with GIS data and services\n",
    "from arcgis.gis import GIS\n",
    "\n",
    "# for interacting with the Python runtime environment\n",
    "import sys"
   ]
  },
  {
   "cell_type": "markdown",
   "metadata": {},
   "source": [
    "## Workflow"
   ]
  },
  {
   "cell_type": "markdown",
   "metadata": {},
   "source": [
    "### Created a Polygon using arcpy Geometry Primitives"
   ]
  },
  {
   "cell_type": "code",
   "execution_count": 65,
   "metadata": {},
   "outputs": [],
   "source": [
    "# Define the polygon using arcpy geometry primitives\n",
    "polygon = arcpy.Polygon(\n",
    "    arcpy.Array([\n",
    "        arcpy.Point(-93.22456694058349, 44.97656707355932), #Huntington Bank\n",
    "        arcpy.Point(-93.25750208433475, 44.97369530667097), #US Bank\n",
    "        arcpy.Point(-93.21775917100368, 44.884844671870496), #MSP Airport\n",
    "        arcpy.Point(-93.09021376922068, 44.95341865709891), #Downtown St. Paul\n",
    "    ])\n",
    ")"
   ]
  },
  {
   "cell_type": "markdown",
   "metadata": {},
   "source": [
    "### Convert the polygon to Well-Known Text (WKT)"
   ]
  },
  {
   "cell_type": "code",
   "execution_count": 66,
   "metadata": {},
   "outputs": [],
   "source": [
    "polygon_wkt = polygon.WKT"
   ]
  },
  {
   "cell_type": "markdown",
   "metadata": {},
   "source": [
    "### Connect to the PostGIS database"
   ]
  },
  {
   "cell_type": "code",
   "execution_count": 76,
   "metadata": {},
   "outputs": [],
   "source": [
    "conn = psycopg2.connect(\n",
    "    host=\"34.122.229.143\",\n",
    "    port=\"5432\",\n",
    "    database=\"lab1\",\n",
    "    user=\"postgres\",\n",
    "    password=\"your_password\"\n",
    ")"
   ]
  },
  {
   "cell_type": "markdown",
   "metadata": {},
   "source": [
    "### Create a cursor to execute SQL queries"
   ]
  },
  {
   "cell_type": "code",
   "execution_count": 77,
   "metadata": {},
   "outputs": [],
   "source": [
    "cur = conn.cursor() "
   ]
  },
  {
   "cell_type": "markdown",
   "metadata": {},
   "source": [
    "#### SKIP THE FOLLOWING CELL"
   ]
  },
  {
   "cell_type": "code",
   "execution_count": 75,
   "metadata": {},
   "outputs": [
    {
     "ename": "InterfaceError",
     "evalue": "connection already closed",
     "output_type": "error",
     "traceback": [
      "\u001b[0;31m---------------------------------------------------------------------------\u001b[0m\n\u001b[0;31mInterfaceError\u001b[0m                            Traceback (most recent call last)",
      "In  \u001b[0;34m[75]\u001b[0m:\nLine \u001b[0;34m4\u001b[0m:     conn.rollback()\u001b[37m\u001b[39;49;00m\n",
      "\u001b[0;31mInterfaceError\u001b[0m: connection already closed\n\u001b[0;31m---------------------------------------------------------------------------\u001b[0m"
     ]
    }
   ],
   "source": [
    "### SKIP THIS!\n",
    "#This will end the current transaction and allow to start a new one\n",
    "\n",
    "conn.rollback()"
   ]
  },
  {
   "cell_type": "markdown",
   "metadata": {},
   "source": [
    "### Execute SQL query to insert the polygon into the PostGIS database\n",
    "\n",
    "Created Zain_Table in th PGAdmin before running the following query"
   ]
  },
  {
   "cell_type": "code",
   "execution_count": 78,
   "metadata": {},
   "outputs": [],
   "source": [
    "sql_query = f\"INSERT INTO Zain_Table1 (geom) VALUES (ST_GeomFromText('{polygon_wkt}', 4326));\""
   ]
  },
  {
   "cell_type": "code",
   "execution_count": 79,
   "metadata": {},
   "outputs": [],
   "source": [
    "cur.execute(sql_query) #Execute the above sql_query"
   ]
  },
  {
   "cell_type": "markdown",
   "metadata": {},
   "source": [
    "### Commit the transaction and close the connection"
   ]
  },
  {
   "cell_type": "code",
   "execution_count": 80,
   "metadata": {},
   "outputs": [],
   "source": [
    "conn.commit() #saves any pending transactions to the database\n",
    "cur.close() #closes the cursor associated with the database connection.\n",
    "conn.close() #closes the database connection "
   ]
  },
  {
   "cell_type": "code",
   "execution_count": null,
   "metadata": {},
   "outputs": [],
   "source": []
  },
  {
   "cell_type": "markdown",
   "metadata": {},
   "source": [
    "### Fetching and Parsing Geometric Data from API"
   ]
  },
  {
   "cell_type": "code",
   "execution_count": 17,
   "metadata": {},
   "outputs": [],
   "source": [
    "# Your API endpoint\n",
    "api = 'http://34.67.91.226:5000/get_polygon'\n",
    "\n",
    "try:\n",
    "    response = requests.get(api)\n",
    "    response.raise_for_status()\n",
    "    dictionary = json.loads(response.text)\n",
    "except requests.exceptions.RequestException as e:\n",
    "    print(f\"Error during API request: {e}\")\n",
    "    exit()"
   ]
  },
  {
   "cell_type": "markdown",
   "metadata": {},
   "source": [
    "### Processing API Response\n",
    "A conditional check and data extraction process to handle the geometry information from the API response."
   ]
  },
  {
   "cell_type": "code",
   "execution_count": 18,
   "metadata": {},
   "outputs": [
    {
     "name": "stdout",
     "output_type": "stream",
     "text": [
      "{'type': 'MultiPolygon', 'coordinates': [[[[-93.224487305, 44.97668457], [-93.257507324, 44.973693848], [-93.217712402, 44.884887695], [-93.090209961, 44.953491211], [-93.224487305, 44.97668457]]]]}\n"
     ]
    }
   ],
   "source": [
    "# Check if 'features' key exists\n",
    "if 'features' in dictionary and len(dictionary['features']) > 0:\n",
    "    # Extract geometry from the first feature\n",
    "    geometry_str = dictionary['features'][0]['geometry']\n",
    "\n",
    "    # Replace multiple occurrences using a regular expression\n",
    "    geometry_str = re.sub(r'\\[\\[\\[\\[\\[', '[[[', geometry_str)\n",
    "    geometry_str = re.sub(r'\\]\\]\\]\\]\\]', ']]]', geometry_str)\n",
    "\n",
    "    try:\n",
    "        # Parse the cleaned geometry string into a dictionary\n",
    "        geometry_dict = json.loads(geometry_str)\n",
    "        print(geometry_dict)\n",
    "    except json.JSONDecodeError as e:\n",
    "        print(f\"Error decoding geometry string: {e}\")\n",
    "else:\n",
    "    print(\"Error: 'features' key not found or empty in the API response.\")"
   ]
  },
  {
   "cell_type": "markdown",
   "metadata": {},
   "source": [
    "### Create a GeoJSON dictionary"
   ]
  },
  {
   "cell_type": "code",
   "execution_count": 19,
   "metadata": {},
   "outputs": [],
   "source": [
    "# Specify GeoJSON dictionary name and then create\n",
    "Lab1geojson = {\n",
    "  \"type\": \"FeatureCollection\",\n",
    "  \"features\": [\n",
    "    {\n",
    "      \"type\": \"Feature\",\n",
    "      \"properties\": {},\n",
    "      \"geometry\": {\n",
    "        \"coordinates\": geometry_dict['coordinates'],\n",
    "        \"type\": \"Polygon\"\n",
    "      }\n",
    "    }\n",
    "  ]\n",
    "}\n",
    "\n",
    "# Use raw string (r'') for Windows paths to handle backslashes\n",
    "path = os.path.join(r'F:\\1. UMN MGIS\\1. Semesters\\4th Semester\\1. ArcGIS II\\2. Labs\\ArcPro\\ArcGIS II', 'Lab1geojson.json')\n",
    "\n",
    "# Use 'with' statement for file handling to ensure proper closing\n",
    "with open(path, 'w') as json_file:\n",
    "    json.dump(Lab1geojson, json_file, indent=2)  # Indent for better readability"
   ]
  },
  {
   "cell_type": "markdown",
   "metadata": {},
   "source": [
    "### Sign into ArcGIS Online Account"
   ]
  },
  {
   "cell_type": "code",
   "execution_count": 16,
   "metadata": {},
   "outputs": [
    {
     "name": "stdout",
     "output_type": "stream",
     "text": [
      "Error signing in: A general error occurred: Too many invalid attempts. Please try again later.\n"
     ]
    },
    {
     "ename": "SystemExit",
     "evalue": "",
     "output_type": "error",
     "traceback": [
      "\u001b[0;31m---------------------------------------------------------------------------\u001b[0m\n\u001b[0;31mSystemExit\u001b[0m                                Traceback (most recent call last)",
      "In  \u001b[0;34m[16]\u001b[0m:\nLine \u001b[0;34m10\u001b[0m:    sys.exit()\u001b[37m\u001b[39;49;00m\n",
      "\u001b[0;31mSystemExit\u001b[0m: \n\u001b[0;31m---------------------------------------------------------------------------\u001b[0m"
     ]
    }
   ],
   "source": [
    "username = 'your_email'\n",
    "password = 'your_password'\n",
    "\n",
    "try:\n",
    "    gis = GIS('https://www.arcgis.com', username, password)\n",
    "    print(\"Successfully signed in to ArcGIS Online.\")\n",
    "except Exception as e:\n",
    "    print(f\"Error signing in: {e}\")\n",
    "    # Handle the error or exit the program\n",
    "    sys.exit()"
   ]
  },
  {
   "cell_type": "code",
   "execution_count": null,
   "metadata": {},
   "outputs": [],
   "source": []
  }
 ],
 "metadata": {
  "kernelspec": {
   "display_name": "ArcGISPro",
   "language": "Python",
   "name": "python3"
  },
  "language_info": {
   "file_extension": ".py",
   "name": "python",
   "version": "3"
  }
 },
 "nbformat": 4,
 "nbformat_minor": 2
}
